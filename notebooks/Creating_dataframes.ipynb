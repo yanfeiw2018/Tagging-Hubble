{
 "cells": [
  {
   "cell_type": "code",
   "execution_count": null,
   "metadata": {},
   "outputs": [],
   "source": [
    "import json\n",
    "import pandas as pd"
   ]
  },
  {
   "cell_type": "code",
   "execution_count": null,
   "metadata": {},
   "outputs": [],
   "source": [
    "with open('hst_bibcodes.json', 'r') as f:\n",
    "    datastore = json.load(f)"
   ]
  },
  {
   "cell_type": "code",
   "execution_count": null,
   "metadata": {},
   "outputs": [],
   "source": [
    "# get total number of papers\n",
    "count = 0\n",
    "for i in range(len(datastore)):\n",
    "     for j in range(len(datastore[i])):\n",
    "            count = count + 1\n",
    "            \n",
    "count"
   ]
  },
  {
   "cell_type": "code",
   "execution_count": null,
   "metadata": {},
   "outputs": [],
   "source": [
    "# convert file to dataframe\n",
    "data_dict = [];\n",
    "for i in range(len(datastore)):\n",
    "     for j in range(len(datastore[i])):\n",
    "            data_dict.append(datastore[i][j])\n",
    "            \n",
    "len(data_dict)\n",
    "df_raw = pd.DataFrame(data_dict)\n",
    "df_raw.head()"
   ]
  },
  {
   "cell_type": "code",
   "execution_count": null,
   "metadata": {},
   "outputs": [],
   "source": [
    "df_v1 = df_raw[['abstract','bibcode','body','keyword','keyword_norm','title']]\n",
    "df_v1.to_csv('/Users/yanfeiwang/Downloads/df1.csv', index=False)"
   ]
  },
  {
   "cell_type": "code",
   "execution_count": null,
   "metadata": {},
   "outputs": [],
   "source": [
    "df_key_v1 = df_v1[['bibcode','keyword','keyword_norm']]"
   ]
  },
  {
   "cell_type": "code",
   "execution_count": null,
   "metadata": {},
   "outputs": [],
   "source": [
    "keyword_nalist = df_key_v1[df_key_v1['keyword'].isna() == True].index.tolist()\n",
    "for i in keyword_nalist:\n",
    "    df_key_v1.loc[i, 'keyword'] = '[]';\n",
    "\n",
    "keyword_nalist = df_key_v1[df_key_v1['keyword_norm'].isna() == True].index.tolist()\n",
    "for i in keyword_nalist:\n",
    "    df_key_v1.loc[i, 'keyword_norm'] = '[]';\n",
    "# replace nan items in keyword section with empty list as placeholder\n",
    "\n",
    "df_key_v1.to_csv('/Users/yanfeiwang/Downloads/df_key_v1.csv', index=False)\n",
    "#This version only has 3 columns, bibcode and cleaned-up 'keyword' and 'keyword_norm'. \n",
    "#Since the last two blocks take long time to run, it's worth saving a version here."
   ]
  }
 ],
 "metadata": {
  "kernelspec": {
   "display_name": "Python 3",
   "language": "python",
   "name": "python3"
  },
  "language_info": {
   "codemirror_mode": {
    "name": "ipython",
    "version": 3
   },
   "file_extension": ".py",
   "mimetype": "text/x-python",
   "name": "python",
   "nbconvert_exporter": "python",
   "pygments_lexer": "ipython3",
   "version": "3.7.3"
  }
 },
 "nbformat": 4,
 "nbformat_minor": 2
}
