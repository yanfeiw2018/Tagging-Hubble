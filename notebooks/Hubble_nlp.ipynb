{
 "cells": [
  {
   "cell_type": "code",
   "execution_count": 2,
   "metadata": {},
   "outputs": [],
   "source": [
    "import numpy as np\n",
    "import pandas as pd\n",
    "import re\n",
    "import nltk\n",
    "import gensim\n",
    "from gensim import models\n",
    "from gensim import corpora\n",
    "import ast"
   ]
  },
  {
   "cell_type": "markdown",
   "metadata": {},
   "source": [
    "# Start with keywords and titles"
   ]
  },
  {
   "cell_type": "code",
   "execution_count": 3,
   "metadata": {},
   "outputs": [],
   "source": [
    "import matplotlib.pyplot as plt\n",
    "pd.options.display.max_colwidth = 200\n",
    "%matplotlib inline\n",
    "\n",
    "import unicodedata\n",
    "from nltk.tokenize import word_tokenize\n",
    "from string import punctuation\n",
    "remove_terms = punctuation\n",
    "sent_tokenizer = nltk.data.load('tokenizers/punkt/english.pickle')\n",
    "\n",
    "import spacy\n",
    "nlp = spacy.load('en')\n",
    "\n",
    "from sklearn.feature_extraction.text import TfidfVectorizer"
   ]
  },
  {
   "cell_type": "code",
   "execution_count": 4,
   "metadata": {
    "collapsed": true
   },
   "outputs": [
    {
     "data": {
      "text/html": [
       "<div>\n",
       "<style scoped>\n",
       "    .dataframe tbody tr th:only-of-type {\n",
       "        vertical-align: middle;\n",
       "    }\n",
       "\n",
       "    .dataframe tbody tr th {\n",
       "        vertical-align: top;\n",
       "    }\n",
       "\n",
       "    .dataframe thead th {\n",
       "        text-align: right;\n",
       "    }\n",
       "</style>\n",
       "<table border=\"1\" class=\"dataframe\">\n",
       "  <thead>\n",
       "    <tr style=\"text-align: right;\">\n",
       "      <th></th>\n",
       "      <th>abstract</th>\n",
       "      <th>bibcode</th>\n",
       "      <th>body</th>\n",
       "      <th>keyword</th>\n",
       "      <th>keyword_norm</th>\n",
       "      <th>title</th>\n",
       "    </tr>\n",
       "  </thead>\n",
       "  <tbody>\n",
       "    <tr>\n",
       "      <th>0</th>\n",
       "      <td>Stellar-wind variability in the archetypal nonradially pulsating O star ζ Oph (09.5 V) is discussed on the basis of new time-series lUE and HST spectroscopy and archival results. Time-variable \"di...</td>\n",
       "      <td>1993ApJ...417..338H</td>\n",
       "      <td>\\nTHE ASTROPHYSICAL JOURNAL, 417 : 338-346, 1993 November 1\\n© 1993. The American Astronomical Society. All rights reserved. Printed in U.S.A.\\n\\n\\nTIME-SERIES OBSERVATIONS OF 0 STARS. III. IUE AN...</td>\n",
       "      <td>['STARS: EARLY-TYPE', 'STARS: INDIVIDUAL CONSTELLATION NAME: ζ OPHIUCHI', 'STARS: MASS LOSS', 'ULTRAVIOLET: STARS']</td>\n",
       "      <td>['stars early type', '-', 'stars luminosity function;mass function', 'astronomy uv']</td>\n",
       "      <td>[\"Time-Series Observations of O Stars. III. IUE and HST Spectroscopy of zeta Ophiuchi and Implications for the ``Photospheric Connection''\"]</td>\n",
       "    </tr>\n",
       "    <tr>\n",
       "      <th>1</th>\n",
       "      <td>We present an analysis of observations of 24 absorption lines produced zero redshift by Milky Way disk and halo gas along the sight line to 3C 273. The observations were obtained with the intermed...</td>\n",
       "      <td>1993ApJ...404..124S</td>\n",
       "      <td>\\nTHE ASTROPHYSICAL JOURNAL, 404: 124-143, 1993 February 10\\n© 1993. The American Astronomical Society. All rights reserved. Printed in U.S.A.\\n\\n\\nOBSERVATIONS OF THE GASEOUS GALACTIC HALO TOWARD...</td>\n",
       "      <td>['Absorption Spectra', 'Astronomical Spectroscopy', 'Galactic Halos', 'Interstellar Gas', 'Milky Way Galaxy', 'Abundance', 'Galactic Structure', 'Ionized Gases', 'Quasars', 'Spectral Line Width', ...</td>\n",
       "      <td>['absorption', 'techniques spectroscopic', 'galaxies halos', 'ism dust extinction', 'galaxy general', 'nuclear reactions;nucleosynthesis;abundances', 'galaxies structure', 'astrochemistry', 'galax...</td>\n",
       "      <td>['Observations of the Gaseous Galactic Halo toward 3C 273 with the Goddard High Resolution Spectrograph']</td>\n",
       "    </tr>\n",
       "    <tr>\n",
       "      <th>2</th>\n",
       "      <td>The Faint Object Camera on the HST has imaged the central region of the synchrotron jet in 3C 66B with ultra-high spatial resolutions. The images have an angular resolution of 0.1'', corresponding...</td>\n",
       "      <td>1991ApJ...373L..55M</td>\n",
       "      <td>19 91ApJ. . .373L. .55M\\n\\nThe Astrophysical Journal, 373:L55-L58,1991 June 1\\n© 1991. The American Astronomical Society. All rights reserved. Printed in U.S.A.\\n\\nHST OBSERVATIONS OF 3C 66B: A DO...</td>\n",
       "      <td>['Hubble Space Telescope', 'Radio Galaxies', 'Radio Jets (Astronomy)', 'Faint Objects', 'Galactic Structure', 'Interstellar Magnetic Fields', 'Spatial Resolution', 'Synchrotron Radiation', 'Very L...</td>\n",
       "      <td>['space vehicles', 'astronomy radio', 'astronomy radio', 'faint objects', 'galaxies structure', 'ism magnetic fields', 'telescopes', 'synchrotron radiation', '-', '-', 'galaxies', 'galaxies jets',...</td>\n",
       "      <td>['HST Observations of 3C 66B: A Double-stranded Optical Jet']</td>\n",
       "    </tr>\n",
       "    <tr>\n",
       "      <th>3</th>\n",
       "      <td>We have used the Goddard Infrared Array Camera to obtain a high resolution (0.7\" FWHM) image of the nucleus of NGC 1068 at 12.4 microns. The location of the 12.4 micron peak relative to the peak o...</td>\n",
       "      <td>1993ApJ...409L...5B</td>\n",
       "      <td>\\nTmAnonwsxcALJouRNAL, 409:L5-L8, 1993 May20\\n© 1993.The American Astronomical Society. All rights reserved. Printed in U.S.A.\\n\\n\\nHIGH-RESOLUTION MID-INFRARED IMAGING AND ASTROMETRY OF THE NUCLE...</td>\n",
       "      <td>['Active Galactic Nuclei', 'Astrometry', 'Infrared Imagery', 'Seyfert Galaxies', 'Cosmic Dust', 'Infrared Astronomy', 'Molecular Clouds', 'Thermal Emission', 'Astronomy', 'ASTROMETRY', 'GALAXIES: ...</td>\n",
       "      <td>['galaxies active', 'astrometry', 'astronomy infrared', 'galaxies seyfert', 'cosmic dust', 'astronomy infrared', 'astrochemistry', 'thermodynamics', '-', 'astrometry', 'galaxies active', 'galaxies...</td>\n",
       "      <td>['High-Resolution Mid-Infrared Imaging and Astrometry of the Nucleus of the Seyfert Galaxy NGC 1068']</td>\n",
       "    </tr>\n",
       "    <tr>\n",
       "      <th>4</th>\n",
       "      <td>New high spatial resolution observations of the material around Eta Carinae, obtained with the Hubble Space Telescope Wide Field/Planetary Camera, are presented. The star Eta Carinae is one of the...</td>\n",
       "      <td>1991AJ....102..654H</td>\n",
       "      <td>102. . 654H\\n\\nVOLUME 102, NUMBER 2\\n\\nTHE ASTRONOMICAL JOURNAL\\n\\nAUGUST 1991\\n\\n1991AJ\\n\\nHUBBLE SPACE TELESCOPE IMAGING OF 7] CARINAE\\nJ. Jeff Hester\\nInfrared Processing and Analysis Center, M...</td>\n",
       "      <td>['Hubble Space Telescope', 'Massive Stars', 'Milky Way Galaxy', 'Nebulae', 'Stellar Luminosity', 'Stellar Models', 'Stellar Winds', 'Wolf-Rayet Stars', 'Astrophysics', 'STARS: MASSIVE']</td>\n",
       "      <td>['space vehicles', '-', 'galaxy general', 'nebulae', 'stars luminosity function;mass function', '-', 'stars winds outflows', 'stars wolf rayet', '-', '-']</td>\n",
       "      <td>['Hubble Space Telescope Imaging of N Carninae']</td>\n",
       "    </tr>\n",
       "  </tbody>\n",
       "</table>\n",
       "</div>"
      ],
      "text/plain": [
       "                                                                                                                                                                                                  abstract  \\\n",
       "0  Stellar-wind variability in the archetypal nonradially pulsating O star ζ Oph (09.5 V) is discussed on the basis of new time-series lUE and HST spectroscopy and archival results. Time-variable \"di...   \n",
       "1  We present an analysis of observations of 24 absorption lines produced zero redshift by Milky Way disk and halo gas along the sight line to 3C 273. The observations were obtained with the intermed...   \n",
       "2  The Faint Object Camera on the HST has imaged the central region of the synchrotron jet in 3C 66B with ultra-high spatial resolutions. The images have an angular resolution of 0.1'', corresponding...   \n",
       "3  We have used the Goddard Infrared Array Camera to obtain a high resolution (0.7\" FWHM) image of the nucleus of NGC 1068 at 12.4 microns. The location of the 12.4 micron peak relative to the peak o...   \n",
       "4  New high spatial resolution observations of the material around Eta Carinae, obtained with the Hubble Space Telescope Wide Field/Planetary Camera, are presented. The star Eta Carinae is one of the...   \n",
       "\n",
       "               bibcode  \\\n",
       "0  1993ApJ...417..338H   \n",
       "1  1993ApJ...404..124S   \n",
       "2  1991ApJ...373L..55M   \n",
       "3  1993ApJ...409L...5B   \n",
       "4  1991AJ....102..654H   \n",
       "\n",
       "                                                                                                                                                                                                      body  \\\n",
       "0  \\nTHE ASTROPHYSICAL JOURNAL, 417 : 338-346, 1993 November 1\\n© 1993. The American Astronomical Society. All rights reserved. Printed in U.S.A.\\n\\n\\nTIME-SERIES OBSERVATIONS OF 0 STARS. III. IUE AN...   \n",
       "1  \\nTHE ASTROPHYSICAL JOURNAL, 404: 124-143, 1993 February 10\\n© 1993. The American Astronomical Society. All rights reserved. Printed in U.S.A.\\n\\n\\nOBSERVATIONS OF THE GASEOUS GALACTIC HALO TOWARD...   \n",
       "2  19 91ApJ. . .373L. .55M\\n\\nThe Astrophysical Journal, 373:L55-L58,1991 June 1\\n© 1991. The American Astronomical Society. All rights reserved. Printed in U.S.A.\\n\\nHST OBSERVATIONS OF 3C 66B: A DO...   \n",
       "3  \\nTmAnonwsxcALJouRNAL, 409:L5-L8, 1993 May20\\n© 1993.The American Astronomical Society. All rights reserved. Printed in U.S.A.\\n\\n\\nHIGH-RESOLUTION MID-INFRARED IMAGING AND ASTROMETRY OF THE NUCLE...   \n",
       "4  102. . 654H\\n\\nVOLUME 102, NUMBER 2\\n\\nTHE ASTRONOMICAL JOURNAL\\n\\nAUGUST 1991\\n\\n1991AJ\\n\\nHUBBLE SPACE TELESCOPE IMAGING OF 7] CARINAE\\nJ. Jeff Hester\\nInfrared Processing and Analysis Center, M...   \n",
       "\n",
       "                                                                                                                                                                                                   keyword  \\\n",
       "0                                                                                      ['STARS: EARLY-TYPE', 'STARS: INDIVIDUAL CONSTELLATION NAME: ζ OPHIUCHI', 'STARS: MASS LOSS', 'ULTRAVIOLET: STARS']   \n",
       "1  ['Absorption Spectra', 'Astronomical Spectroscopy', 'Galactic Halos', 'Interstellar Gas', 'Milky Way Galaxy', 'Abundance', 'Galactic Structure', 'Ionized Gases', 'Quasars', 'Spectral Line Width', ...   \n",
       "2  ['Hubble Space Telescope', 'Radio Galaxies', 'Radio Jets (Astronomy)', 'Faint Objects', 'Galactic Structure', 'Interstellar Magnetic Fields', 'Spatial Resolution', 'Synchrotron Radiation', 'Very L...   \n",
       "3  ['Active Galactic Nuclei', 'Astrometry', 'Infrared Imagery', 'Seyfert Galaxies', 'Cosmic Dust', 'Infrared Astronomy', 'Molecular Clouds', 'Thermal Emission', 'Astronomy', 'ASTROMETRY', 'GALAXIES: ...   \n",
       "4                ['Hubble Space Telescope', 'Massive Stars', 'Milky Way Galaxy', 'Nebulae', 'Stellar Luminosity', 'Stellar Models', 'Stellar Winds', 'Wolf-Rayet Stars', 'Astrophysics', 'STARS: MASSIVE']   \n",
       "\n",
       "                                                                                                                                                                                              keyword_norm  \\\n",
       "0                                                                                                                     ['stars early type', '-', 'stars luminosity function;mass function', 'astronomy uv']   \n",
       "1  ['absorption', 'techniques spectroscopic', 'galaxies halos', 'ism dust extinction', 'galaxy general', 'nuclear reactions;nucleosynthesis;abundances', 'galaxies structure', 'astrochemistry', 'galax...   \n",
       "2  ['space vehicles', 'astronomy radio', 'astronomy radio', 'faint objects', 'galaxies structure', 'ism magnetic fields', 'telescopes', 'synchrotron radiation', '-', '-', 'galaxies', 'galaxies jets',...   \n",
       "3  ['galaxies active', 'astrometry', 'astronomy infrared', 'galaxies seyfert', 'cosmic dust', 'astronomy infrared', 'astrochemistry', 'thermodynamics', '-', 'astrometry', 'galaxies active', 'galaxies...   \n",
       "4                                               ['space vehicles', '-', 'galaxy general', 'nebulae', 'stars luminosity function;mass function', '-', 'stars winds outflows', 'stars wolf rayet', '-', '-']   \n",
       "\n",
       "                                                                                                                                          title  \n",
       "0  [\"Time-Series Observations of O Stars. III. IUE and HST Spectroscopy of zeta Ophiuchi and Implications for the ``Photospheric Connection''\"]  \n",
       "1                                     ['Observations of the Gaseous Galactic Halo toward 3C 273 with the Goddard High Resolution Spectrograph']  \n",
       "2                                                                                 ['HST Observations of 3C 66B: A Double-stranded Optical Jet']  \n",
       "3                                         ['High-Resolution Mid-Infrared Imaging and Astrometry of the Nucleus of the Seyfert Galaxy NGC 1068']  \n",
       "4                                                                                              ['Hubble Space Telescope Imaging of N Carninae']  "
      ]
     },
     "execution_count": 4,
     "metadata": {},
     "output_type": "execute_result"
    }
   ],
   "source": [
    "df1 = pd.read_csv('df1.csv')\n",
    "df1.head() # has all the necessary columns, but keyword and keyword_norm are not clean"
   ]
  },
  {
   "cell_type": "code",
   "execution_count": 37,
   "metadata": {},
   "outputs": [],
   "source": [
    "df_check = pd.read_csv('df_key_0620.csv')"
   ]
  },
  {
   "cell_type": "code",
   "execution_count": 38,
   "metadata": {
    "collapsed": true
   },
   "outputs": [
    {
     "data": {
      "text/html": [
       "<div>\n",
       "<style scoped>\n",
       "    .dataframe tbody tr th:only-of-type {\n",
       "        vertical-align: middle;\n",
       "    }\n",
       "\n",
       "    .dataframe tbody tr th {\n",
       "        vertical-align: top;\n",
       "    }\n",
       "\n",
       "    .dataframe thead th {\n",
       "        text-align: right;\n",
       "    }\n",
       "</style>\n",
       "<table border=\"1\" class=\"dataframe\">\n",
       "  <thead>\n",
       "    <tr style=\"text-align: right;\">\n",
       "      <th></th>\n",
       "      <th>bibcode</th>\n",
       "      <th>key_0620</th>\n",
       "    </tr>\n",
       "  </thead>\n",
       "  <tbody>\n",
       "    <tr>\n",
       "      <th>0</th>\n",
       "      <td>1993ApJ...417..338H</td>\n",
       "      <td>['star individual constellation name ophiuchi', 'star luminosity functionmass function', 'star early type', 'ultraviolet star', 'star earlytype', 'astronomy uv', 'star mass loss', 'timeserie', 'iu...</td>\n",
       "    </tr>\n",
       "    <tr>\n",
       "      <th>1</th>\n",
       "      <td>1993ApJ...404..124S</td>\n",
       "      <td>['absorption spectra', 'astronomical spectroscopy', 'nuclear reactionsnucleosynthesisabundance', 'ionized gas', 'astrochemistry', 'galaxy kinematic and dynamic', 'ism dust extinction', 'interstell...</td>\n",
       "    </tr>\n",
       "    <tr>\n",
       "      <th>2</th>\n",
       "      <td>1991ApJ...373L..55M</td>\n",
       "      <td>['radio source galaxy', 'radio galaxy', 'astronomy radio', 'astrophysic', 'faint object', 'galaxy jet', 'interstellar magnetic field', 'ism magnetic field', 'telescope', 'very large array vla', 'h...</td>\n",
       "    </tr>\n",
       "    <tr>\n",
       "      <th>3</th>\n",
       "      <td>1993ApJ...409L...5B</td>\n",
       "      <td>['cosmic dust', 'astronomy infrared', 'astrochemistry', 'infrared astronomy', 'astrometry', 'galaxy nucleus', 'thermodynamic', 'active galactic nucleus', 'molecular cloud', 'thermal emission', 'ga...</td>\n",
       "    </tr>\n",
       "    <tr>\n",
       "      <th>4</th>\n",
       "      <td>1991AJ....102..654H</td>\n",
       "      <td>['space vehicle', 'astrophysic', 'galaxy general', 'star wind outflow', 'nebulae', 'stellar luminosity', 'star luminosity functionmass function', 'hubble space telescope', 'stellar wind', 'wolfray...</td>\n",
       "    </tr>\n",
       "    <tr>\n",
       "      <th>5</th>\n",
       "      <td>1993Natur.365..133T</td>\n",
       "      <td>['space vehicle', 'astrophysic', 'synchrotron radiation', 'galaxy quasar', 'mhd', 'extragalactic radio source', 'hubble space telescope', 'energetic particle', 'instrumentation detector', 'faint o...</td>\n",
       "    </tr>\n",
       "    <tr>\n",
       "      <th>6</th>\n",
       "      <td>1993PASP..105.1273H</td>\n",
       "      <td>['star novaecataclysmic variable', 'iue', 'instrumentation detector', 'star variable', 'astronomy radio', 'astronomy uv', 'cataclysmic variable', 'ism jet and outflow', 'ultraviolet photometry', '...</td>\n",
       "    </tr>\n",
       "    <tr>\n",
       "      <th>7</th>\n",
       "      <td>1992AJ....104..959R</td>\n",
       "      <td>['ism dust extinction', 'astrophysic', 'galaxy quasar', 'astronomical model', 'galaxy elliptical lenticularcd', 'hubble space telescope', 'mass to light ratio', 'gravitational lensing', 'interstel...</td>\n",
       "    </tr>\n",
       "    <tr>\n",
       "      <th>8</th>\n",
       "      <td>1993ApJ...411..750H</td>\n",
       "      <td>['tin', 'nuclear reaction', 'nuclear reactionsnucleosynthesisabundance', 'instrumentation spectrograph', 'heavy element', 'astrophysic', 'ism atom', 'interstellar matter', 'ism cloud', 'atom', 'hu...</td>\n",
       "    </tr>\n",
       "    <tr>\n",
       "      <th>9</th>\n",
       "      <td>1993AJ....106..455K</td>\n",
       "      <td>['sky brightness', 'instrumentation detector', 'radio galaxy', 'astronomy radio', 'galactic evolution', 'astrophysic', 'faint object', 'slit', 'technique photometric', 'hubble space telescope', 'g...</td>\n",
       "    </tr>\n",
       "  </tbody>\n",
       "</table>\n",
       "</div>"
      ],
      "text/plain": [
       "               bibcode  \\\n",
       "0  1993ApJ...417..338H   \n",
       "1  1993ApJ...404..124S   \n",
       "2  1991ApJ...373L..55M   \n",
       "3  1993ApJ...409L...5B   \n",
       "4  1991AJ....102..654H   \n",
       "5  1993Natur.365..133T   \n",
       "6  1993PASP..105.1273H   \n",
       "7  1992AJ....104..959R   \n",
       "8  1993ApJ...411..750H   \n",
       "9  1993AJ....106..455K   \n",
       "\n",
       "                                                                                                                                                                                                  key_0620  \n",
       "0  ['star individual constellation name ophiuchi', 'star luminosity functionmass function', 'star early type', 'ultraviolet star', 'star earlytype', 'astronomy uv', 'star mass loss', 'timeserie', 'iu...  \n",
       "1  ['absorption spectra', 'astronomical spectroscopy', 'nuclear reactionsnucleosynthesisabundance', 'ionized gas', 'astrochemistry', 'galaxy kinematic and dynamic', 'ism dust extinction', 'interstell...  \n",
       "2  ['radio source galaxy', 'radio galaxy', 'astronomy radio', 'astrophysic', 'faint object', 'galaxy jet', 'interstellar magnetic field', 'ism magnetic field', 'telescope', 'very large array vla', 'h...  \n",
       "3  ['cosmic dust', 'astronomy infrared', 'astrochemistry', 'infrared astronomy', 'astrometry', 'galaxy nucleus', 'thermodynamic', 'active galactic nucleus', 'molecular cloud', 'thermal emission', 'ga...  \n",
       "4  ['space vehicle', 'astrophysic', 'galaxy general', 'star wind outflow', 'nebulae', 'stellar luminosity', 'star luminosity functionmass function', 'hubble space telescope', 'stellar wind', 'wolfray...  \n",
       "5  ['space vehicle', 'astrophysic', 'synchrotron radiation', 'galaxy quasar', 'mhd', 'extragalactic radio source', 'hubble space telescope', 'energetic particle', 'instrumentation detector', 'faint o...  \n",
       "6  ['star novaecataclysmic variable', 'iue', 'instrumentation detector', 'star variable', 'astronomy radio', 'astronomy uv', 'cataclysmic variable', 'ism jet and outflow', 'ultraviolet photometry', '...  \n",
       "7  ['ism dust extinction', 'astrophysic', 'galaxy quasar', 'astronomical model', 'galaxy elliptical lenticularcd', 'hubble space telescope', 'mass to light ratio', 'gravitational lensing', 'interstel...  \n",
       "8  ['tin', 'nuclear reaction', 'nuclear reactionsnucleosynthesisabundance', 'instrumentation spectrograph', 'heavy element', 'astrophysic', 'ism atom', 'interstellar matter', 'ism cloud', 'atom', 'hu...  \n",
       "9  ['sky brightness', 'instrumentation detector', 'radio galaxy', 'astronomy radio', 'galactic evolution', 'astrophysic', 'faint object', 'slit', 'technique photometric', 'hubble space telescope', 'g...  "
      ]
     },
     "execution_count": 38,
     "metadata": {},
     "output_type": "execute_result"
    }
   ],
   "source": [
    "df_check.head(10)"
   ]
  },
  {
   "cell_type": "code",
   "execution_count": 40,
   "metadata": {},
   "outputs": [
    {
     "data": {
      "text/plain": [
       "16408"
      ]
     },
     "execution_count": 40,
     "metadata": {},
     "output_type": "execute_result"
    }
   ],
   "source": [
    "len(df_check)"
   ]
  },
  {
   "cell_type": "code",
   "execution_count": 41,
   "metadata": {},
   "outputs": [
    {
     "data": {
      "text/plain": [
       "49109"
      ]
     },
     "execution_count": 41,
     "metadata": {},
     "output_type": "execute_result"
    }
   ],
   "source": [
    "keywords = []\n",
    "for i in range(500):\n",
    "    a = ast.literal_eval(df_check['key_0620'][i])\n",
    "    keywords = keywords + a\n",
    "len(keywords)"
   ]
  },
  {
   "cell_type": "code",
   "execution_count": 69,
   "metadata": {
    "collapsed": true
   },
   "outputs": [
    {
     "data": {
      "text/plain": [
       "[('nas526555', 899),\n",
       " ('orbital', 500),\n",
       " ('orbit', 500),\n",
       " ('opticallythin', 500),\n",
       " ('optical', 499),\n",
       " ('opticalcounterpart', 499),\n",
       " ('opticaldepth', 499),\n",
       " ('orbitalperiod', 499),\n",
       " ('opacity', 498),\n",
       " ('opticalimage', 498),\n",
       " ('opticalemission', 498),\n",
       " ('orientation', 498),\n",
       " ('ordermagnitude', 498),\n",
       " ('opticallythick', 498),\n",
       " ('opticalspectroscopy', 498),\n",
       " ('opticalspectra', 498),\n",
       " ('opticalnearinfrar', 498),\n",
       " ('ongoingstar', 497),\n",
       " ('original', 495),\n",
       " ('ongoing', 494),\n",
       " ('oldstellar', 491),\n",
       " ('originate', 491),\n",
       " ('oldstar', 490),\n",
       " ('nearbygalaxy', 488),\n",
       " ('nearir', 488),\n",
       " ('nearinfrar', 485),\n",
       " ('nearinfrared', 484),\n",
       " ('outburst', 482),\n",
       " ('often', 479),\n",
       " ('nature', 479),\n",
       " ('outer', 477),\n",
       " ('nationalaeronautic', 477),\n",
       " ('offset', 474),\n",
       " ('nebulae', 474),\n",
       " ('national', 469),\n",
       " ('offer', 468),\n",
       " ('nasaesatelescope', 468),\n",
       " ('nasacontract', 466),\n",
       " ('outerdisk', 465),\n",
       " ('occur', 464),\n",
       " ('nebular', 461),\n",
       " ('obvious', 455),\n",
       " ('observational', 449),\n",
       " ('observable', 441),\n",
       " ('outerregion', 439),\n",
       " ('objectspectrograph', 439),\n",
       " ('narrowlineregion', 439),\n",
       " ('obscure', 435),\n",
       " ('numerous', 430),\n",
       " ('nebularemission', 420),\n",
       " ('numericalsimulation', 417),\n",
       " ('nucleusagn', 412),\n",
       " ('namely', 402),\n",
       " ('nuclearregion', 401),\n",
       " ('note', 400),\n",
       " ('north', 398),\n",
       " ('normal', 394),\n",
       " ('nv', 387),\n",
       " ('noise', 387),\n",
       " ('necessary', 369),\n",
       " ('need', 352),\n",
       " ('nir', 350),\n",
       " ('nii', 346),\n",
       " ('nicmo', 335),\n",
       " ('ngc', 335),\n",
       " ('neutral', 328),\n",
       " ('space vehicle', 323),\n",
       " ('outflowvelocity', 317),\n",
       " ('neutronstar', 317),\n",
       " ('neutralgas', 315),\n",
       " ('neutralhydrogen', 314),\n",
       " ('hubble space telescope', 312),\n",
       " ('nh', 295),\n",
       " ('myr', 257),\n",
       " ('overlap', 246),\n",
       " ('multiwavelength', 211),\n",
       " ('astrophysic', 206),\n",
       " ('astronomy uv', 200),\n",
       " ('owe', 174),\n",
       " ('telescope', 155),\n",
       " ('multiple', 147),\n",
       " ('oxygen', 122),\n",
       " ('instrumentation detector', 113),\n",
       " ('technique photometric', 110),\n",
       " ('star fundamental parameter', 104),\n",
       " ('hst', 101),\n",
       " ('star luminosity functionmass function', 100),\n",
       " ('faintobject', 89),\n",
       " ('ultraviolet astronomy', 89),\n",
       " ('ultraviolet spectra', 82),\n",
       " ('multiobjectspectrometer', 78),\n",
       " ('galaxy quasar', 77),\n",
       " ('technique spectroscopic', 72),\n",
       " ('astronomical photometry', 72),\n",
       " ('spectrograph', 68),\n",
       " ('line profile', 67),\n",
       " ('pair', 67),\n",
       " ('absorption spectra', 65),\n",
       " ('technique image processing', 65),\n",
       " ('astrochemistry', 62),\n",
       " ('faint object camera', 62),\n",
       " ('method datum analysis', 62),\n",
       " ('line spectra', 58),\n",
       " ('line identification', 58),\n",
       " ('instrumentation spectrograph', 55),\n",
       " ('emission spectra', 53),\n",
       " ('red shift', 50),\n",
       " ('emissionline', 50),\n",
       " ('spaceborne astronomy', 50),\n",
       " ('nuclear reactionsnucleosynthesisabundance', 49),\n",
       " ('ultraviolet', 49),\n",
       " ('telescopehst', 49),\n",
       " ('stellar luminosity', 48),\n",
       " ('astronomical model', 48),\n",
       " ('ultraviolet star', 46),\n",
       " ('galaxy nucleus', 46),\n",
       " ('astronomical spectroscopy', 45),\n",
       " ('planetarycamera', 45),\n",
       " ('cluster globular', 44),\n",
       " ('atom', 42),\n",
       " ('stellar spectra', 42),\n",
       " ('galaxy structure', 41),\n",
       " ('luminosity', 41),\n",
       " ('redshift', 39),\n",
       " ('instrumentation miscellaneous', 39),\n",
       " ('ism dust extinction', 38),\n",
       " ('ism abundance', 38),\n",
       " ('parallel', 38),\n",
       " ('iue', 38),\n",
       " ('ism cloud', 38),\n",
       " ('globular cluster', 38),\n",
       " ('globularcluster', 38),\n",
       " ('astronomy radio', 37),\n",
       " ('galaxy seyfert', 37),\n",
       " ('galaxy evolution', 36),\n",
       " ('solar system general', 36),\n",
       " ('goddardresolution', 35),\n",
       " ('galaxy active', 35),\n",
       " ('galactic structure', 34),\n",
       " ('interstellar matter', 34),\n",
       " ('expect', 32),\n",
       " ('galactic evolution', 30),\n",
       " ('correspond', 30),\n",
       " ('lyman alpha radiation', 30),\n",
       " ('star novaecataclysmic variable', 29),\n",
       " ('high resolution', 29),\n",
       " ('astronomical photography', 29),\n",
       " ('photometry', 29),\n",
       " ('image processing', 29),\n",
       " ('carbon', 29),\n",
       " ('columndensity', 28),\n",
       " ('galaxy elliptical lenticularcd', 28),\n",
       " ('mgii', 27),\n",
       " ('absorptionline', 27),\n",
       " ('project', 27),\n",
       " ('method analytical', 27),\n",
       " ('lightcurve', 27),\n",
       " ('spectrographghrs', 27),\n",
       " ('approximately', 26),\n",
       " ('atmosphere', 26),\n",
       " ('astronomy visible', 26),\n",
       " ('visible spectrum', 26),\n",
       " ('civ', 25),\n",
       " ('active galactic nucleus', 25),\n",
       " ('seyfert galaxy', 25),\n",
       " ('probably', 24),\n",
       " ('star wind outflow', 24),\n",
       " ('ism hii region', 24),\n",
       " ('colormagnitude diagram', 24),\n",
       " ('stellar evolution', 24),\n",
       " ('star white dwarf', 24),\n",
       " ('widefield', 24),\n",
       " ('interstellar gas', 23),\n",
       " ('faint object', 23),\n",
       " ('star variable', 23),\n",
       " ('linesight', 23),\n",
       " ('accretion disk', 23),\n",
       " ('galaxy magellanic cloud', 23),\n",
       " ('ultraviolet galaxy', 23),\n",
       " ('contain', 23),\n",
       " ('mag', 23),\n",
       " ('galaxy halo', 22),\n",
       " ('star formation', 22),\n",
       " ('magellanic cloud', 22),\n",
       " ('ionization', 22),\n",
       " ('could', 22),\n",
       " ('spectrum analysis', 22),\n",
       " ('charge couple device', 22),\n",
       " ('x10', 22),\n",
       " ('galaxy general', 21),\n",
       " ('elliptical galaxy', 21),\n",
       " ('galaxy star cluster', 21),\n",
       " ('signal to noise ratio', 21),\n",
       " ('stellar wind', 20),\n",
       " ('interstellar', 20),\n",
       " ('planet and satellite', 20),\n",
       " ('white dwarf star', 20),\n",
       " ('astronomy visual', 20),\n",
       " ('calibrate', 20),\n",
       " ('radiation', 19),\n",
       " ('stellar envelope', 19),\n",
       " ('relative', 19),\n",
       " ('know', 19),\n",
       " ('level', 19),\n",
       " ('mpc', 19),\n",
       " ('galaxy intergalactic medium', 19),\n",
       " ('method numerical', 19),\n",
       " ('galaxy quasar absorption line', 19),\n",
       " ('star mass loss', 18),\n",
       " ('milky way galaxy', 18),\n",
       " ('great', 18),\n",
       " ('width', 18),\n",
       " ('would', 18),\n",
       " ('centralregion', 18),\n",
       " ('describe', 18),\n",
       " ('positionangle', 18),\n",
       " ('stellar spectrophotometry', 18),\n",
       " ('largemagellanic', 18),\n",
       " ('hstimage', 18),\n",
       " ('characteristic', 18),\n",
       " ('hydrogen', 18),\n",
       " ('polarization', 17),\n",
       " ('stellar model', 17),\n",
       " ('cataclysmic variable', 17),\n",
       " ('datum reduction', 17),\n",
       " ('yield', 17),\n",
       " ('star binary general', 17),\n",
       " ('star abundance', 17),\n",
       " ('whitedwarf', 17),\n",
       " ('qso', 17),\n",
       " ('set', 17),\n",
       " ('ism planetary nebula', 17),\n",
       " ('weak', 17),\n",
       " ('o star', 17),\n",
       " ('method statistical', 17),\n",
       " ('change', 17),\n",
       " ('comparable', 17),\n",
       " ('individual', 17),\n",
       " ('ultraviolet ism', 17),\n",
       " ('motion', 16),\n",
       " ('astrometry', 16),\n",
       " ('position', 16),\n",
       " ('starformation', 16),\n",
       " ('galactic nucleus', 16),\n",
       " ('least', 16),\n",
       " ('binary star', 16),\n",
       " ('stellarwind', 16),\n",
       " ('seyfertgalaxy', 16),\n",
       " ('luminosityfunction', 16),\n",
       " ('ultraviolet spectroscopy', 16),\n",
       " ('light curve', 16),\n",
       " ('galaxy cluster', 16),\n",
       " ('explain', 16),\n",
       " ('sightline', 15),\n",
       " ('siiv', 15),\n",
       " ('galaxy jet', 15),\n",
       " ('amp', 15),\n",
       " ('gravitational lensing', 15),\n",
       " ('h ii region', 15),\n",
       " ('quality', 15),\n",
       " ('telescopeimage', 15),\n",
       " ('lowredshift', 15),\n",
       " ('require', 15),\n",
       " ('astronomy x ray', 15),\n",
       " ('exposure', 15),\n",
       " ('propose', 15),\n",
       " ('photoionization', 15),\n",
       " ('goddardhighresolution', 15),\n",
       " ('absorptionfeature', 15),\n",
       " ('cameraimage', 15),\n",
       " ('significantly', 15),\n",
       " ('metallicity', 15),\n",
       " ('dominate', 15),\n",
       " ('ionized gas', 14),\n",
       " ('radio jet astronomy', 14),\n",
       " ('direction', 14),\n",
       " ('rather', 14),\n",
       " ('typical', 14),\n",
       " ('star cluster', 14),\n",
       " ('lineprofile', 14),\n",
       " ('scatter', 14),\n",
       " ('spectrographtelescope', 14),\n",
       " ('error', 14),\n",
       " ('galaxy spiral', 14),\n",
       " ('pulsar', 14),\n",
       " ('respect', 14),\n",
       " ('brightness distribution', 14),\n",
       " ('galactic cluster', 14),\n",
       " ('galaxy photometry', 14),\n",
       " ('surfacebrightness', 14),\n",
       " ('groundbased', 14),\n",
       " ('stellar mass', 14),\n",
       " ('bluestraggler', 14),\n",
       " ('upper', 14),\n",
       " ('initial', 14),\n",
       " ('star circumstellar matter', 14),\n",
       " ('stellar magnitude', 14),\n",
       " ('determination', 14),\n",
       " ('star early type', 13),\n",
       " ('galactic halo', 13),\n",
       " ('equivalentwidth', 13),\n",
       " ('knot', 13),\n",
       " ('interstellar extinction', 13),\n",
       " ('gravitational lens', 13),\n",
       " ('agreement', 13),\n",
       " ('assume', 13),\n",
       " ('arcsec', 13),\n",
       " ('ism general', 13),\n",
       " ('feii', 13),\n",
       " ('galaxy quasar general', 13),\n",
       " ('shock wave', 13),\n",
       " ('oxygen spectra', 13),\n",
       " ('plasma', 13),\n",
       " ('lunar and planetary exploration', 13),\n",
       " ('point spread function', 13),\n",
       " ('test', 13),\n",
       " ('problem', 13),\n",
       " ('galaxy starburst', 13),\n",
       " ('visible', 13),\n",
       " ('point', 13),\n",
       " ('highresolution', 13),\n",
       " ('analyze', 13),\n",
       " ('powerlaw', 13),\n",
       " ('case', 13),\n",
       " ('publish', 13),\n",
       " ('material', 13),\n",
       " ('main sequence star', 13),\n",
       " ('star main sequence', 13),\n",
       " ('slope', 13),\n",
       " ('cosmology observation', 13),\n",
       " ('siii', 12),\n",
       " ('phase', 12),\n",
       " ('extended', 12),\n",
       " ('thermodynamic', 12),\n",
       " ('galaxyngc', 12),\n",
       " ('separation', 12),\n",
       " ('image analysis', 12),\n",
       " ('demonstrate', 12),\n",
       " ('velocitydispersion', 12),\n",
       " ('hii', 12),\n",
       " ('starcluster', 12),\n",
       " ('pointsource', 12),\n",
       " ('massloss', 12),\n",
       " ('star distribution', 12),\n",
       " ('massivestar', 12),\n",
       " ('hypothesis', 12),\n",
       " ('view', 12),\n",
       " ('cosmology miscellaneous', 12),\n",
       " ('cosmology', 12),\n",
       " ('additional', 12),\n",
       " ('strength', 12),\n",
       " ('star pre main sequence', 12),\n",
       " ('albedo', 12),\n",
       " ('spiral galaxy', 12),\n",
       " ('second', 12),\n",
       " ('exist', 12),\n",
       " ('cause', 12),\n",
       " ('star earlytype', 11),\n",
       " ('molecular cloud', 11),\n",
       " ('telescopeimaging', 11),\n",
       " ('spatialresolution', 11),\n",
       " ('surround', 11),\n",
       " ('fieldcamera', 11),\n",
       " ('accurate', 11),\n",
       " ('ism atom', 11),\n",
       " ('area', 11),\n",
       " ('signaltonoiseratio', 11),\n",
       " ('radio astronomy', 11),\n",
       " ('interact galaxy', 11),\n",
       " ('galaxy interaction', 11),\n",
       " ('filter', 11),\n",
       " ('ion', 11),\n",
       " ('transition', 11),\n",
       " ('fainter', 11),\n",
       " ('law', 11),\n",
       " ('lead', 11),\n",
       " ('ionize', 11),\n",
       " ('h alpha line', 11),\n",
       " ('constraint', 11),\n",
       " ('conclude', 11),\n",
       " ('cosmology distance scale', 11),\n",
       " ('long', 11),\n",
       " ('half', 11),\n",
       " ('presumably', 11),\n",
       " ('sky survey astronomy', 11),\n",
       " ('colormagnitudediagram', 11),\n",
       " ('place', 11),\n",
       " ('black hole physics', 11),\n",
       " ('activegalactic', 11),\n",
       " ('ionizedgas', 11),\n",
       " ('substantial', 11),\n",
       " ('galaxy kinematic and dynamic', 10),\n",
       " ('apparent', 10),\n",
       " ('information', 10),\n",
       " ('radio galaxy', 10),\n",
       " ('spatial resolution', 10),\n",
       " ('cosmic dust', 10),\n",
       " ('telescopewide', 10),\n",
       " ('interaction', 10),\n",
       " ('element', 10),\n",
       " ('maximum', 10),\n",
       " ('stellarpopulation', 10),\n",
       " ('calculation', 10),\n",
       " ('argue', 10),\n",
       " ('radii', 10),\n",
       " ('unresolved', 10),\n",
       " ('follow', 10),\n",
       " ('brightstar', 10),\n",
       " ('accuracy', 10),\n",
       " ('absorptionsystem', 10),\n",
       " ('mainsequence', 10),\n",
       " ('sequence', 10),\n",
       " ('resemble', 10),\n",
       " ('cosmology gravitational lensing', 10),\n",
       " ('curve', 10),\n",
       " ('clusterngc', 10),\n",
       " ('although', 10),\n",
       " ('wavelengthrange', 10),\n",
       " ('galaxy stellar content', 10),\n",
       " ('interstellarabsorption', 10),\n",
       " ('accretiondisk', 10),\n",
       " ('fact', 10),\n",
       " ('variable', 10),\n",
       " ('wave', 10),\n",
       " ('strongly', 10),\n",
       " ('apply', 10),\n",
       " ('ellipticalgalaxy', 10),\n",
       " ('intensity', 10),\n",
       " ('satellite', 10),\n",
       " ('black hole astronomy', 10),\n",
       " ('geometry', 10),\n",
       " ('relate', 10),\n",
       " ('star binary eclipse', 10),\n",
       " ('relatively', 10),\n",
       " ('rotation', 10),\n",
       " ('sun', 10),\n",
       " ('spectral line width', 9),\n",
       " ('highlyionized', 9),\n",
       " ('lyman', 9),\n",
       " ('clearly', 9),\n",
       " ('star wolf rayet', 9),\n",
       " ('massive star', 9),\n",
       " ('shell', 9),\n",
       " ('gravitationallens', 9),\n",
       " ('projectdistance', 9),\n",
       " ('intrinsic', 9),\n",
       " ('ultraviolet interstellar', 9),\n",
       " ('21cm', 9),\n",
       " ('star chromosphere', 9),\n",
       " ('sun chromosphere', 9),\n",
       " ('chromosphere', 9),\n",
       " ('mode', 9),\n",
       " ('epoch', 9),\n",
       " ('intergalactic medium', 9),\n",
       " ('lyabsorption', 9),\n",
       " ('data', 9),\n",
       " ('zgt', 9),\n",
       " ('sulfur', 9),\n",
       " ('nitrogen', 9),\n",
       " ('cover', 9),\n",
       " ('location', 9),\n",
       " ('virgocluster', 9),\n",
       " ('shape', 9),\n",
       " ('light visible radiation', 9),\n",
       " ('starburst galaxy', 9),\n",
       " ('diameter', 9),\n",
       " ('star novae', 9),\n",
       " ('novae', 9),\n",
       " ('prominent', 9),\n",
       " ('gradient', 9),\n",
       " ('astronomical polarimetry', 9),\n",
       " ('technique polarimetric', 9),\n",
       " ('depletion', 9),\n",
       " ('galacticglobular', 9),\n",
       " ('iron', 9),\n",
       " ('method observational', 9),\n",
       " ('supernovae', 9),\n",
       " ('even', 9),\n",
       " ('star late type', 9),\n",
       " ('iii5007', 9),\n",
       " ('recently', 9),\n",
       " ('magellaniccloud', 9),\n",
       " ('lineemission', 9),\n",
       " ('construct', 9),\n",
       " ('shock', 9),\n",
       " ('spiralgalaxy', 9),\n",
       " ('monitor', 9),\n",
       " ('blue star', 9),\n",
       " ('stellar color', 9),\n",
       " ('lie', 9),\n",
       " ('frequency', 9),\n",
       " ('mathematical model', 9),\n",
       " ('quantify', 9),\n",
       " ('kinematic and dynamic', 9),\n",
       " ('approach', 9),\n",
       " ('eclipse', 9),\n",
       " ('optical filter', 9),\n",
       " ('andor', 9),\n",
       " ('zetaophiuchi', 8),\n",
       " ('standard', 8),\n",
       " ('very large array vla', 8),\n",
       " ('angularresolution', 8),\n",
       " ('astronomy infrared', 8),\n",
       " ('electron', 8),\n",
       " ('extent', 8),\n",
       " ('peak', 8),\n",
       " ('wolfrayet star', 8),\n",
       " ('single', 8),\n",
       " ('ism jet and outflow', 8),\n",
       " ('interpretation', 8),\n",
       " ('clump', 8),\n",
       " ('common', 8),\n",
       " ('constant', 8),\n",
       " ('photometric', 8),\n",
       " ('ultravioletspectra', 8),\n",
       " ('quasarabsorption', 8),\n",
       " ('linekey', 8),\n",
       " ('modeling', 8),\n",
       " ('error analysis', 8),\n",
       " ('survey', 8),\n",
       " ('galaxy ism', 8),\n",
       " ('reflect', 8),\n",
       " ('sensitive', 8),\n",
       " ('xray', 8),\n",
       " ('algorithm', 8),\n",
       " ('power', 8),\n",
       " ('blackhole', 8),\n",
       " ('generate', 8),\n",
       " ('frame', 8),\n",
       " ('faintgalaxy', 8),\n",
       " ('count', 8),\n",
       " ('lowmass', 8),\n",
       " ('absorber', 8),\n",
       " ('comet', 8),\n",
       " ('hstimaging', 8),\n",
       " ('expand', 8),\n",
       " ('dense', 8),\n",
       " ('ultraviolet radiation', 8),\n",
       " ('h beta line', 8),\n",
       " ('consist', 8),\n",
       " ('define', 8),\n",
       " ('stellar mass ejection', 8),\n",
       " ('far ultraviolet radiation', 8),\n",
       " ('helium', 8),\n",
       " ('m31', 8),\n",
       " ('emissionfeature', 8),\n",
       " ('index', 8),\n",
       " ('image reconstruction', 8),\n",
       " ('quiescent', 8),\n",
       " ('quite', 8),\n",
       " ('diagram', 8),\n",
       " ('major', 8),\n",
       " ('star individual constellation name zeta ophiuchi', 8),\n",
       " ('boardtelescope', 8),\n",
       " ('target', 8),\n",
       " ('modelatmosphere', 8),\n",
       " ('massfunction', 8),\n",
       " ('centralstar', 8),\n",
       " ('largescale', 8),\n",
       " ('space science', 8),\n",
       " ('characterize', 8),\n",
       " ('locate', 8),\n",
       " ('quasar absorption line', 8),\n",
       " ('period', 8),\n",
       " ('star latetype', 8),\n",
       " ('short', 8),\n",
       " ('arise', 8),\n",
       " ('velocity distribution', 8),\n",
       " ('equal', 8),\n",
       " ('silicon', 8),\n",
       " ('silicat', 8),\n",
       " ('kinematic', 8),\n",
       " ('star luminosity function', 8),\n",
       " ('lyman spectra', 8),\n",
       " ('variability', 7),\n",
       " ('spectral resolution', 7),\n",
       " ('specie', 7),\n",
       " ('technique', 7),\n",
       " ('synchrotron radiation', 7),\n",
       " ('galaxy individual ngc number ngc 1068', 7),\n",
       " ('fwhm', 7),\n",
       " ('correct', 7),\n",
       " ('term', 7),\n",
       " ('map', 7),\n",
       " ('possibility', 7),\n",
       " ('typically', 7),\n",
       " ('stellar atmosphere', 7),\n",
       " ('light scattering', 7),\n",
       " ('probable', 7),\n",
       " ('jupiter atmosphere', 7),\n",
       " ('aurora', 7),\n",
       " ('particle', 7),\n",
       " ('ciii', 7),\n",
       " ('cepheid variable', 7),\n",
       " ('radiative transfer', 7),\n",
       " ('cataclysmicvariable', 7),\n",
       " ('galacticnucleus', 7),\n",
       " ('saturn atmosphere', 7),\n",
       " ('latitude', 7),\n",
       " ('vary', 7),\n",
       " ('galaxy formation', 7),\n",
       " ('ultraviolet absorption', 7),\n",
       " ('general', 7),\n",
       " ('planetary nebula', 7),\n",
       " ('dynamical', 7),\n",
       " ('contribute', 7),\n",
       " ('carbon monoxide', 7),\n",
       " ('pressure', 7),\n",
       " ('instrument', 7),\n",
       " ('spectralresolution', 7),\n",
       " ('move', 7),\n",
       " ('uvoptical', 7),\n",
       " ('complete', 7),\n",
       " ('seem', 7),\n",
       " ('lowsurface', 7),\n",
       " ('imagetelescope', 7),\n",
       " ('astronomical observatory', 7),\n",
       " ('calibration', 7),\n",
       " ('distancemodulus', 7),\n",
       " ('day', 7),\n",
       " ('differ', 7),\n",
       " ('star evolution', 7),\n",
       " ('complex', 7),\n",
       " ('satellite observation', 7),\n",
       " ('hst satellite', 7),\n",
       " ('condition', 7),\n",
       " ('decrease', 7),\n",
       " ('distant', 7),\n",
       " ('correction', 7),\n",
       " ('solarsystem', 7),\n",
       " ('envelope', 7),\n",
       " ('primarily', 7),\n",
       " ('product', 7),\n",
       " ('lifetime', 7),\n",
       " ('rapid', 7),\n",
       " ('orion nebula', 7),\n",
       " ('indication', 7),\n",
       " ('cosmology dark matter', 7),\n",
       " ('branch', 7),\n",
       " ('bulge', 7),\n",
       " ('important', 7),\n",
       " ('sensitivity', 7),\n",
       " ('galaxy individual', 7),\n",
       " ('grain', 7),\n",
       " ('stable', 7),\n",
       " ('member', 7),\n",
       " ('probe', 7),\n",
       " ('theoretical', 7),\n",
       " ('quantity', 7),\n",
       " ('mass function', 7),\n",
       " ('stellar temperature', 7),\n",
       " ('disk galaxy', 7),\n",
       " ('extension', 6),\n",
       " ('cii', 6),\n",
       " ('trace', 6),\n",
       " ('magneticfield', 6),\n",
       " ('torus', 6),\n",
       " ('symbiotic star', 6),\n",
       " ('generally', 6),\n",
       " ('radiogalaxy', 6),\n",
       " ('morphological', 6),\n",
       " ('remnant', 6),\n",
       " ('red giant star', 6),\n",
       " ('electrondensity', 6),\n",
       " ('fall', 6),\n",
       " ('broadabsorption', 6),\n",
       " ('absorb', 6),\n",
       " ('current', 6),\n",
       " ('emit', 6),\n",
       " ('axis', 6),\n",
       " ('satellite atmosphere', 6),\n",
       " ('respectively', 6),\n",
       " ('ultravioletabsorption', 6),\n",
       " ('stellar composition', 6),\n",
       " ('cosmic ray', 6),\n",
       " ('hotgas', 6),\n",
       " ('premain sequence star', 6),\n",
       " ('angular resolution', 6),\n",
       " ('double', 6),\n",
       " ('far', 6),\n",
       " ('broadband', 6),\n",
       " ('starburst', 6),\n",
       " ('optical thickness', 6),\n",
       " ('saturn', 6),\n",
       " ('interpret', 6),\n",
       " ('earlier', 6),\n",
       " ('ophiuchi cloud', 6),\n",
       " ('galaxy distance and redshift', 6),\n",
       " ('magnesium', 6),\n",
       " ('forbid transition', 6),\n",
       " ('ngc1068', 6),\n",
       " ('extreme', 6),\n",
       " ('classical', 6),\n",
       " ('contrast', 6),\n",
       " ('trend', 6),\n",
       " ('line shape', 6),\n",
       " ('front', 6),\n",
       " ('star individual constellation name chi lupi', 6),\n",
       " ('jupiter', 6),\n",
       " ('directly', 6),\n",
       " ('objectcamera', 6),\n",
       " ('contribution', 6),\n",
       " ('tucanae', 6),\n",
       " ('edge', 6),\n",
       " ('bubble', 6),\n",
       " ('deg', 6),\n",
       " ('star variable cepheid', 6),\n",
       " ('cepheid', 6),\n",
       " ('precision', 6),\n",
       " ('calculate', 6),\n",
       " ('particular', 6),\n",
       " ('interstellarmedium', 6),\n",
       " ('star hr diagram', 6),\n",
       " ('initialmass', 6),\n",
       " ('planetarynebula', 6),\n",
       " ('bulk', 6),\n",
       " ('horizontalbranch', 6),\n",
       " ('ism herbig haro object', 6),\n",
       " ('star binary symbiotic', 6),\n",
       " ('herbigharo object', 6),\n",
       " ('isophote', 6),\n",
       " ('propermotion', 6),\n",
       " ('uvcontinuum', 6),\n",
       " ('depend', 6),\n",
       " ('sn1987a', 6),\n",
       " ('gravitation', 6),\n",
       " ('dark matter', 6),\n",
       " ('ism dust', 6),\n",
       " ('potential', 6),\n",
       " ('statistic', 6),\n",
       " ('agree', 6),\n",
       " ('discover', 6),\n",
       " ('satelliteborne photography', 6),\n",
       " ('hii region', 6),\n",
       " ('broademission', 6),\n",
       " ('existence', 6),\n",
       " ('side', 6),\n",
       " ('investigate', 6),\n",
       " ('star oscillation', 6),\n",
       " ('establish', 6),\n",
       " ('line of sight', 6),\n",
       " ('diskhalo', 6),\n",
       " ('improve', 6),\n",
       " ('blueshift', 6),\n",
       " ('radial velocity', 6),\n",
       " ('mediumdeep', 6),\n",
       " ('computerized simulation', 6),\n",
       " ('line formation', 6),\n",
       " ('thus', 6),\n",
       " ('wfpc2', 6),\n",
       " ('latter', 6),\n",
       " ('galaxy rotation', 6),\n",
       " ('galactic rotation', 6),\n",
       " ('ism', 6),\n",
       " ('ionized', 6),\n",
       " ('perhaps', 6),\n",
       " ('atomic spectra', 6),\n",
       " ('radialvelocity', 6),\n",
       " ('galaxy globular cluster', 6),\n",
       " ('phenomenon', 5),\n",
       " ('behavior', 5),\n",
       " ('lowdensity', 5),\n",
       " ('lmc', 5),\n",
       " ('amount', 5),\n",
       " ('intermediate', 5),\n",
       " ('plane', 5),\n",
       " ('similarity', 5),\n",
       " ('smooth', 5),\n",
       " ('still', 5),\n",
       " ('infrared', 5),\n",
       " ('associated', 5),\n",
       " ('series', 5),\n",
       " ('arc', 5),\n",
       " ('extragalactic', 5),\n",
       " ('ultraviolet photometry', 5),\n",
       " ('degree', 5),\n",
       " ('atomic datum', 5),\n",
       " ('spectrographboard', 5),\n",
       " ('correlate', 5),\n",
       " ('classify', 5),\n",
       " ('plus', 5),\n",
       " ('rise', 5),\n",
       " ('milky', 5),\n",
       " ('influence', 5),\n",
       " ('ghrs', 5),\n",
       " ('velocityfield', 5),\n",
       " ('compute', 5),\n",
       " ('rule', 5),\n",
       " ('galaxycluster', 5),\n",
       " ('theoreticalmodel', 5),\n",
       " ('binarysystem', 5),\n",
       " ('flow', 5),\n",
       " ('polar region', 5),\n",
       " ('telescopefaint', 5),\n",
       " ('30doradus', 5),\n",
       " ('rest', 5),\n",
       " ('fully', 5),\n",
       " ('preferentially', 5),\n",
       " ('activenucleus', 5),\n",
       " ('radiocontinuum', 5),\n",
       " ('hn', 5),\n",
       " ('true', 5),\n",
       " ('bar', 5),\n",
       " ('identification', 5),\n",
       " ('break', 5),\n",
       " ('exclude', 5),\n",
       " ('x ray source', 5),\n",
       " ('rosat mission', 5),\n",
       " ('begin', 5),\n",
       " ('lowluminosity', 5),\n",
       " ('useful', 5),\n",
       " ('b star', 5),\n",
       " ('guidance sensor', 5),\n",
       " ('seyfert', 5),\n",
       " ('pixel', 5),\n",
       " ('sun transition region', 5),\n",
       " ('primary', 5),\n",
       " ('modest', 5),\n",
       " ('counterpart', 5),\n",
       " ('uncertainty', 5),\n",
       " ('spread', 5),\n",
       " ('burst', 5),\n",
       " ('remarkable', 5),\n",
       " ('galaxyz', 5),\n",
       " ('develop', 5),\n",
       " ('ism molecule', 5),\n",
       " ('diffusecloud', 5),\n",
       " ('display', 5),\n",
       " ('balmer series', 5),\n",
       " ('guidancesensor', 5),\n",
       " ('early star', 5),\n",
       " ('photosphere', 5),\n",
       " ('virgo galactic cluster', 5),\n",
       " ('detailed', 5),\n",
       " ('whether', 5),\n",
       " ('image resolution', 5),\n",
       " ('asymptotic giant branch star', 5),\n",
       " ('accompany', 5),\n",
       " ('discovery', 5),\n",
       " ('spot', 5),\n",
       " ('lack', 5),\n",
       " ('fast', 5),\n",
       " ('iiregion', 5),\n",
       " ('radioemission', 5),\n",
       " ('like', 5),\n",
       " ('stellar flare', 5),\n",
       " ('event', 5),\n",
       " ('ultraviolet emission', 5),\n",
       " ('giant star', 5),\n",
       " ('enhance', 5),\n",
       " ('galaxy quasar emission line', 5),\n",
       " ('distinct', 5),\n",
       " ('technique interferometric', 5),\n",
       " ('code', 5),\n",
       " ('cosmic', 5),\n",
       " ('uvspectra', 5),\n",
       " ('youngstar', 5),\n",
       " ('zlt', 5),\n",
       " ('clusterm15', 5),\n",
       " ('star atmosphere', 5),\n",
       " ('dustgrain', 5),\n",
       " ('supernova 1987a', 5),\n",
       " ('supernova', 5),\n",
       " ('star premainsequence', 5),\n",
       " ('bowshock', 5),\n",
       " ('radial distribution', 5),\n",
       " ('campaign', 5),\n",
       " ('mainsequenceturnoff', 5),\n",
       " ('add', 5),\n",
       " ('dwarf star', 5),\n",
       " ('giantbranch', 5),\n",
       " ('earlytypegalaxy', 5),\n",
       " ('lyline', 5),\n",
       " ('wouldexpect', 5),\n",
       " ('example', 5),\n",
       " ('highvelocity', 5),\n",
       " ('infall', 5),\n",
       " ('coreglobular', 5),\n",
       " ('galaxy elliptical and lenticular', 5),\n",
       " ('flatten', 5),\n",
       " ('hydrodynamic', 5),\n",
       " ('spectral energy distribution', 5),\n",
       " ('andromeda galaxy', 5),\n",
       " ('ism h ii region', 5),\n",
       " ('ground', 5),\n",
       " ('production', 5),\n",
       " ('density distribution', 5),\n",
       " ('molecular process', 5),\n",
       " ('state', 5),\n",
       " ('responsible', 5),\n",
       " ('dominant', 5),\n",
       " ('flux density', 5),\n",
       " ('dwarf novae', 5),\n",
       " ('photon', 5),\n",
       " ('fieldview', 5),\n",
       " ('radiation mechanism nonthermal', 5),\n",
       " ('binary symbiotic', 5),\n",
       " ('circumstellar matter', 5),\n",
       " ('photometer', 5),\n",
       " ('attribute', 5),\n",
       " ('column', 5),\n",
       " ('angle', 5),\n",
       " ('white dwarf', 5),\n",
       " ('10k', 5),\n",
       " ('amplitude', 5),\n",
       " ('role', 4),\n",
       " ('mostly', 4),\n",
       " ('evident', 4),\n",
       " ('doublet', 4),\n",
       " ('smc', 4),\n",
       " ('exhibit', 4),\n",
       " ('infrared astronomy', 4),\n",
       " ('star massive', 4),\n",
       " ('clumpy', 4),\n",
       " ('stream', 4),\n",
       " ('mass to light ratio', 4),\n",
       " ('wide angle lens', 4),\n",
       " ('dynamical system', 4),\n",
       " ('achieve', 4),\n",
       " ('massdensity', 4),\n",
       " ('heavy element', 4),\n",
       " ('heavyelement', 4),\n",
       " ('bar galaxy', 4),\n",
       " ('galaxy bar', 4),\n",
       " ('galaxy bulge', 4),\n",
       " ('galactic bulge', 4),\n",
       " ('supernovaremnant', 4),\n",
       " ('blend', 4),\n",
       " ('vlt', 4),\n",
       " ('literature', 4),\n",
       " ('iiline', 4),\n",
       " ('plasma jet', 4),\n",
       " ('deduce', 4),\n",
       " ('ltz', 4),\n",
       " ('raquarii', 4),\n",
       " ('satelliteborne instrument', 4),\n",
       " ('vicinity', 4),\n",
       " ('youngcluster', 4),\n",
       " ('lymancontinuum', 4),\n",
       " ('sufficient', 4),\n",
       " ('iiemission', 4),\n",
       " ('planet and satellite individual jupiter', 4),\n",
       " ('ultraviolet spectrometer', 4),\n",
       " ('solar system', 4),\n",
       " ('metal', 4),\n",
       " ('bias', 4),\n",
       " ('telescopesnapshot', 4),\n",
       " ('favor', 4),\n",
       " ('apparently', 4),\n",
       " ('limb darkening', 4),\n",
       " ('separate', 4),\n",
       " ('satellite imagery', 4),\n",
       " ('somewhat', 4),\n",
       " ('stage', 4),\n",
       " ('redshiftz', 4),\n",
       " ('xray star', 4),\n",
       " ('layer', 4),\n",
       " ('planetarynebulae', 4),\n",
       " ('collapse', 4),\n",
       " ('irregular', 4),\n",
       " ('star kinematic and dynamic', 4),\n",
       " ('binarystar', 4),\n",
       " ('telescopefine', 4),\n",
       " ('select', 4),\n",
       " ('star individual name melnick 42', 4),\n",
       " ('stellarmass', 4),\n",
       " ('galaxy peculiar', 4),\n",
       " ('spectralindex', 4),\n",
       " ('echelle grating', 4),\n",
       " ('design', 4),\n",
       " ('peculiar star', 4),\n",
       " ('whereas', 4),\n",
       " ('maximum entropy method', 4),\n",
       " ('boron', 4),\n",
       " ('ophiuchi', 4),\n",
       " ('steep', 4),\n",
       " ('astronomical map', 4),\n",
       " ('atlas', 4),\n",
       " ('galaxy individual messy number m31', 4),\n",
       " ('core47', 4),\n",
       " ('continuous', 4),\n",
       " ('extensive', 4),\n",
       " ('peculiar', 4),\n",
       " ('exceed', 4),\n",
       " ('chilupi', 4),\n",
       " ('real', 4),\n",
       " ('expansion', 4),\n",
       " ('divide', 4),\n",
       " ('quiescentgalaxy', 4),\n",
       " ('cosmology cosmological parameter', 4),\n",
       " ('continuumemission', 4),\n",
       " ('coincident', 4),\n",
       " ('voyager project', 4),\n",
       " ('planet', 4),\n",
       " ('procedure', 4),\n",
       " ('start', 4),\n",
       " ('ism kinematic and dynamic', 4),\n",
       " ('rlt', 4),\n",
       " ('radio emission', 4),\n",
       " ('prior', 4),\n",
       " ...]"
      ]
     },
     "execution_count": 69,
     "metadata": {},
     "output_type": "execute_result"
    }
   ],
   "source": [
    "from collections import Counter\n",
    "dict_final = Counter(keywords)\n",
    "sorted_x = sorted(dict_final.items(), key=lambda kv: kv[1], reverse=True)\n",
    "sorted_x"
   ]
  },
  {
   "cell_type": "code",
   "execution_count": 5,
   "metadata": {},
   "outputs": [],
   "source": [
    "df_key_v1 = pd.read_csv('df_key_v1.csv')\n",
    "#This version only has 3 columns, bibcode and cleaned 'keyword' and 'keyword_norm' (nan was replaced with placeholders). "
   ]
  },
  {
   "cell_type": "code",
   "execution_count": 6,
   "metadata": {},
   "outputs": [
    {
     "data": {
      "text/plain": [
       "298"
      ]
     },
     "execution_count": 6,
     "metadata": {},
     "output_type": "execute_result"
    }
   ],
   "source": [
    "stop_words = nltk.corpus.stopwords.words('english')\n",
    "f = open('reuters_wos.txt')\n",
    "reu_stop = f.read().split()\n",
    "stop_words.extend(x for x in reu_stop if x not in stop_words)\n",
    "len(stop_words)"
   ]
  },
  {
   "cell_type": "code",
   "execution_count": 7,
   "metadata": {},
   "outputs": [],
   "source": [
    "places = []\n",
    "with open('pre2_stop.txt', 'r') as filehandle:  \n",
    "    for line in filehandle:\n",
    "        currentPlace = line[:-1]\n",
    "        places.append(currentPlace)"
   ]
  },
  {
   "cell_type": "code",
   "execution_count": 8,
   "metadata": {},
   "outputs": [
    {
     "data": {
      "text/plain": [
       "457"
      ]
     },
     "execution_count": 8,
     "metadata": {},
     "output_type": "execute_result"
    }
   ],
   "source": [
    "stop_words.extend(x for x in places if x not in stop_words)\n",
    "len(stop_words)"
   ]
  },
  {
   "cell_type": "code",
   "execution_count": 9,
   "metadata": {},
   "outputs": [],
   "source": [
    "def remove_accented_chars(text):\n",
    "    text = unicodedata.normalize('NFKD', text).encode('ascii', 'ignore').decode('utf-8', 'ignore')\n",
    "    return text\n",
    "\n",
    "def lemmatize_text(text):\n",
    "    text = nlp(text)\n",
    "    text = ' '.join([word.lemma_ if word.lemma_ != '-PRON-' else word.text for word in text])\n",
    "    return text\n",
    "\n",
    "def remove_stopwords(text):\n",
    "    tokens = word_tokenize(text)\n",
    "    tokens = [token.strip() for token in tokens]\n",
    "    filtered_tokens = [token for token in tokens if token not in stop_words]    \n",
    "    filtered_text = ' '.join(filtered_tokens) # re-create document from filtered tokens\n",
    "    return filtered_text\n",
    "\n",
    "def normalize_corpus(corpus, lemm = True, stopword_removal = True):\n",
    "    normalized_corpus = []\n",
    "    for doc in corpus:\n",
    "        doc = remove_accented_chars(doc)\n",
    "        doc = doc.lower()\n",
    "        doc = re.sub(r'[\\r|\\n|\\r\\n]+', ' ',doc) # remove extra newlines\n",
    "        doc = re.sub(' +', ' ', doc)\n",
    "        doc = doc.strip()\n",
    "        doc = re.sub(r'[^a-zA-Z0-9\\s]', '', doc, re.I|re.A) # remove special characters\n",
    "        if lemm:\n",
    "            doc = lemmatize_text(doc)\n",
    "        if stopword_removal:\n",
    "            doc = remove_stopwords(doc)\n",
    "        normalized_corpus.append(doc)\n",
    "    return normalized_corpus"
   ]
  },
  {
   "cell_type": "code",
   "execution_count": 10,
   "metadata": {},
   "outputs": [
    {
     "data": {
      "text/plain": [
       "\"['STARS: EARLY-TYPE', 'STARS: INDIVIDUAL CONSTELLATION NAME: ζ OPHIUCHI', 'STARS: MASS LOSS', 'ULTRAVIOLET: STARS']\""
      ]
     },
     "execution_count": 10,
     "metadata": {},
     "output_type": "execute_result"
    }
   ],
   "source": [
    "df_key_v1.loc[0,'keyword'] # is a string!!"
   ]
  },
  {
   "cell_type": "code",
   "execution_count": 12,
   "metadata": {},
   "outputs": [],
   "source": [
    "# make a list of all keyword and keyword_norm\n",
    "keyword_list = [];\n",
    "for i in range(len(df_key_v1)):\n",
    "    keyword_list.append(df_key_v1.loc[i,'keyword'])\n",
    "keyword_norm_list = [];\n",
    "for i in range(len(df_key_v1)):\n",
    "    keyword_norm_list.append(df_key_v1.loc[i,'keyword_norm'])"
   ]
  },
  {
   "cell_type": "code",
   "execution_count": 13,
   "metadata": {
    "collapsed": true
   },
   "outputs": [
    {
     "ename": "KeyboardInterrupt",
     "evalue": "",
     "output_type": "error",
     "traceback": [
      "\u001b[0;31m---------------------------------------------------------------------------\u001b[0m",
      "\u001b[0;31mKeyboardInterrupt\u001b[0m                         Traceback (most recent call last)",
      "\u001b[0;32m<ipython-input-13-0ce28f81d5ec>\u001b[0m in \u001b[0;36m<module>\u001b[0;34m\u001b[0m\n\u001b[1;32m      4\u001b[0m \u001b[0;32mfor\u001b[0m \u001b[0mi\u001b[0m \u001b[0;32min\u001b[0m \u001b[0mrange\u001b[0m\u001b[0;34m(\u001b[0m\u001b[0mlen\u001b[0m\u001b[0;34m(\u001b[0m\u001b[0mdf_key_v1\u001b[0m\u001b[0;34m)\u001b[0m\u001b[0;34m)\u001b[0m\u001b[0;34m:\u001b[0m\u001b[0;34m\u001b[0m\u001b[0;34m\u001b[0m\u001b[0m\n\u001b[1;32m      5\u001b[0m     \u001b[0mnorm_keyword_all\u001b[0m\u001b[0;34m.\u001b[0m\u001b[0mappend\u001b[0m\u001b[0;34m(\u001b[0m\u001b[0mnormalize_corpus\u001b[0m\u001b[0;34m(\u001b[0m\u001b[0mast\u001b[0m\u001b[0;34m.\u001b[0m\u001b[0mliteral_eval\u001b[0m\u001b[0;34m(\u001b[0m\u001b[0mkeyword_list\u001b[0m\u001b[0;34m[\u001b[0m\u001b[0mi\u001b[0m\u001b[0;34m]\u001b[0m\u001b[0;34m)\u001b[0m\u001b[0;34m,\u001b[0m \u001b[0mlemm\u001b[0m \u001b[0;34m=\u001b[0m \u001b[0;32mTrue\u001b[0m\u001b[0;34m,\u001b[0m \u001b[0mstopword_removal\u001b[0m \u001b[0;34m=\u001b[0m \u001b[0;32mFalse\u001b[0m\u001b[0;34m)\u001b[0m\u001b[0;34m)\u001b[0m\u001b[0;34m\u001b[0m\u001b[0;34m\u001b[0m\u001b[0m\n\u001b[0;32m----> 6\u001b[0;31m     \u001b[0mnorm_keyword_norm_all\u001b[0m\u001b[0;34m.\u001b[0m\u001b[0mappend\u001b[0m\u001b[0;34m(\u001b[0m\u001b[0mnormalize_corpus\u001b[0m\u001b[0;34m(\u001b[0m\u001b[0mast\u001b[0m\u001b[0;34m.\u001b[0m\u001b[0mliteral_eval\u001b[0m\u001b[0;34m(\u001b[0m\u001b[0mkeyword_norm_list\u001b[0m\u001b[0;34m[\u001b[0m\u001b[0mi\u001b[0m\u001b[0;34m]\u001b[0m\u001b[0;34m)\u001b[0m\u001b[0;34m,\u001b[0m \u001b[0mlemm\u001b[0m \u001b[0;34m=\u001b[0m \u001b[0;32mTrue\u001b[0m\u001b[0;34m,\u001b[0m \u001b[0mstopword_removal\u001b[0m \u001b[0;34m=\u001b[0m \u001b[0;32mFalse\u001b[0m\u001b[0;34m)\u001b[0m\u001b[0;34m)\u001b[0m\u001b[0;34m\u001b[0m\u001b[0;34m\u001b[0m\u001b[0m\n\u001b[0m\u001b[1;32m      7\u001b[0m \u001b[0;31m# 'galaxies evolution' should be the same as 'galaxy evolution'\u001b[0m\u001b[0;34m\u001b[0m\u001b[0;34m\u001b[0m\u001b[0;34m\u001b[0m\u001b[0m\n",
      "\u001b[0;32m<ipython-input-11-b77e0ba804b4>\u001b[0m in \u001b[0;36mnormalize_corpus\u001b[0;34m(corpus, lemm, stopword_removal)\u001b[0m\n\u001b[1;32m     25\u001b[0m         \u001b[0mdoc\u001b[0m \u001b[0;34m=\u001b[0m \u001b[0mre\u001b[0m\u001b[0;34m.\u001b[0m\u001b[0msub\u001b[0m\u001b[0;34m(\u001b[0m\u001b[0;34mr'[^a-zA-Z0-9\\s]'\u001b[0m\u001b[0;34m,\u001b[0m \u001b[0;34m''\u001b[0m\u001b[0;34m,\u001b[0m \u001b[0mdoc\u001b[0m\u001b[0;34m,\u001b[0m \u001b[0mre\u001b[0m\u001b[0;34m.\u001b[0m\u001b[0mI\u001b[0m\u001b[0;34m|\u001b[0m\u001b[0mre\u001b[0m\u001b[0;34m.\u001b[0m\u001b[0mA\u001b[0m\u001b[0;34m)\u001b[0m \u001b[0;31m# remove special characters\u001b[0m\u001b[0;34m\u001b[0m\u001b[0;34m\u001b[0m\u001b[0m\n\u001b[1;32m     26\u001b[0m         \u001b[0;32mif\u001b[0m \u001b[0mlemm\u001b[0m\u001b[0;34m:\u001b[0m\u001b[0;34m\u001b[0m\u001b[0;34m\u001b[0m\u001b[0m\n\u001b[0;32m---> 27\u001b[0;31m             \u001b[0mdoc\u001b[0m \u001b[0;34m=\u001b[0m \u001b[0mlemmatize_text\u001b[0m\u001b[0;34m(\u001b[0m\u001b[0mdoc\u001b[0m\u001b[0;34m)\u001b[0m\u001b[0;34m\u001b[0m\u001b[0;34m\u001b[0m\u001b[0m\n\u001b[0m\u001b[1;32m     28\u001b[0m         \u001b[0;32mif\u001b[0m \u001b[0mstopword_removal\u001b[0m\u001b[0;34m:\u001b[0m\u001b[0;34m\u001b[0m\u001b[0;34m\u001b[0m\u001b[0m\n\u001b[1;32m     29\u001b[0m             \u001b[0mdoc\u001b[0m \u001b[0;34m=\u001b[0m \u001b[0mremove_stopwords\u001b[0m\u001b[0;34m(\u001b[0m\u001b[0mdoc\u001b[0m\u001b[0;34m)\u001b[0m\u001b[0;34m\u001b[0m\u001b[0;34m\u001b[0m\u001b[0m\n",
      "\u001b[0;32m<ipython-input-11-b77e0ba804b4>\u001b[0m in \u001b[0;36mlemmatize_text\u001b[0;34m(text)\u001b[0m\n\u001b[1;32m      4\u001b[0m \u001b[0;34m\u001b[0m\u001b[0m\n\u001b[1;32m      5\u001b[0m \u001b[0;32mdef\u001b[0m \u001b[0mlemmatize_text\u001b[0m\u001b[0;34m(\u001b[0m\u001b[0mtext\u001b[0m\u001b[0;34m)\u001b[0m\u001b[0;34m:\u001b[0m\u001b[0;34m\u001b[0m\u001b[0;34m\u001b[0m\u001b[0m\n\u001b[0;32m----> 6\u001b[0;31m     \u001b[0mtext\u001b[0m \u001b[0;34m=\u001b[0m \u001b[0mnlp\u001b[0m\u001b[0;34m(\u001b[0m\u001b[0mtext\u001b[0m\u001b[0;34m)\u001b[0m\u001b[0;34m\u001b[0m\u001b[0;34m\u001b[0m\u001b[0m\n\u001b[0m\u001b[1;32m      7\u001b[0m     \u001b[0mtext\u001b[0m \u001b[0;34m=\u001b[0m \u001b[0;34m' '\u001b[0m\u001b[0;34m.\u001b[0m\u001b[0mjoin\u001b[0m\u001b[0;34m(\u001b[0m\u001b[0;34m[\u001b[0m\u001b[0mword\u001b[0m\u001b[0;34m.\u001b[0m\u001b[0mlemma_\u001b[0m \u001b[0;32mif\u001b[0m \u001b[0mword\u001b[0m\u001b[0;34m.\u001b[0m\u001b[0mlemma_\u001b[0m \u001b[0;34m!=\u001b[0m \u001b[0;34m'-PRON-'\u001b[0m \u001b[0;32melse\u001b[0m \u001b[0mword\u001b[0m\u001b[0;34m.\u001b[0m\u001b[0mtext\u001b[0m \u001b[0;32mfor\u001b[0m \u001b[0mword\u001b[0m \u001b[0;32min\u001b[0m \u001b[0mtext\u001b[0m\u001b[0;34m]\u001b[0m\u001b[0;34m)\u001b[0m\u001b[0;34m\u001b[0m\u001b[0;34m\u001b[0m\u001b[0m\n\u001b[1;32m      8\u001b[0m     \u001b[0;32mreturn\u001b[0m \u001b[0mtext\u001b[0m\u001b[0;34m\u001b[0m\u001b[0;34m\u001b[0m\u001b[0m\n",
      "\u001b[0;32m~/miniconda3/lib/python3.7/site-packages/spacy/language.py\u001b[0m in \u001b[0;36m__call__\u001b[0;34m(self, text, disable)\u001b[0m\n\u001b[1;32m    344\u001b[0m             \u001b[0;32mif\u001b[0m \u001b[0;32mnot\u001b[0m \u001b[0mhasattr\u001b[0m\u001b[0;34m(\u001b[0m\u001b[0mproc\u001b[0m\u001b[0;34m,\u001b[0m \u001b[0;34m'__call__'\u001b[0m\u001b[0;34m)\u001b[0m\u001b[0;34m:\u001b[0m\u001b[0;34m\u001b[0m\u001b[0;34m\u001b[0m\u001b[0m\n\u001b[1;32m    345\u001b[0m                 \u001b[0;32mraise\u001b[0m \u001b[0mValueError\u001b[0m\u001b[0;34m(\u001b[0m\u001b[0mErrors\u001b[0m\u001b[0;34m.\u001b[0m\u001b[0mE003\u001b[0m\u001b[0;34m.\u001b[0m\u001b[0mformat\u001b[0m\u001b[0;34m(\u001b[0m\u001b[0mcomponent\u001b[0m\u001b[0;34m=\u001b[0m\u001b[0mtype\u001b[0m\u001b[0;34m(\u001b[0m\u001b[0mproc\u001b[0m\u001b[0;34m)\u001b[0m\u001b[0;34m,\u001b[0m \u001b[0mname\u001b[0m\u001b[0;34m=\u001b[0m\u001b[0mname\u001b[0m\u001b[0;34m)\u001b[0m\u001b[0;34m)\u001b[0m\u001b[0;34m\u001b[0m\u001b[0;34m\u001b[0m\u001b[0m\n\u001b[0;32m--> 346\u001b[0;31m             \u001b[0mdoc\u001b[0m \u001b[0;34m=\u001b[0m \u001b[0mproc\u001b[0m\u001b[0;34m(\u001b[0m\u001b[0mdoc\u001b[0m\u001b[0;34m)\u001b[0m\u001b[0;34m\u001b[0m\u001b[0;34m\u001b[0m\u001b[0m\n\u001b[0m\u001b[1;32m    347\u001b[0m             \u001b[0;32mif\u001b[0m \u001b[0mdoc\u001b[0m \u001b[0;32mis\u001b[0m \u001b[0;32mNone\u001b[0m\u001b[0;34m:\u001b[0m\u001b[0;34m\u001b[0m\u001b[0;34m\u001b[0m\u001b[0m\n\u001b[1;32m    348\u001b[0m                 \u001b[0;32mraise\u001b[0m \u001b[0mValueError\u001b[0m\u001b[0;34m(\u001b[0m\u001b[0mErrors\u001b[0m\u001b[0;34m.\u001b[0m\u001b[0mE005\u001b[0m\u001b[0;34m.\u001b[0m\u001b[0mformat\u001b[0m\u001b[0;34m(\u001b[0m\u001b[0mname\u001b[0m\u001b[0;34m=\u001b[0m\u001b[0mname\u001b[0m\u001b[0;34m)\u001b[0m\u001b[0;34m)\u001b[0m\u001b[0;34m\u001b[0m\u001b[0;34m\u001b[0m\u001b[0m\n",
      "\u001b[0;32mnn_parser.pyx\u001b[0m in \u001b[0;36mspacy.syntax.nn_parser.Parser.__call__\u001b[0;34m()\u001b[0m\n",
      "\u001b[0;32mnn_parser.pyx\u001b[0m in \u001b[0;36mspacy.syntax.nn_parser.Parser.parse_batch\u001b[0;34m()\u001b[0m\n",
      "\u001b[0;32mnn_parser.pyx\u001b[0m in \u001b[0;36mspacy.syntax.nn_parser.Parser.get_batch_model\u001b[0;34m()\u001b[0m\n",
      "\u001b[0;32m~/miniconda3/lib/python3.7/site-packages/thinc/api.py\u001b[0m in \u001b[0;36mbegin_update\u001b[0;34m(self, X, drop)\u001b[0m\n\u001b[1;32m     59\u001b[0m         \u001b[0mcallbacks\u001b[0m \u001b[0;34m=\u001b[0m \u001b[0;34m[\u001b[0m\u001b[0;34m]\u001b[0m\u001b[0;34m\u001b[0m\u001b[0;34m\u001b[0m\u001b[0m\n\u001b[1;32m     60\u001b[0m         \u001b[0;32mfor\u001b[0m \u001b[0mlayer\u001b[0m \u001b[0;32min\u001b[0m \u001b[0mself\u001b[0m\u001b[0;34m.\u001b[0m\u001b[0m_layers\u001b[0m\u001b[0;34m:\u001b[0m\u001b[0;34m\u001b[0m\u001b[0;34m\u001b[0m\u001b[0m\n\u001b[0;32m---> 61\u001b[0;31m             \u001b[0mX\u001b[0m\u001b[0;34m,\u001b[0m \u001b[0minc_layer_grad\u001b[0m \u001b[0;34m=\u001b[0m \u001b[0mlayer\u001b[0m\u001b[0;34m.\u001b[0m\u001b[0mbegin_update\u001b[0m\u001b[0;34m(\u001b[0m\u001b[0mX\u001b[0m\u001b[0;34m,\u001b[0m \u001b[0mdrop\u001b[0m\u001b[0;34m=\u001b[0m\u001b[0mdrop\u001b[0m\u001b[0;34m)\u001b[0m\u001b[0;34m\u001b[0m\u001b[0;34m\u001b[0m\u001b[0m\n\u001b[0m\u001b[1;32m     62\u001b[0m             \u001b[0mcallbacks\u001b[0m\u001b[0;34m.\u001b[0m\u001b[0mappend\u001b[0m\u001b[0;34m(\u001b[0m\u001b[0minc_layer_grad\u001b[0m\u001b[0;34m)\u001b[0m\u001b[0;34m\u001b[0m\u001b[0;34m\u001b[0m\u001b[0m\n\u001b[1;32m     63\u001b[0m         \u001b[0;32mdef\u001b[0m \u001b[0mcontinue_update\u001b[0m\u001b[0;34m(\u001b[0m\u001b[0mgradient\u001b[0m\u001b[0;34m,\u001b[0m \u001b[0msgd\u001b[0m\u001b[0;34m=\u001b[0m\u001b[0;32mNone\u001b[0m\u001b[0;34m)\u001b[0m\u001b[0;34m:\u001b[0m\u001b[0;34m\u001b[0m\u001b[0;34m\u001b[0m\u001b[0m\n",
      "\u001b[0;32m~/miniconda3/lib/python3.7/site-packages/thinc/api.py\u001b[0m in \u001b[0;36mbegin_update\u001b[0;34m(seqs_in, drop)\u001b[0m\n\u001b[1;32m    278\u001b[0m         \u001b[0mlengths\u001b[0m \u001b[0;34m=\u001b[0m \u001b[0mlayer\u001b[0m\u001b[0;34m.\u001b[0m\u001b[0mops\u001b[0m\u001b[0;34m.\u001b[0m\u001b[0masarray\u001b[0m\u001b[0;34m(\u001b[0m\u001b[0;34m[\u001b[0m\u001b[0mlen\u001b[0m\u001b[0;34m(\u001b[0m\u001b[0mseq\u001b[0m\u001b[0;34m)\u001b[0m \u001b[0;32mfor\u001b[0m \u001b[0mseq\u001b[0m \u001b[0;32min\u001b[0m \u001b[0mseqs_in\u001b[0m\u001b[0;34m]\u001b[0m\u001b[0;34m)\u001b[0m\u001b[0;34m\u001b[0m\u001b[0;34m\u001b[0m\u001b[0m\n\u001b[1;32m    279\u001b[0m         X, bp_layer = layer.begin_update(layer.ops.flatten(seqs_in, pad=pad),\n\u001b[0;32m--> 280\u001b[0;31m                                          drop=drop)\n\u001b[0m\u001b[1;32m    281\u001b[0m         \u001b[0;32mif\u001b[0m \u001b[0mbp_layer\u001b[0m \u001b[0;32mis\u001b[0m \u001b[0;32mNone\u001b[0m\u001b[0;34m:\u001b[0m\u001b[0;34m\u001b[0m\u001b[0;34m\u001b[0m\u001b[0m\n\u001b[1;32m    282\u001b[0m             \u001b[0;32mreturn\u001b[0m \u001b[0mlayer\u001b[0m\u001b[0;34m.\u001b[0m\u001b[0mops\u001b[0m\u001b[0;34m.\u001b[0m\u001b[0munflatten\u001b[0m\u001b[0;34m(\u001b[0m\u001b[0mX\u001b[0m\u001b[0;34m,\u001b[0m \u001b[0mlengths\u001b[0m\u001b[0;34m,\u001b[0m \u001b[0mpad\u001b[0m\u001b[0;34m=\u001b[0m\u001b[0mpad\u001b[0m\u001b[0;34m)\u001b[0m\u001b[0;34m,\u001b[0m \u001b[0;32mNone\u001b[0m\u001b[0;34m\u001b[0m\u001b[0;34m\u001b[0m\u001b[0m\n",
      "\u001b[0;32m~/miniconda3/lib/python3.7/site-packages/thinc/api.py\u001b[0m in \u001b[0;36mbegin_update\u001b[0;34m(self, X, drop)\u001b[0m\n\u001b[1;32m     59\u001b[0m         \u001b[0mcallbacks\u001b[0m \u001b[0;34m=\u001b[0m \u001b[0;34m[\u001b[0m\u001b[0;34m]\u001b[0m\u001b[0;34m\u001b[0m\u001b[0;34m\u001b[0m\u001b[0m\n\u001b[1;32m     60\u001b[0m         \u001b[0;32mfor\u001b[0m \u001b[0mlayer\u001b[0m \u001b[0;32min\u001b[0m \u001b[0mself\u001b[0m\u001b[0;34m.\u001b[0m\u001b[0m_layers\u001b[0m\u001b[0;34m:\u001b[0m\u001b[0;34m\u001b[0m\u001b[0;34m\u001b[0m\u001b[0m\n\u001b[0;32m---> 61\u001b[0;31m             \u001b[0mX\u001b[0m\u001b[0;34m,\u001b[0m \u001b[0minc_layer_grad\u001b[0m \u001b[0;34m=\u001b[0m \u001b[0mlayer\u001b[0m\u001b[0;34m.\u001b[0m\u001b[0mbegin_update\u001b[0m\u001b[0;34m(\u001b[0m\u001b[0mX\u001b[0m\u001b[0;34m,\u001b[0m \u001b[0mdrop\u001b[0m\u001b[0;34m=\u001b[0m\u001b[0mdrop\u001b[0m\u001b[0;34m)\u001b[0m\u001b[0;34m\u001b[0m\u001b[0;34m\u001b[0m\u001b[0m\n\u001b[0m\u001b[1;32m     62\u001b[0m             \u001b[0mcallbacks\u001b[0m\u001b[0;34m.\u001b[0m\u001b[0mappend\u001b[0m\u001b[0;34m(\u001b[0m\u001b[0minc_layer_grad\u001b[0m\u001b[0;34m)\u001b[0m\u001b[0;34m\u001b[0m\u001b[0;34m\u001b[0m\u001b[0m\n\u001b[1;32m     63\u001b[0m         \u001b[0;32mdef\u001b[0m \u001b[0mcontinue_update\u001b[0m\u001b[0;34m(\u001b[0m\u001b[0mgradient\u001b[0m\u001b[0;34m,\u001b[0m \u001b[0msgd\u001b[0m\u001b[0;34m=\u001b[0m\u001b[0;32mNone\u001b[0m\u001b[0;34m)\u001b[0m\u001b[0;34m:\u001b[0m\u001b[0;34m\u001b[0m\u001b[0;34m\u001b[0m\u001b[0m\n",
      "\u001b[0;32m~/miniconda3/lib/python3.7/site-packages/thinc/neural/_classes/resnet.py\u001b[0m in \u001b[0;36mbegin_update\u001b[0;34m(self, X, drop)\u001b[0m\n\u001b[1;32m     16\u001b[0m \u001b[0;34m\u001b[0m\u001b[0m\n\u001b[1;32m     17\u001b[0m     \u001b[0;32mdef\u001b[0m \u001b[0mbegin_update\u001b[0m\u001b[0;34m(\u001b[0m\u001b[0mself\u001b[0m\u001b[0;34m,\u001b[0m \u001b[0mX\u001b[0m\u001b[0;34m,\u001b[0m \u001b[0mdrop\u001b[0m\u001b[0;34m=\u001b[0m\u001b[0;36m0.\u001b[0m\u001b[0;34m)\u001b[0m\u001b[0;34m:\u001b[0m\u001b[0;34m\u001b[0m\u001b[0;34m\u001b[0m\u001b[0m\n\u001b[0;32m---> 18\u001b[0;31m         \u001b[0my\u001b[0m\u001b[0;34m,\u001b[0m \u001b[0mbp_y\u001b[0m \u001b[0;34m=\u001b[0m \u001b[0mself\u001b[0m\u001b[0;34m.\u001b[0m\u001b[0m_layers\u001b[0m\u001b[0;34m[\u001b[0m\u001b[0;36m0\u001b[0m\u001b[0;34m]\u001b[0m\u001b[0;34m.\u001b[0m\u001b[0mbegin_update\u001b[0m\u001b[0;34m(\u001b[0m\u001b[0mX\u001b[0m\u001b[0;34m,\u001b[0m \u001b[0mdrop\u001b[0m\u001b[0;34m=\u001b[0m\u001b[0mdrop\u001b[0m\u001b[0;34m)\u001b[0m\u001b[0;34m\u001b[0m\u001b[0;34m\u001b[0m\u001b[0m\n\u001b[0m\u001b[1;32m     19\u001b[0m         \u001b[0moutput\u001b[0m \u001b[0;34m=\u001b[0m \u001b[0mX\u001b[0m\u001b[0;34m+\u001b[0m\u001b[0my\u001b[0m\u001b[0;34m\u001b[0m\u001b[0;34m\u001b[0m\u001b[0m\n\u001b[1;32m     20\u001b[0m         \u001b[0;32mdef\u001b[0m \u001b[0mresidual_bwd\u001b[0m\u001b[0;34m(\u001b[0m\u001b[0md_output\u001b[0m\u001b[0;34m,\u001b[0m \u001b[0msgd\u001b[0m\u001b[0;34m=\u001b[0m\u001b[0;32mNone\u001b[0m\u001b[0;34m)\u001b[0m\u001b[0;34m:\u001b[0m\u001b[0;34m\u001b[0m\u001b[0;34m\u001b[0m\u001b[0m\n",
      "\u001b[0;32m~/miniconda3/lib/python3.7/site-packages/thinc/api.py\u001b[0m in \u001b[0;36mbegin_update\u001b[0;34m(self, X, drop)\u001b[0m\n\u001b[1;32m     59\u001b[0m         \u001b[0mcallbacks\u001b[0m \u001b[0;34m=\u001b[0m \u001b[0;34m[\u001b[0m\u001b[0;34m]\u001b[0m\u001b[0;34m\u001b[0m\u001b[0;34m\u001b[0m\u001b[0m\n\u001b[1;32m     60\u001b[0m         \u001b[0;32mfor\u001b[0m \u001b[0mlayer\u001b[0m \u001b[0;32min\u001b[0m \u001b[0mself\u001b[0m\u001b[0;34m.\u001b[0m\u001b[0m_layers\u001b[0m\u001b[0;34m:\u001b[0m\u001b[0;34m\u001b[0m\u001b[0;34m\u001b[0m\u001b[0m\n\u001b[0;32m---> 61\u001b[0;31m             \u001b[0mX\u001b[0m\u001b[0;34m,\u001b[0m \u001b[0minc_layer_grad\u001b[0m \u001b[0;34m=\u001b[0m \u001b[0mlayer\u001b[0m\u001b[0;34m.\u001b[0m\u001b[0mbegin_update\u001b[0m\u001b[0;34m(\u001b[0m\u001b[0mX\u001b[0m\u001b[0;34m,\u001b[0m \u001b[0mdrop\u001b[0m\u001b[0;34m=\u001b[0m\u001b[0mdrop\u001b[0m\u001b[0;34m)\u001b[0m\u001b[0;34m\u001b[0m\u001b[0;34m\u001b[0m\u001b[0m\n\u001b[0m\u001b[1;32m     62\u001b[0m             \u001b[0mcallbacks\u001b[0m\u001b[0;34m.\u001b[0m\u001b[0mappend\u001b[0m\u001b[0;34m(\u001b[0m\u001b[0minc_layer_grad\u001b[0m\u001b[0;34m)\u001b[0m\u001b[0;34m\u001b[0m\u001b[0;34m\u001b[0m\u001b[0m\n\u001b[1;32m     63\u001b[0m         \u001b[0;32mdef\u001b[0m \u001b[0mcontinue_update\u001b[0m\u001b[0;34m(\u001b[0m\u001b[0mgradient\u001b[0m\u001b[0;34m,\u001b[0m \u001b[0msgd\u001b[0m\u001b[0;34m=\u001b[0m\u001b[0;32mNone\u001b[0m\u001b[0;34m)\u001b[0m\u001b[0;34m:\u001b[0m\u001b[0;34m\u001b[0m\u001b[0;34m\u001b[0m\u001b[0m\n",
      "\u001b[0;32m~/miniconda3/lib/python3.7/site-packages/thinc/neural/_classes/layernorm.py\u001b[0m in \u001b[0;36mbegin_update\u001b[0;34m(self, X, drop)\u001b[0m\n\u001b[1;32m     49\u001b[0m \u001b[0;34m\u001b[0m\u001b[0m\n\u001b[1;32m     50\u001b[0m     \u001b[0;32mdef\u001b[0m \u001b[0mbegin_update\u001b[0m\u001b[0;34m(\u001b[0m\u001b[0mself\u001b[0m\u001b[0;34m,\u001b[0m \u001b[0mX\u001b[0m\u001b[0;34m,\u001b[0m \u001b[0mdrop\u001b[0m\u001b[0;34m=\u001b[0m\u001b[0;36m0.\u001b[0m\u001b[0;34m)\u001b[0m\u001b[0;34m:\u001b[0m\u001b[0;34m\u001b[0m\u001b[0;34m\u001b[0m\u001b[0m\n\u001b[0;32m---> 51\u001b[0;31m         \u001b[0mX\u001b[0m\u001b[0;34m,\u001b[0m \u001b[0mbackprop_child\u001b[0m \u001b[0;34m=\u001b[0m \u001b[0mself\u001b[0m\u001b[0;34m.\u001b[0m\u001b[0mchild\u001b[0m\u001b[0;34m.\u001b[0m\u001b[0mbegin_update\u001b[0m\u001b[0;34m(\u001b[0m\u001b[0mX\u001b[0m\u001b[0;34m,\u001b[0m \u001b[0mdrop\u001b[0m\u001b[0;34m=\u001b[0m\u001b[0;36m0.\u001b[0m\u001b[0;34m)\u001b[0m\u001b[0;34m\u001b[0m\u001b[0;34m\u001b[0m\u001b[0m\n\u001b[0m\u001b[1;32m     52\u001b[0m         \u001b[0mN\u001b[0m\u001b[0;34m,\u001b[0m \u001b[0mmu\u001b[0m\u001b[0;34m,\u001b[0m \u001b[0mvar\u001b[0m \u001b[0;34m=\u001b[0m \u001b[0m_get_moments\u001b[0m\u001b[0;34m(\u001b[0m\u001b[0mself\u001b[0m\u001b[0;34m.\u001b[0m\u001b[0mops\u001b[0m\u001b[0;34m,\u001b[0m \u001b[0mX\u001b[0m\u001b[0;34m)\u001b[0m\u001b[0;34m\u001b[0m\u001b[0;34m\u001b[0m\u001b[0m\n\u001b[1;32m     53\u001b[0m \u001b[0;34m\u001b[0m\u001b[0m\n",
      "\u001b[0;32m~/miniconda3/lib/python3.7/site-packages/thinc/neural/_classes/maxout.py\u001b[0m in \u001b[0;36mbegin_update\u001b[0;34m(self, X__bi, drop)\u001b[0m\n\u001b[1;32m     67\u001b[0m         \u001b[0mW\u001b[0m \u001b[0;34m=\u001b[0m \u001b[0mself\u001b[0m\u001b[0;34m.\u001b[0m\u001b[0mW\u001b[0m\u001b[0;34m.\u001b[0m\u001b[0mreshape\u001b[0m\u001b[0;34m(\u001b[0m\u001b[0;34m(\u001b[0m\u001b[0mself\u001b[0m\u001b[0;34m.\u001b[0m\u001b[0mnO\u001b[0m \u001b[0;34m*\u001b[0m \u001b[0mself\u001b[0m\u001b[0;34m.\u001b[0m\u001b[0mnP\u001b[0m\u001b[0;34m,\u001b[0m \u001b[0mself\u001b[0m\u001b[0;34m.\u001b[0m\u001b[0mnI\u001b[0m\u001b[0;34m)\u001b[0m\u001b[0;34m)\u001b[0m\u001b[0;34m\u001b[0m\u001b[0;34m\u001b[0m\u001b[0m\n\u001b[1;32m     68\u001b[0m         \u001b[0mdrop\u001b[0m \u001b[0;34m*=\u001b[0m \u001b[0mself\u001b[0m\u001b[0;34m.\u001b[0m\u001b[0mdrop_factor\u001b[0m\u001b[0;34m\u001b[0m\u001b[0;34m\u001b[0m\u001b[0m\n\u001b[0;32m---> 69\u001b[0;31m         \u001b[0moutput__boc\u001b[0m \u001b[0;34m=\u001b[0m \u001b[0mself\u001b[0m\u001b[0;34m.\u001b[0m\u001b[0mops\u001b[0m\u001b[0;34m.\u001b[0m\u001b[0mbatch_dot\u001b[0m\u001b[0;34m(\u001b[0m\u001b[0mX__bi\u001b[0m\u001b[0;34m,\u001b[0m \u001b[0mW\u001b[0m\u001b[0;34m)\u001b[0m\u001b[0;34m\u001b[0m\u001b[0;34m\u001b[0m\u001b[0m\n\u001b[0m\u001b[1;32m     70\u001b[0m         \u001b[0moutput__boc\u001b[0m \u001b[0;34m+=\u001b[0m \u001b[0mself\u001b[0m\u001b[0;34m.\u001b[0m\u001b[0mb\u001b[0m\u001b[0;34m.\u001b[0m\u001b[0mreshape\u001b[0m\u001b[0;34m(\u001b[0m\u001b[0;34m(\u001b[0m\u001b[0mself\u001b[0m\u001b[0;34m.\u001b[0m\u001b[0mnO\u001b[0m\u001b[0;34m*\u001b[0m\u001b[0mself\u001b[0m\u001b[0;34m.\u001b[0m\u001b[0mnP\u001b[0m\u001b[0;34m,\u001b[0m\u001b[0;34m)\u001b[0m\u001b[0;34m)\u001b[0m\u001b[0;34m\u001b[0m\u001b[0;34m\u001b[0m\u001b[0m\n\u001b[1;32m     71\u001b[0m         \u001b[0moutput__boc\u001b[0m \u001b[0;34m=\u001b[0m \u001b[0moutput__boc\u001b[0m\u001b[0;34m.\u001b[0m\u001b[0mreshape\u001b[0m\u001b[0;34m(\u001b[0m\u001b[0;34m(\u001b[0m\u001b[0moutput__boc\u001b[0m\u001b[0;34m.\u001b[0m\u001b[0mshape\u001b[0m\u001b[0;34m[\u001b[0m\u001b[0;36m0\u001b[0m\u001b[0;34m]\u001b[0m\u001b[0;34m,\u001b[0m \u001b[0mself\u001b[0m\u001b[0;34m.\u001b[0m\u001b[0mnO\u001b[0m\u001b[0;34m,\u001b[0m \u001b[0mself\u001b[0m\u001b[0;34m.\u001b[0m\u001b[0mnP\u001b[0m\u001b[0;34m)\u001b[0m\u001b[0;34m)\u001b[0m\u001b[0;34m\u001b[0m\u001b[0;34m\u001b[0m\u001b[0m\n",
      "\u001b[0;31mKeyboardInterrupt\u001b[0m: "
     ]
    }
   ],
   "source": [
    "# normalize all keyword and keyword_norm; however, no need to remove stopwords\n",
    "norm_keyword_all = [];\n",
    "norm_keyword_norm_all = [];\n",
    "for i in range(len(df_key_v1)): \n",
    "    norm_keyword_all.append(normalize_corpus(ast.literal_eval(keyword_list[i]), lemm = True, stopword_removal = False))\n",
    "    norm_keyword_norm_all.append(normalize_corpus(ast.literal_eval(keyword_norm_list[i]), lemm = True, stopword_removal = False))\n",
    "# 'galaxies evolution' should be the same as 'galaxy evolution'"
   ]
  },
  {
   "cell_type": "markdown",
   "metadata": {},
   "source": [
    "#### Save the above cell as well. taking too long"
   ]
  },
  {
   "cell_type": "code",
   "execution_count": 26,
   "metadata": {},
   "outputs": [
    {
     "data": {
      "text/plain": [
       "16408"
      ]
     },
     "execution_count": 26,
     "metadata": {},
     "output_type": "execute_result"
    }
   ],
   "source": [
    "key_set_1 = [];\n",
    "for i in range(len(norm_keyword_all)):\n",
    "    key_set_1.append(list(set(norm_keyword_all[i] +norm_keyword_norm_all[i])))   "
   ]
  },
  {
   "cell_type": "code",
   "execution_count": null,
   "metadata": {},
   "outputs": [],
   "source": [
    "df_key_v1['key_set_1'] = key_set_1"
   ]
  },
  {
   "cell_type": "code",
   "execution_count": 11,
   "metadata": {},
   "outputs": [
    {
     "data": {
      "text/plain": [
       "Index(['bibcode', 'keyword', 'keyword_norm', 'key_set_1'], dtype='object')"
      ]
     },
     "execution_count": 11,
     "metadata": {},
     "output_type": "execute_result"
    }
   ],
   "source": [
    "df_key_v1.columns\n",
    "# key_set_1 is combined cleaned-up keyword and keyword-norm"
   ]
  },
  {
   "cell_type": "code",
   "execution_count": 29,
   "metadata": {},
   "outputs": [],
   "source": [
    "df_key_v1.to_csv('/Users/yanfeiwang/Downloads/df_key_v1.csv', index=False)\n",
    "# version control: ['bibcode', 'keyword', 'keyword_norm', 'key_set_1'] with key_set_1 being combined cleaned-up keyword and keyword-norm"
   ]
  },
  {
   "cell_type": "code",
   "execution_count": 15,
   "metadata": {
    "collapsed": true
   },
   "outputs": [
    {
     "ename": "IndexError",
     "evalue": "list index out of range",
     "output_type": "error",
     "traceback": [
      "\u001b[0;31m---------------------------------------------------------------------------\u001b[0m",
      "\u001b[0;31mIndexError\u001b[0m                                Traceback (most recent call last)",
      "\u001b[0;32m<ipython-input-15-86f8a743f923>\u001b[0m in \u001b[0;36m<module>\u001b[0;34m\u001b[0m\n\u001b[1;32m      3\u001b[0m \u001b[0mkey_norm_norm\u001b[0m \u001b[0;34m=\u001b[0m \u001b[0;34m[\u001b[0m\u001b[0;34m]\u001b[0m\u001b[0;34m\u001b[0m\u001b[0;34m\u001b[0m\u001b[0m\n\u001b[1;32m      4\u001b[0m \u001b[0;32mfor\u001b[0m \u001b[0mi\u001b[0m \u001b[0;32min\u001b[0m \u001b[0mrange\u001b[0m\u001b[0;34m(\u001b[0m\u001b[0mlen\u001b[0m\u001b[0;34m(\u001b[0m\u001b[0mdf_key_v1\u001b[0m\u001b[0;34m)\u001b[0m\u001b[0;34m)\u001b[0m\u001b[0;34m:\u001b[0m\u001b[0;34m\u001b[0m\u001b[0;34m\u001b[0m\u001b[0m\n\u001b[0;32m----> 5\u001b[0;31m      \u001b[0;32mfor\u001b[0m \u001b[0m_\u001b[0m \u001b[0;32min\u001b[0m \u001b[0mnorm_keyword_all\u001b[0m\u001b[0;34m[\u001b[0m\u001b[0mi\u001b[0m\u001b[0;34m]\u001b[0m\u001b[0;34m:\u001b[0m\u001b[0mkey_norm\u001b[0m\u001b[0;34m.\u001b[0m\u001b[0mappend\u001b[0m\u001b[0;34m(\u001b[0m\u001b[0m_\u001b[0m\u001b[0;34m)\u001b[0m\u001b[0;34m\u001b[0m\u001b[0;34m\u001b[0m\u001b[0m\n\u001b[0m\u001b[1;32m      6\u001b[0m \u001b[0;32mfor\u001b[0m \u001b[0mi\u001b[0m \u001b[0;32min\u001b[0m \u001b[0mrange\u001b[0m\u001b[0;34m(\u001b[0m\u001b[0mlen\u001b[0m\u001b[0;34m(\u001b[0m\u001b[0mdf_key_v1\u001b[0m\u001b[0;34m)\u001b[0m\u001b[0;34m)\u001b[0m\u001b[0;34m:\u001b[0m\u001b[0;34m\u001b[0m\u001b[0;34m\u001b[0m\u001b[0m\n\u001b[1;32m      7\u001b[0m      \u001b[0;32mfor\u001b[0m \u001b[0m_\u001b[0m \u001b[0;32min\u001b[0m \u001b[0mnorm_keyword_norm_all\u001b[0m\u001b[0;34m[\u001b[0m\u001b[0mi\u001b[0m\u001b[0;34m]\u001b[0m\u001b[0;34m:\u001b[0m\u001b[0mkey_norm_norm\u001b[0m\u001b[0;34m.\u001b[0m\u001b[0mappend\u001b[0m\u001b[0;34m(\u001b[0m\u001b[0m_\u001b[0m\u001b[0;34m)\u001b[0m\u001b[0;34m\u001b[0m\u001b[0;34m\u001b[0m\u001b[0m\n",
      "\u001b[0;31mIndexError\u001b[0m: list index out of range"
     ]
    }
   ],
   "source": [
    "# understanding how many unique phrases/ keywords are in key_set_1, to use them for training bigram\n",
    "key_norm = []\n",
    "key_norm_norm = []\n",
    "for i in range(len(df_key_v1)):\n",
    "     for _ in norm_keyword_all[i]:key_norm.append(_)\n",
    "for i in range(len(df_key_v1)):\n",
    "     for _ in norm_keyword_norm_all[i]:key_norm_norm.append(_)\n",
    "print(len(key_norm), len(np.unique(key_norm)), len(key_norm_norm), len(np.unique(key_norm_norm)))                 "
   ]
  },
  {
   "cell_type": "markdown",
   "metadata": {},
   "source": [
    "### Moving on to titles!"
   ]
  },
  {
   "cell_type": "code",
   "execution_count": 12,
   "metadata": {},
   "outputs": [
    {
     "data": {
      "text/plain": [
       "16408"
      ]
     },
     "execution_count": 12,
     "metadata": {},
     "output_type": "execute_result"
    }
   ],
   "source": [
    "title_list = [];\n",
    "for i in range(len(df1['title'])):\n",
    "    title_list.append(ast.literal_eval(df1.loc[i,'title'])[0])\n",
    "len(title_list)"
   ]
  },
  {
   "cell_type": "code",
   "execution_count": 13,
   "metadata": {},
   "outputs": [],
   "source": [
    "# pre-processing of titles\n",
    "norm_title_all = normalize_corpus(title_list, lemm = True, stopword_removal = True)\n",
    "title2word = [[text for text in doc.split()] for doc in norm_title_all]"
   ]
  },
  {
   "cell_type": "code",
   "execution_count": 14,
   "metadata": {},
   "outputs": [
    {
     "data": {
      "text/plain": [
       "Index(['bibcode', 'keyword', 'keyword_norm', 'key_set_1', 'title2word'], dtype='object')"
      ]
     },
     "execution_count": 14,
     "metadata": {},
     "output_type": "execute_result"
    }
   ],
   "source": [
    "df_key_v1['title2word'] = title2word\n",
    "df_key_v1.columns\n",
    "#'title2word' is cleaned up titles in the format of list of words"
   ]
  },
  {
   "cell_type": "markdown",
   "metadata": {},
   "source": [
    "Start with tfidf model, because that might give us better idea of what kind of high-frequency words there are. \n",
    "Use subsets of data to speed up the iteration."
   ]
  },
  {
   "cell_type": "code",
   "execution_count": 15,
   "metadata": {},
   "outputs": [
    {
     "data": {
      "text/plain": [
       "(array([False,  True]), array([16354,    54]))"
      ]
     },
     "execution_count": 15,
     "metadata": {},
     "output_type": "execute_result"
    }
   ],
   "source": [
    "abs_list = df1['abstract']\n",
    "np.unique(abs_list.isna(), return_counts = True)"
   ]
  },
  {
   "cell_type": "code",
   "execution_count": 17,
   "metadata": {},
   "outputs": [
    {
     "data": {
      "text/plain": [
       "'!\"#$%&\\'()*+,-./:;<=>?@[\\\\]^_`{|}~'"
      ]
     },
     "execution_count": 17,
     "metadata": {},
     "output_type": "execute_result"
    }
   ],
   "source": [
    "remove_terms = punctuation #+ '0123456789'#\n",
    "remove_terms\n",
    "# for now, leave the numbers in the texts, because they might be object names, eg, ngc 4343. \n",
    "# But in the end, remove them because numbers alone are not keywords"
   ]
  },
  {
   "cell_type": "code",
   "execution_count": 18,
   "metadata": {},
   "outputs": [],
   "source": [
    "'''This function serves to parse paragraph data: for abstracts and full-texts, it's useful to still keep the sentence \n",
    "structure during tokenization, such as in the case of bi-gram training''' \n",
    "def tokenize_para (para):\n",
    "    sent = sent_tokenizer.tokenize(para) # string to sentences, return a list of sentences;\n",
    "    sent_word = []; # break the sentence into words, return a list of words\n",
    "    for i in range(len(sent)):\n",
    "        sent_word.append(word_tokenize(sent[i])); # a list of lists of words\n",
    "    sent_filt1 = [[word for word in sent if word not in remove_terms] for sent in sent_word]\n",
    "    sent_filt1 = [' '.join(tok_sent) for tok_sent in sent_filt1] # a list of full sentences (each sentence is a string)\n",
    "    norm_sent_filt1 = normalize_corpus(sent_filt1) # return the same as above, but after normalization\n",
    "    norm_00 = [tok_sent for tok_sent in norm_sent_filt1 if len(tok_sent.split()) > 3]\n",
    "    texts = [[text for text in doc.split()] for doc in norm_sent_filt1]\n",
    "    para_styles = {'sent': norm_sent_filt1,   # a list of full sentences (each sentence is a string)\n",
    "                  'word': texts}  # a list of list of words\n",
    "    return para_styles"
   ]
  },
  {
   "cell_type": "code",
   "execution_count": 19,
   "metadata": {},
   "outputs": [
    {
     "data": {
      "text/plain": [
       "1000"
      ]
     },
     "execution_count": 19,
     "metadata": {},
     "output_type": "execute_result"
    }
   ],
   "source": [
    "# 1000 abstracts, for tfidf model, for the purpose of getting more stop_words\n",
    "abs_sents = [];\n",
    "for i in range(1000):\n",
    "    try:\n",
    "        abs_sents.append(tokenize_para(abs_list[i])['sent'])       \n",
    "    except:\n",
    "        abs_sents.append(['nan'])  \n",
    "len(abs_sents)"
   ]
  },
  {
   "cell_type": "code",
   "execution_count": 20,
   "metadata": {},
   "outputs": [
    {
     "name": "stdout",
     "output_type": "stream",
     "text": [
      "8581 1000\n"
     ]
    }
   ],
   "source": [
    "# Concatenate the 1000 abstracts\n",
    "abs_all_sent1 = [];\n",
    "abs_n_sent = [];\n",
    "for i in range(len(abs_sents)):\n",
    "    number_of_sentences = 0\n",
    "    for j in range(len(abs_sents[i])):\n",
    "        number_of_sentences = number_of_sentences + 1;\n",
    "        abs_all_sent1.append(abs_sents[i][j])\n",
    "    abs_n_sent.append(number_of_sentences)\n",
    "print(len(abs_all_sent1), len(abs_n_sent))  "
   ]
  },
  {
   "cell_type": "code",
   "execution_count": 21,
   "metadata": {},
   "outputs": [],
   "source": [
    "bodylist = df1['body'].tolist()"
   ]
  },
  {
   "cell_type": "code",
   "execution_count": 22,
   "metadata": {},
   "outputs": [
    {
     "data": {
      "text/plain": [
       "16408"
      ]
     },
     "execution_count": 22,
     "metadata": {},
     "output_type": "execute_result"
    }
   ],
   "source": [
    "# parse out introduction\n",
    "intro_list = [];\n",
    "for i in range(len(bodylist)):\n",
    "    try:\n",
    "        try1 = bodylist[i].lower()\n",
    "    except:\n",
    "        try1 = ['nan']\n",
    "    try:\n",
    "        split1 = try1.split('introduction')\n",
    "        try:\n",
    "            split2 = split1[1].split('observations', 1)\n",
    "        except:\n",
    "            intro = ['nan']\n",
    "    except:\n",
    "        intro = ['nan']\n",
    "    try:\n",
    "        intro = split2[0]\n",
    "    except:\n",
    "        intro = ['nan']\n",
    "    intro_list.append(intro)\n",
    "len(intro_list)"
   ]
  },
  {
   "cell_type": "code",
   "execution_count": 23,
   "metadata": {},
   "outputs": [
    {
     "data": {
      "text/plain": [
       "16408"
      ]
     },
     "execution_count": 23,
     "metadata": {},
     "output_type": "execute_result"
    }
   ],
   "source": [
    "# parse out conclusion\n",
    "conc = [];\n",
    "for i in range(len(bodylist)):\n",
    "    try:\n",
    "        try1 = bodylist[i].lower()\n",
    "    except:\n",
    "        try1 = ['nan']\n",
    "    try:\n",
    "        split1 = try1.split('conclusions')\n",
    "        if 'thank' in split[1]:\n",
    "            split2 = split1[1].split('thank')\n",
    "        elif 'acknowledge' in split[1]:\n",
    "            split2 = split1[1].split('acknowledge')\n",
    "        else:\n",
    "            try:\n",
    "                split2 = split1[1].split('references')\n",
    "            except:\n",
    "                split2 = ['nan']\n",
    "    except:\n",
    "        intro = ['nan']\n",
    "    try:\n",
    "        intro = split2[0]\n",
    "    except:\n",
    "        intro = ['nan']\n",
    "    conc.append(intro)\n",
    "len(conc)"
   ]
  },
  {
   "cell_type": "code",
   "execution_count": 24,
   "metadata": {},
   "outputs": [
    {
     "data": {
      "text/plain": [
       "16408"
      ]
     },
     "execution_count": 24,
     "metadata": {},
     "output_type": "execute_result"
    }
   ],
   "source": [
    "intro_conc = [];\n",
    "for i in range(len(bodylist)):\n",
    "    intro_conc.append(intro_list[i]+conc[i])\n",
    "len(intro_conc)"
   ]
  },
  {
   "cell_type": "code",
   "execution_count": 25,
   "metadata": {},
   "outputs": [
    {
     "data": {
      "text/plain": [
       "16408"
      ]
     },
     "execution_count": 25,
     "metadata": {},
     "output_type": "execute_result"
    }
   ],
   "source": [
    "norm_body_all = normalize_corpus(intro_conc, lemm = True, stopword_removal = True)\n",
    "#body2word = [[text for text in doc.split()] for doc in norm_body_all]\n",
    "len(norm_body_all)"
   ]
  },
  {
   "cell_type": "code",
   "execution_count": 29,
   "metadata": {},
   "outputs": [
    {
     "data": {
      "text/plain": [
       "str"
      ]
     },
     "execution_count": 29,
     "metadata": {},
     "output_type": "execute_result"
    }
   ],
   "source": [
    "type(norm_body_all[16407])"
   ]
  },
  {
   "cell_type": "code",
   "execution_count": 28,
   "metadata": {},
   "outputs": [
    {
     "data": {
      "text/plain": [
       "16408"
      ]
     },
     "execution_count": 28,
     "metadata": {},
     "output_type": "execute_result"
    }
   ],
   "source": [
    "len(norm_body_all)"
   ]
  },
  {
   "cell_type": "code",
   "execution_count": 26,
   "metadata": {},
   "outputs": [],
   "source": [
    "df_key_v1['norm_body'] = norm_body_all"
   ]
  },
  {
   "cell_type": "code",
   "execution_count": 27,
   "metadata": {},
   "outputs": [
    {
     "data": {
      "text/plain": [
       "Index(['bibcode', 'keyword', 'keyword_norm', 'key_set_1', 'title2word',\n",
       "       'norm_body'],\n",
       "      dtype='object')"
      ]
     },
     "execution_count": 27,
     "metadata": {},
     "output_type": "execute_result"
    }
   ],
   "source": [
    "df_key_v1.columns\n",
    "# 'norm_body_all' is cleaned-up introduction+ conclusion from maintext, as one string"
   ]
  },
  {
   "cell_type": "code",
   "execution_count": 30,
   "metadata": {
    "collapsed": true
   },
   "outputs": [
    {
     "data": {
      "text/plain": [
       "['lineprofile variability earlytype star direct dynamical phenomenon atmosphere quasihydrostatic region continuumform layer outermost region stellar wind probe resonanceline p cygni profile fullerton 1992 howarth 1992 prinja 1992 evident variability time scale luminous ob star range hour day intensive timeserie spectroscopy require characterize fully nature variability moreover coordinate precise light element ratio heliumhydrogen deuteriumhydrogen couple big bang nucleosynthesis theory tightly constrain cosmic baryonic mass density burl tytler 1996 omeara 2001 steigman 2010 cooke pettini steidel 2018 complement independent cosmic microwave background planck xiii 2016 triumph theoretical astrophysic cosmology baryonic cosmic mean established observer perform census baryon universe cosmic time fukugita hogan peeble 1998 prochaska tumlinson 2009 early time growth substantial structure accept majority baryon cool 104k diffuse plasma galaxy intergalactic medium igm sargent 1980 miraldaescud 1996 plasma socalled hi ly forest spectra source rauch 1998 extragalactic uv background euvb optical depth ly forest baryon reside igm rauch 1998 fauchergigure 2008a indeed researcher invert experiment leverage ly forest cosmological simulation assess euvb cosmological parameter fauchergigure 2008b palanquedelabrouille 2013 run clock dark matter collapse galactic halo large structure bring baryon gas stream halo predict shockheat virial temperature 106k halo mass circumgalactic medium cgm hot diffuse gas gas cool galaxy formation centre halo population dark matter halo predict 35percent dark matter baryonic mass principal interest future mass gas halo mass galaxy cluster xray',\n",
       " 'highresolution ultraviolet absorptionline hot star large small magellanic cloud unique insight interstellar gas situate large distance galactic plane savage boer 1979 1981 early precise light element ratio heliumhydrogen deuteriumhydrogen couple big bang nucleosynthesis theory tightly constrain cosmic baryonic mass density burl tytler 1996 omeara 2001 steigman 2010 cooke pettini steidel 2018 complement independent cosmic microwave background planck xiii 2016 triumph theoretical astrophysic cosmology baryonic cosmic mean established observer perform census baryon universe cosmic time fukugita hogan peeble 1998 prochaska tumlinson 2009 early time growth substantial structure accept majority baryon cool 104k diffuse plasma galaxy intergalactic medium igm sargent 1980 miraldaescud 1996 plasma socalled hi ly forest spectra source rauch 1998 extragalactic uv background euvb optical depth ly forest baryon reside igm rauch 1998 fauchergigure 2008a indeed researcher invert experiment leverage ly forest cosmological simulation assess euvb cosmological parameter fauchergigure 2008b palanquedelabrouille 2013 run clock dark matter collapse galactic halo large structure bring baryon gas stream halo predict shockheat virial temperature 106k halo mass circumgalactic medium cgm hot diffuse gas gas cool galaxy formation centre halo population dark matter halo predict 35percent dark matter baryonic mass principal interest future mass gas halo mass galaxy cluster xray',\n",
       " 'decade radio van breugel miley 1977 widespread active galaxy miley 1980 play fundamental role galaxy activity radiation believe synchrotron emission still optical counterpart radio butcher van breugel miley 1980 fraixburnet 1991 optical synchrotron important subject hst macchetto 1981 miley 1981 bright knot radio typical scale correspond tenth arcsecond angular resolution hst maximum contrast knotty relatively smooth galaxy sky moreover hst ultraviolet contrast synchrotron emission stellar population associated galaxy enhance radio galaxy possess optical pks 0521 36 3c 66b pilot science assessment precise light element ratio heliumhydrogen deuteriumhydrogen couple big bang nucleosynthesis theory tightly constrain cosmic baryonic mass density burl tytler 1996 omeara 2001 steigman 2010 cooke pettini steidel 2018 complement independent cosmic microwave background planck xiii 2016 triumph theoretical astrophysic cosmology baryonic cosmic mean established observer perform census baryon universe cosmic time fukugita hogan peeble 1998 prochaska tumlinson 2009 early time growth substantial structure accept majority baryon cool 104k diffuse plasma galaxy intergalactic medium igm sargent 1980 miraldaescud 1996 plasma socalled hi ly forest spectra source rauch 1998 extragalactic uv background euvb optical depth ly forest baryon reside igm rauch 1998 fauchergigure 2008a indeed researcher invert experiment leverage ly forest cosmological simulation assess euvb cosmological parameter fauchergigure 2008b palanquedelabrouille 2013 run clock dark matter collapse galactic halo large structure bring baryon gas stream halo predict shockheat virial temperature 106k halo mass circumgalactic medium cgm hot diffuse gas gas cool galaxy formation centre halo population dark matter halo predict 35percent dark matter baryonic mass principal interest future mass gas halo mass galaxy cluster xray',\n",
       " 'spectropolarimetric precise light element ratio heliumhydrogen deuteriumhydrogen couple big bang nucleosynthesis theory tightly constrain cosmic baryonic mass density burl tytler 1996 omeara 2001 steigman 2010 cooke pettini steidel 2018 complement independent cosmic microwave background planck xiii 2016 triumph theoretical astrophysic cosmology baryonic cosmic mean established observer perform census baryon universe cosmic time fukugita hogan peeble 1998 prochaska tumlinson 2009 early time growth substantial structure accept majority baryon cool 104k diffuse plasma galaxy intergalactic medium igm sargent 1980 miraldaescud 1996 plasma socalled hi ly forest spectra source rauch 1998 extragalactic uv background euvb optical depth ly forest baryon reside igm rauch 1998 fauchergigure 2008a indeed researcher invert experiment leverage ly forest cosmological simulation assess euvb cosmological parameter fauchergigure 2008b palanquedelabrouille 2013 run clock dark matter collapse galactic halo large structure bring baryon gas stream halo predict shockheat virial temperature 106k halo mass circumgalactic medium cgm hot diffuse gas gas cool galaxy formation centre halo population dark matter halo predict 35percent dark matter baryonic mass principal interest future mass gas halo mass galaxy cluster xray',\n",
       " 'distance 28 humphrey davidson 1984 77 carinae massive 10clo davidson 1986 luminous 106 6l0 westphal neugebauer 1969 star galaxy highly variable least last century outburst 1843 reach visual magnitude second bright star sky although time visual brightness fall factor 1000 wavelength 20 pm still bright object sky solar system opportunity supermassive star close range period highly unstable 77 carinae unique important object surround 77 car small nebula bright elongate 12 x17 49x 1017 cm x 69x 1017 cm structure call homunculus gaviola 1950 continuum broad ha emission homuncu noao association research astronomy inc cooperative science foundation 654 astron j 102 august 1991 lus highly polarize meaburn 1987 hereafter refer mww optical extent homunculus coincident extent thermal infrared aitken jone 1975 dusty visual primarily reflect light extend photosphere central object fainter outer shell n11 emission walborn 1976 davidson 1982 soft xray emission chlebowski 1984 think shock ionize cnoprocess ejecta proper motion homunculus gaviola 1950 outer shell material walborn blanco 1988 material eject 1800s resolution visible burgarella paresce 1991 infrared hackwell 1986 russel 1987 image structure emission 77 car clumpy impose ground base precise light element ratio heliumhydrogen deuteriumhydrogen couple big bang nucleosynthesis theory tightly constrain cosmic baryonic mass density burl tytler 1996 omeara 2001 steigman 2010 cooke pettini steidel 2018 complement independent cosmic microwave background planck xiii 2016 triumph theoretical astrophysic cosmology baryonic cosmic mean established observer perform census baryon universe cosmic time fukugita hogan peeble 1998 prochaska tumlinson 2009 early time growth substantial structure accept majority baryon cool 104k diffuse plasma galaxy intergalactic medium igm sargent 1980 miraldaescud 1996 plasma socalled hi ly forest spectra source rauch 1998 extragalactic uv background euvb optical depth ly forest baryon reside igm rauch 1998 fauchergigure 2008a indeed researcher invert experiment leverage ly forest cosmological simulation assess euvb cosmological parameter fauchergigure 2008b palanquedelabrouille 2013 run clock dark matter collapse galactic halo large structure bring baryon gas stream halo predict shockheat virial temperature 106k halo mass circumgalactic medium cgm hot diffuse gas gas cool galaxy formation centre halo population dark matter halo predict 35percent dark matter baryonic mass principal interest future mass gas halo mass galaxy cluster xray']"
      ]
     },
     "execution_count": 30,
     "metadata": {},
     "output_type": "execute_result"
    }
   ],
   "source": [
    "norm_body_5 = [];\n",
    "for i in range(5):\n",
    "    norm_body_5.append(norm_body_all[i])\n",
    "norm_body_5"
   ]
  },
  {
   "cell_type": "code",
   "execution_count": 31,
   "metadata": {},
   "outputs": [],
   "source": [
    "tvec3 = TfidfVectorizer(min_df=0.005, max_df=0.2)\n",
    "\n",
    "X3 = tvec3.fit_transform(norm_body_5)\n",
    "abs_dict_list = [];\n",
    "weights3 = [];\n",
    "for i in range(X3.shape[0]):\n",
    "    \n",
    "    weights3_0 = np.squeeze(X3[i].toarray())\n",
    "    df3 = pd.DataFrame({'term': tvec3.get_feature_names(), 'frequency': weights3_0})\n",
    "    tfidf_dict = df3.sort_values(by='frequency', ascending=False).head(40).to_dict()\n",
    "    abs_dict_list.append(tfidf_dict)"
   ]
  },
  {
   "cell_type": "code",
   "execution_count": 36,
   "metadata": {},
   "outputs": [],
   "source": [
    "tvec3 = TfidfVectorizer()\n",
    "\n",
    "X3 = tvec3.fit_transform(norm_body_5)\n",
    "abs_dict_list = [];\n",
    "weights3 = [];\n",
    "for i in range(X3.shape[0]):\n",
    "    \n",
    "    weights3_0 = np.squeeze(X3[i].toarray())\n",
    "    df3 = pd.DataFrame({'term': tvec3.get_feature_names(), 'frequency': weights3_0})\n",
    "    tfidf_dict = df3.sort_values(by='frequency', ascending=False).head(40).to_dict()\n",
    "    abs_dict_list.append(tfidf_dict)"
   ]
  },
  {
   "cell_type": "code",
   "execution_count": 41,
   "metadata": {
    "collapsed": true
   },
   "outputs": [
    {
     "data": {
      "text/plain": [
       "<BarContainer object of 25 artists>"
      ]
     },
     "execution_count": 41,
     "metadata": {},
     "output_type": "execute_result"
    },
    {
     "data": {
      "image/png": "[encoded data removed]",
      "text/plain": [
       "<Figure size 432x288 with 1 Axes>"
      ]
     },
     "metadata": {
      "needs_background": "light"
     },
     "output_type": "display_data"
    }
   ],
   "source": [
    "df4plot = pd.DataFrame.from_dict(abs_dict_list[0])\n",
    "df4p1 = df4plot.sort_values(by='frequency', ascending=False).head(25)\n",
    "plt.xlabel(\"Tf-Idf Score\", labelpad=16, fontsize=14)\n",
    "plt.barh(df4p1.term, df4p1.frequency, align='center', color='#3F5D7D')"
   ]
  },
  {
   "cell_type": "markdown",
   "metadata": {},
   "source": [
    "### - Iterate through preprocessing and tfidf to construct two vocabularies of stop-words\n",
    "### - Iterate the above for more text (publication 1000-2000, 2000-3000, etc)\n",
    "### - Partition the high-frequency words into the two vocabularies of stop-words"
   ]
  },
  {
   "cell_type": "code",
   "execution_count": 45,
   "metadata": {},
   "outputs": [],
   "source": [
    "from gensim.test.utils import datapath\n",
    "from gensim.models.word2vec import Text8Corpus\n",
    "from gensim.models.phrases import Phrases, Phraser\n",
    "sentences = Text8Corpus(datapath('testcorpus.txt'))"
   ]
  },
  {
   "cell_type": "code",
   "execution_count": 46,
   "metadata": {},
   "outputs": [
    {
     "name": "stdout",
     "output_type": "stream",
     "text": [
      "['timeserie', 'star', 'iii', 'iue', 'hst', 'spectroscopy', 'zeta', 'ophiuchi', 'photospheric', 'connection']\n"
     ]
    },
    {
     "name": "stderr",
     "output_type": "stream",
     "text": [
      "/Users/yanfeiwang/miniconda3/lib/python3.7/site-packages/smart_open/smart_open_lib.py:398: UserWarning: This function is deprecated, use smart_open.open instead. See the migration notes for details: https://github.com/RaRe-Technologies/smart_open/blob/master/README.rst#migrating-to-the-new-open-function\n",
      "  'See the migration notes for details: %s' % _MIGRATION_NOTES_URL\n"
     ]
    }
   ],
   "source": [
    "phrases = Phrases(sentences, min_count=1, threshold=1)\n",
    "print(phrases[title2word[0]])\n",
    "# random file 'sentences' do not help!"
   ]
  },
  {
   "cell_type": "code",
   "execution_count": null,
   "metadata": {},
   "outputs": [],
   "source": [
    "total_key_norm = df_key_v1['key_set_1']"
   ]
  },
  {
   "cell_type": "code",
   "execution_count": 67,
   "metadata": {},
   "outputs": [
    {
     "data": {
      "text/plain": [
       "16408"
      ]
     },
     "execution_count": 67,
     "metadata": {},
     "output_type": "execute_result"
    }
   ],
   "source": [
    "len(total_key_norm)"
   ]
  },
  {
   "cell_type": "code",
   "execution_count": 68,
   "metadata": {
    "collapsed": true
   },
   "outputs": [
    {
     "data": {
      "text/plain": [
       "[\"Time-Series Observations of O Stars. III. IUE and HST Spectroscopy of zeta Ophiuchi and Implications for the ``Photospheric Connection''\",\n",
       " 'Observations of the Gaseous Galactic Halo toward 3C 273 with the Goddard High Resolution Spectrograph',\n",
       " 'HST Observations of 3C 66B: A Double-stranded Optical Jet',\n",
       " 'High-Resolution Mid-Infrared Imaging and Astrometry of the Nucleus of the Seyfert Galaxy NGC 1068',\n",
       " 'Hubble Space Telescope Imaging of N Carninae',\n",
       " 'Internal structure and polarization of the optical jet of the quasar 3C273',\n",
       " 'Imaging the Bipolar Nebula around HM Sagittae',\n",
       " 'Hubble Space Telescope Wide Field Camera Imaging of the Gravitational Lens 2237+0305',\n",
       " 'The Interstellar Abundances of Tin and Four Other Heavy Elements',\n",
       " 'Deep Hubble Space Telescope Imaging of 53WO44: an SO Radio Galaxy at z=0.311']"
      ]
     },
     "execution_count": 68,
     "metadata": {},
     "output_type": "execute_result"
    }
   ],
   "source": [
    "import ast\n",
    "key_norm = [];\n",
    "for i in range(len(total_key_norm)):\n",
    "    key_norm.append(ast.literal_eval(total_key_norm[i]))"
   ]
  },
  {
   "cell_type": "code",
   "execution_count": 74,
   "metadata": {},
   "outputs": [
    {
     "data": {
      "text/plain": [
       "16408"
      ]
     },
     "execution_count": 74,
     "metadata": {},
     "output_type": "execute_result"
    }
   ],
   "source": [
    "len(key_norm)"
   ]
  },
  {
   "cell_type": "code",
   "execution_count": 73,
   "metadata": {},
   "outputs": [
    {
     "data": {
      "text/plain": [
       "8684"
      ]
     },
     "execution_count": 73,
     "metadata": {},
     "output_type": "execute_result"
    }
   ],
   "source": [
    "key_norm_all = []\n",
    "for i in range(len(key_norm)):\n",
    "    key_norm_all.extend(x for x in key_norm[i] if x not in key_norm_all)\n",
    "len(key_norm_all)"
   ]
  },
  {
   "cell_type": "code",
   "execution_count": 77,
   "metadata": {},
   "outputs": [],
   "source": [
    "word4bigram = [word_tokenize(key) for key in key_norm_all]"
   ]
  },
  {
   "cell_type": "code",
   "execution_count": 50,
   "metadata": {},
   "outputs": [
    {
     "data": {
      "text/plain": [
       "16408"
      ]
     },
     "execution_count": 50,
     "metadata": {},
     "output_type": "execute_result"
    }
   ],
   "source": [
    "# tokenize and clean all sentences, to prepare for building bigram model on entire list of maintext\n",
    "## run on google colab\n",
    "body_sents_words = [];\n",
    "for i in range(len(norm_body_all)):\n",
    "    try:\n",
    "        body_sents_words.append(tokenize_para(norm_body_all[i])['word'])       \n",
    "    except:\n",
    "        body_sents_words.append([['nan']]) \n",
    "len(body_sents_words)"
   ]
  },
  {
   "cell_type": "code",
   "execution_count": 51,
   "metadata": {
    "collapsed": true
   },
   "outputs": [
    {
     "data": {
      "text/plain": [
       "[['lineprofile',\n",
       "  'variability',\n",
       "  'earlytype',\n",
       "  'star',\n",
       "  'direct',\n",
       "  'dynamical',\n",
       "  'phenomenon',\n",
       "  'atmosphere',\n",
       "  'quasihydrostatic',\n",
       "  'region',\n",
       "  'continuumform',\n",
       "  'layer',\n",
       "  'outermost',\n",
       "  'region',\n",
       "  'stellar',\n",
       "  'wind',\n",
       "  'probe',\n",
       "  'resonanceline',\n",
       "  'p',\n",
       "  'cygni',\n",
       "  'profile',\n",
       "  'fullerton',\n",
       "  '1992',\n",
       "  'howarth',\n",
       "  '1992',\n",
       "  'prinja',\n",
       "  '1992',\n",
       "  'evident',\n",
       "  'variability',\n",
       "  'time',\n",
       "  'scale',\n",
       "  'luminous',\n",
       "  'ob',\n",
       "  'star',\n",
       "  'range',\n",
       "  'hour',\n",
       "  'day',\n",
       "  'intensive',\n",
       "  'timeserie',\n",
       "  'spectroscopy',\n",
       "  'require',\n",
       "  'characterize',\n",
       "  'fully',\n",
       "  'nature',\n",
       "  'variability',\n",
       "  'moreover',\n",
       "  'coordinate',\n",
       "  'precise',\n",
       "  'light',\n",
       "  'element',\n",
       "  'ratio',\n",
       "  'heliumhydrogen',\n",
       "  'deuteriumhydrogen',\n",
       "  'couple',\n",
       "  'big',\n",
       "  'bang',\n",
       "  'nucleosynthesis',\n",
       "  'theory',\n",
       "  'tightly',\n",
       "  'constrain',\n",
       "  'cosmic',\n",
       "  'baryonic',\n",
       "  'mass',\n",
       "  'density',\n",
       "  'burl',\n",
       "  'tytler',\n",
       "  '1996',\n",
       "  'omeara',\n",
       "  '2001',\n",
       "  'steigman',\n",
       "  '2010',\n",
       "  'cooke',\n",
       "  'pettini',\n",
       "  'steidel',\n",
       "  '2018',\n",
       "  'complement',\n",
       "  'independent',\n",
       "  'cosmic',\n",
       "  'microwave',\n",
       "  'background',\n",
       "  'planck',\n",
       "  'xiii',\n",
       "  '2016',\n",
       "  'triumph',\n",
       "  'theoretical',\n",
       "  'astrophysic',\n",
       "  'cosmology',\n",
       "  'baryonic',\n",
       "  'cosmic',\n",
       "  'mean',\n",
       "  'established',\n",
       "  'observer',\n",
       "  'perform',\n",
       "  'census',\n",
       "  'baryon',\n",
       "  'universe',\n",
       "  'cosmic',\n",
       "  'time',\n",
       "  'fukugita',\n",
       "  'hogan',\n",
       "  'peeble',\n",
       "  '1998',\n",
       "  'prochaska',\n",
       "  'tumlinson',\n",
       "  '2009',\n",
       "  'early',\n",
       "  'time',\n",
       "  'growth',\n",
       "  'substantial',\n",
       "  'structure',\n",
       "  'accept',\n",
       "  'majority',\n",
       "  'baryon',\n",
       "  'cool',\n",
       "  '104k',\n",
       "  'diffuse',\n",
       "  'plasma',\n",
       "  'galaxy',\n",
       "  'intergalactic',\n",
       "  'medium',\n",
       "  'igm',\n",
       "  'sargent',\n",
       "  '1980',\n",
       "  'miraldaescud',\n",
       "  '1996',\n",
       "  'plasma',\n",
       "  'socall',\n",
       "  'hi',\n",
       "  'ly',\n",
       "  'forest',\n",
       "  'spectra',\n",
       "  'source',\n",
       "  'rauch',\n",
       "  '1998',\n",
       "  'extragalactic',\n",
       "  'uv',\n",
       "  'background',\n",
       "  'euvb',\n",
       "  'optical',\n",
       "  'depth',\n",
       "  'ly',\n",
       "  'forest',\n",
       "  'baryon',\n",
       "  'reside',\n",
       "  'igm',\n",
       "  'rauch',\n",
       "  '1998',\n",
       "  'fauchergigure',\n",
       "  '2008a',\n",
       "  'indeed',\n",
       "  'researcher',\n",
       "  'invert',\n",
       "  'experiment',\n",
       "  'leverage',\n",
       "  'ly',\n",
       "  'forest',\n",
       "  'cosmological',\n",
       "  'simulation',\n",
       "  'assess',\n",
       "  'euvb',\n",
       "  'cosmological',\n",
       "  'parameter',\n",
       "  'fauchergigure',\n",
       "  '2008b',\n",
       "  'palanquedelabrouille',\n",
       "  '2013',\n",
       "  'run',\n",
       "  'clock',\n",
       "  'dark',\n",
       "  'matter',\n",
       "  'collapse',\n",
       "  'galactic',\n",
       "  'halo',\n",
       "  'large',\n",
       "  'structure',\n",
       "  'bring',\n",
       "  'baryon',\n",
       "  'gas',\n",
       "  'stream',\n",
       "  'halo',\n",
       "  'predict',\n",
       "  'shockheat',\n",
       "  'virial',\n",
       "  'temperature',\n",
       "  '106k',\n",
       "  'halo',\n",
       "  'mass',\n",
       "  'circumgalactic',\n",
       "  'medium',\n",
       "  'cgm',\n",
       "  'hot',\n",
       "  'diffuse',\n",
       "  'gas',\n",
       "  'gas',\n",
       "  'cool',\n",
       "  'galaxy',\n",
       "  'formation',\n",
       "  'centre',\n",
       "  'halo',\n",
       "  'population',\n",
       "  'dark',\n",
       "  'matter',\n",
       "  'halo',\n",
       "  'predict',\n",
       "  '35percent',\n",
       "  'dark',\n",
       "  'matter',\n",
       "  'baryonic',\n",
       "  'mass',\n",
       "  'principal',\n",
       "  'interest',\n",
       "  'future',\n",
       "  'mass',\n",
       "  'gas',\n",
       "  'halo',\n",
       "  'mass',\n",
       "  'galaxy',\n",
       "  'cluster',\n",
       "  'xray']]"
      ]
     },
     "execution_count": 51,
     "metadata": {},
     "output_type": "execute_result"
    }
   ],
   "source": [
    "body_sents_words[0]"
   ]
  },
  {
   "cell_type": "code",
   "execution_count": 78,
   "metadata": {},
   "outputs": [
    {
     "data": {
      "text/plain": [
       "312028"
      ]
     },
     "execution_count": 78,
     "metadata": {},
     "output_type": "execute_result"
    }
   ],
   "source": [
    "# combine all list of list of words for full texts\n",
    "all_full_texts = [];    \n",
    "for i in range(len(body_sents_words)):\n",
    "    all_full_texts = all_full_texts + body_sents_words[i]\n",
    "len(all_full_texts)"
   ]
  },
  {
   "cell_type": "code",
   "execution_count": null,
   "metadata": {},
   "outputs": [],
   "source": [
    "all_full_texts = [];    \n",
    "for i in range(1000):\n",
    "    all_full_texts = all_full_texts + body_sents_words[i]\n",
    "len(all_full_texts)"
   ]
  },
  {
   "cell_type": "code",
   "execution_count": 79,
   "metadata": {},
   "outputs": [
    {
     "data": {
      "text/plain": [
       "16408"
      ]
     },
     "execution_count": 79,
     "metadata": {},
     "output_type": "execute_result"
    }
   ],
   "source": [
    "# tokenize and clean all sentences, to prepare for building bigram model on entire list of abstracts\n",
    "## takes too long to run on local computer\n",
    "## run on google colab\n",
    "sents = [];\n",
    "for i in range(len(abs_list)):\n",
    "    try:\n",
    "        sents.append(tokenize_para(abs_list[i])['word'])       \n",
    "    except:\n",
    "        sents.append([['nan']]) \n",
    "len(sents)"
   ]
  },
  {
   "cell_type": "code",
   "execution_count": 80,
   "metadata": {},
   "outputs": [
    {
     "data": {
      "text/plain": [
       "155996"
      ]
     },
     "execution_count": 80,
     "metadata": {},
     "output_type": "execute_result"
    }
   ],
   "source": [
    "# combine all list of list of words for abstracts\n",
    "all_abstracts = [];    \n",
    "for i in range(len(sents)):\n",
    "    all_abstracts = all_abstracts + sents[i]\n",
    "len(all_abstracts)"
   ]
  },
  {
   "cell_type": "code",
   "execution_count": 286,
   "metadata": {},
   "outputs": [],
   "source": [
    "df_key_v1['abs_words'] = sents\n",
    "#'abs_words' is tokenized, cleaned abstract , a list of list of words"
   ]
  },
  {
   "cell_type": "code",
   "execution_count": 58,
   "metadata": {},
   "outputs": [
    {
     "data": {
      "text/plain": [
       "1000"
      ]
     },
     "execution_count": 58,
     "metadata": {},
     "output_type": "execute_result"
    }
   ],
   "source": [
    "sents = [];\n",
    "for i in range(1000,2000):\n",
    "    try:\n",
    "        sents.append(tokenize_para(abs_list[i])['word'])       \n",
    "    except:\n",
    "        sents.append([['nan']]) \n",
    "len(sents)"
   ]
  },
  {
   "cell_type": "code",
   "execution_count": 59,
   "metadata": {},
   "outputs": [
    {
     "data": {
      "text/plain": [
       "9583"
      ]
     },
     "execution_count": 59,
     "metadata": {},
     "output_type": "execute_result"
    }
   ],
   "source": [
    "# combine all list of list of words for abstracts\n",
    "all_abstracts = [];    \n",
    "for i in range(len(sents)):\n",
    "    all_abstracts = all_abstracts + sents[i]\n",
    "len(all_abstracts)"
   ]
  },
  {
   "cell_type": "code",
   "execution_count": 116,
   "metadata": {
    "collapsed": true
   },
   "outputs": [
    {
     "name": "stdout",
     "output_type": "stream",
     "text": [
      "['stellarwind', 'variability', 'archetypal', 'nonradially_pulsate', 'star_oph', '095_v', 'basis_timeserie', 'lue_hst', 'spectroscopy_archival']\n",
      "['timevariable', 'discrete_absorption', 'component_velocity', '10_km', '08', 'migrate', 'blueward', 'recurrence_time', 'scale', 'phenomenon_20', 'hr']\n",
      "['variability', 'luminosityclass', 'v_star', 'ubiquity', 'behavior', '0star', 'regime']\n",
      "['acceleration_slow', 'predict', 'steady_state', 'wind_model', 'timeaveraged', 'velocity_law', 'outflow']\n",
      "['uv', 'simultaneous_optical', 'ii', 'nonradial_pulsation', 'direct', 'role', 'gross', 'observational_characteristic', 'discrete_absorption', 'component_long', 'year_short', 'hour_time', 'scale']\n",
      "['linedriven_instability', 'mechanism', 'variability_uv', 'p_cygni', 'profile', 'oph', 'extension_star']\n",
      "['24', 'absorption_line', 'redshift', 'milky_disk', 'halo_gas', 'sight_line', '3c_273']\n",
      "['intermediateresolution', 'mode_goddard', 'resolution_spectrograph', 'ghrs_large', 'entrance_aperture']\n",
      "['spectral_spread', 'function_fwhm', '20_km', 's1_broad', 'wing']\n",
      "['specie_c', 'ii_c', 'ii_c', 'iv_n', 'v_mg', 'ii_si', 'ii_si', 'iv_ii', 'mn_ii', 'fe_ii', 'ni_ii']\n",
      "['line_contaminate', 'earth_atmospheric', 'emission_si', 'iv_doublet', 'line_contaminate', 'intergalactic_h', 'lyman_line']\n",
      "['set_absorption', 'line_information', 'neutral', 'highly_ionized', 'gas_galactic', 'disk_halo']\n",
      "['data', 'reliable_column', 'density_depletion', 'si_ii', 'ii_mn', 'ii_ni', 'ii']\n",
      "['n_h', 'profile_faint', 'object', 'lyman', 'bahcall_al']\n",
      "['1991a']\n",
      "['analyze_ghrs', 'standard', 'curveofgrowth', 'technique', 'apparent_optical', 'depth', 'base_ii', 'overabundant', '016_dex', 'si_mn', 'ni', 'modest_depletion', '067', '081', 'dex', 'representative', 'low_density', 'interstellar_medium']\n",
      "['overabundance', 'probably_substantial', 'amount', 'ii', 'warm_ionized', 'gas_3c', '273']\n",
      "['ionized_gas', 'probably_influence', 'si_mn', 'ni']\n",
      "['column_density', 'c_ii', 'yield_information', 'cool_rate', 'nucleon', 'gas_3c', '273']\n",
      "['cool_rate', 'time_low', 'average_galactic', 'disk']\n",
      "['reliable_column', 'density_si', 'iv_c', 'iv_n', 'v', 'amount_highly', 'ionize_gas', '3c_273', 'sight_line', 'galactic_star', 'star_lmc', 'smc']\n",
      "['amount_highly', 'ionize_gas', 'perpendicular_galactic', 'plane', '23_time', 'lmc_smc']\n",
      "['highly_ionized', 'gas_recent', 'vi', 'davidsen_al']\n",
      "['1992', 'seem_explain', 'cool_flow', 'galactic_fountain', 'additional_contribution', 'absorption_gas', 'energetic_event', 'galactic_radio', 'loop_iv']\n",
      "['kinematical_information', 'gas_motion', 'extended', 'path', 'halo']\n",
      "['highionization_line', 'average_velocity', 'approximately_10', 'km_s1', 'negative', 'weak_lowionization', 'line_suggestive', 'inflow_hot', 'gas', 'highlatitude', 'sight_line']\n",
      "['strongly_saturate', 'line_fe', 'ii_mg', 'ii_si', 'ii_c', 'ii_exhibit', 'full_extent', 'halfabsorption', 'depth_range', '120_km', 's1', '150_km', 's1']\n",
      "['line', 'evidently', 'trace', 'highvelocity_dispersion', 'phase_gas', '3c_273', 'apparent_h', '21_cm', 'emissionline']\n",
      "['highvelocity_gas', 'absorptionline_component', '100_km', 's1_lt', 'v_lt', '1000_km', 's1', 'evident', 'profile_lowionization', 'specie', 'highly_ionized', 'specie']\n",
      "['ghrs_absorptionline', 'equivalent_width', 'specie', 'extragalactic_sight', 'line_lmc', 'smc', 'h1821_643']\n",
      "['case', 'lowionization_line', 'absorptionline_equivalent', 'width', '3c_273', 'intermediate', 'smc_sight', 'line_lmc', 'h1821_643', 'sight_line']\n",
      "['lowionization_line', 'mostly', 'kinematical', 'condition_sight', 'line_object']\n",
      "['highionization_line', 'less', 'saturated', 'mostly', 'column_density', 'great', '3c_273', 'path']\n",
      "['3c_273', 'milky_disk', 'halo', 'absorptionline_qso', 'damped_lyman', 'absorptionline_system']\n",
      "['lowionization_line', 'strongly_saturate']\n",
      "['correspondence', 'similarity_kinematical', 'behavior', 'turbulent_phase', 'absorbing_system', 'necessarily', 'elemental_abundance']\n",
      "['faint_object', 'camera_hst', 'image_central', 'region_synchrotron', '3c_66b', 'ultrahigh', 'spatial_resolution']\n",
      "['image_angular', 'resolution_01', 'correspond_linear', 'scale_40', 'pc']\n",
      "['factor_12', 'linear_resolution', 'optical_image', 'time_radio', 'map_vla']\n",
      "['close_correspondence', 'general_characteristic', 'smooth', 'optical_image', 'radio_map', 'young_lt', '1000_yr', 'old_gt', '107_yr', 'relativistic_particle', 'occupy_region', '130_pc']\n",
      "['particularly_intriguing', 'doublestrand', 'filamentary_nature', 'clearly', 'fullresolution', 'image']\n",
      "['could_reflect', 'edge_brighten', 'effect', 'enhanced_radiation', 'skinlike', 'structure_surround']\n",
      "['simple_interpretation', 'similarity_optical', 'radio_morphology', 'would', 'localized_particle', 'acceleration', 'occur']\n",
      "['filamentary_structure', 'fill_factor', 'radiation_would', 'model_electron', 'accelerate_nucleus', 'transport', 'channel_low', 'magnetic_field', 'consequent', 'low_radiation', 'loss']\n",
      "['goddard_infrared', 'array_camera', 'resolution_07', 'fwhm_image', 'nucleus_ngc', '1068', '124_micron']\n",
      "['location', '124_micron', 'peak_relative', 'peak_optical', 'continuum']\n",
      "['bright_part', 'infrared_nuclear', 'peak_elongate', 'ns', 'pa']\n",
      "['8deg', 'extent', 'correct', 'instrumental', 'blurring', '06_fwhm', '45_pc']\n",
      "['fainter_structure', 'deconvolv_image', 'extend_150', 'pc_ne', 'pa']\n",
      "['30deg', 'probably_15', '110_pc', 'sw', 'pa200deg']\n",
      "['approximately_half', 'nuclear', '124_micron', 'flux_extended', 'component']\n",
      "['distribution', '124_micron', 'emission_correlate', 'ii_5007', 'ionization_cone', 'optical_continuum', 'emission_image', 'hst', 'align_perpendicular', 'plane_putative', 'molecular_torus']\n",
      "['morphology_extended', 'emission_could', 'term', 'scattering_nuclear', 'radiation_extended', 'electron_cloud', 'torus', 'axi', 'polarization_low', 'wrong', 'direction_model']\n",
      "['extended_midinfrared', 'emission_thermal', 'radiation_dust', 'circumnuclear', 'cloud_heat', 'collimated', 'opticaluv', 'agn_source', 'unresolved', '124_micron', 'emission_still', 'originate', 'torus']\n",
      "['infrared_emission', 'peak_03', '20_pc', '015_south', 'optical_continuum', 'peak_coincide', 'apex', 'ionization_cone', 'presume_location', 'torus']\n",
      "['displacement_optical', 'continuum', 'midinfrared_peak', 'predict', 'miller_goodrich', 'amp', 'mathew_1991', 'separation', 'electron_scatter', 'zone_nuclear', 'opticaluv_source']\n",
      "['spatial_resolution', 'material_eta', 'carinae_telescope', 'wide_fieldplanetary', 'camera']\n",
      "['star_eta', 'carinae_massive', 'luminous_star', 'galaxy', 'episodically', 'expel', 'quantity_gas', 'last_century']\n",
      "['morphology_bright', 'central', 'nebulosity', 'homunculus', 'thin_shell', 'define_edge', 'clumpy', '02_arcsec', '10', '16th', 'cm_scale']\n",
      "['extension', 'northeast', 'star', 'nnn', 'walborn_1976', 'nomenclature', 'stellar', 'associated', 'bow_shock']\n",
      "['bow_shock', 'notable', 'intriguing', 'series', 'parallel', 'linear_feature', 'face']\n",
      "['ridge', 'w', 'arc_part', 'cap_emission', 'locate_sw', 'star']\n",
      "['ne_sw', 'cap', 'symmetry', 'axi', 'system', 'run_nesw', 'rather', 'senw', 'suppose']\n",
      "['material_star', 'oblate', 'shell', 'polar', 'blowout', 'rather', 'bipolar_flow']\n",
      "['extragalactic_radio', 'source', '3c273', 'quasar_identify', 'remain_luminous', 'quasar_know']\n",
      "['radio_image', '24_bright', 'pointlike_nucleus', 'emerge', 'single_large', 'apparent_optical', 'image_58', 'relatively_poor', 'resolution_groundbased', 'optical_hamper', 'detailed_comparison', 'radio_map']\n",
      "['highresolution_intensity', 'polarization_map', 'optical', '3c273', 'faint_object', 'camera_telescope']\n",
      "['optical_emission', 'tightly_confine', 'core_radio', 'highly_polarize', 'knot_structure']\n",
      "['optical_radio', 'emission_explain', 'synchrotron_radiation', 'stream', 'energetic_particle', 'burrow', 'surround_medium']\n",
      "['comparison_radio', 'map_asymmetry', 'emission_lateral', 'motion_relative', 'ambient_medium']\n",
      "['onset_optical', 'emission_distance', 'nucleus', '3c273', 'could_arise', 'interaction_shell', 'gaseous_material', 'surround_galaxy']\n",
      "['telescope_faint', 'object_camera', 'uv_image', 'hm_sge', 'bipolar', 'optical_nebula', 'r_aquarii', 'rx_puppi']\n",
      "['nebula_extend', 'distance', '0174', 'pa']\n",
      "['135', 'degree', 'faint_halo', 'extend_radius', '028']\n",
      "['kinematic_distance', 'hm_sge', 'base_position', 'feature_nebula', '177', '01']\n",
      "['comparison_uv', 'image_radio', 'map', '1982', 'iue_spectra', 'demonstrate_system', 'still_undergo', 'dramatic_change']\n",
      "['section_interstellar', 'medium_nebulae']\n",
      "['telescope_wide', 'field_camera', 'image_gravitational', 'lens_22370305', 'f336w_u', 'f702w_filter', 'construct_model', 'system']\n",
      "['position_quasar', 'image_accurate', '0015', 'relative_magnitude', 'u_r', 'accurate', '006_004', 'mag_respectively']\n",
      "['upper_brightness', 'fifth_image', 'lt_bright', 'quasar_image']\n",
      "['long_baseline', 'r_u', 'differential_image', 'reddening']\n",
      "['ml', 'free_parameter', 'describe_lens', 'parameter_describe', 'position_quasar', 'source_plane', 'quasar_image', 'position_reproduce', '003', '25_separation', 'time_relative', 'brightness', 'reproduce_factor', '15']\n",
      "['image', 'amplification', 'constrain_model', 'factor', '1852']\n",
      "['modeling_assume', 'surface_mass', 'density_lens', 'galaxy_proportional', 'surface_brightness']\n",
      "['mass_lens', '09', '108002x1010msunh1100', 'correspond_masstolight', 'ratio_b', '123h100']\n",
      "['ml_agree', 'stellar_dynamic', 'elliptical_galaxy']\n",
      "['mass_inner', '500h1100', 'pc_constrain', 'phenomenological_model', 'precise_mass', 'determination_know', 'bulge_elliptical']\n",
      "['comparison_prediction', 'mass_model', 'central_velocity', 'dispersion_yield', 'distance_independent', 'agreement', '10_assume', 'isotropic_velocity', 'dispersion']\n",
      "['influence_mass', 'mg_ii', 'absorber_z', '09', 'lensing_unimportant']\n",
      "['detailed_agreement', 'lens_model', '22370305', 'achieve_lens', 'equation', 'general_relativity', 'cosmological_interpretation', 'quasar_redshift', 'confirmation_standard', 'theory']\n",
      "['spectra', '11501600', 'instrumental_resolution', '16_km', 'goddard_highresolution', 'spectrograph_board', 'hst']\n",
      "['gaseous_interstellar', 'abundance_heavy', 'element', 'light_path', '23_ori', '15_mon', 'sco_pi', 'sco_pi', 'aqr']\n",
      "['1400450', 'line_sn', 'ii_identify', 'star_z', '50', 'tin_element', 'fifth', 'row_periodic', 'table', 'identify_interstellar', 'medium']\n",
      "['spectral_line', 'cu_ii', 'z_29', 'ga_ii', 'z_31', 'line_ge', 'ii_z', '32_line', 'kr', 'z_36', 'star']\n",
      "['depletion_heavy', 'element_generally', 'decrease_monotonically', 'increase', 'atomic', 'star', 'tin', 'generally', 'undeplet', 'observational_error']\n",
      "['depletion', '26_element', 'interstellar_gas', 'average_dense', 'interstellar_cloud', 'correlate', 'elemental', 'nebular_condensation', 'temperature', 'closely', 'ionization_potential']\n",
      "['image_widefield', 'camera_wfc', 'faintobject_camera', 'foc_radio', 'galaxy', '53w044', 'part_morphological', 'faint', 'radiosource_population']\n",
      "['wfc_image', 'examine_structure', 'galaxy_disk', 'contribute_18', '20_light', 'v_band', 'lead_us', 'classify', '53w044', 's0']\n",
      "['radio_galaxy', 'maximum_radio', 'power_source', 's0_galaxy']\n",
      "['wfc_image', 'close_companion', 'project_distance', 'h0_75', 'km_s1', 'mpc1_q0', '05']\n"
     ]
    }
   ],
   "source": [
    "# train a bigram model on all titles, keywords, keyword_norms, all abstracts, 1000 full papers\n",
    "bigram2 = gensim.models.phrases.Phrases(title2word+word4bigram+all_abstracts+all_full_texts, min_count=1, threshold=0.005) \n",
    "for i in range(100):\n",
    "    print(bigram2[all_abstracts[i]])"
   ]
  },
  {
   "cell_type": "code",
   "execution_count": 61,
   "metadata": {
    "collapsed": true
   },
   "outputs": [
    {
     "name": "stdout",
     "output_type": "stream",
     "text": [
      "['timeserie', 'star', 'iii', 'iue_hst', 'spectroscopy', 'zeta_ophiuchi', 'photospheric', 'connection']\n",
      "['gaseous_galactic', 'halo', '3c_273', 'goddard_resolution', 'spectrograph']\n",
      "['hst', '3c_66b', 'doublestrand', 'optical']\n",
      "['highresolution_midinfrar', 'imaging', 'astrometry', 'nucleus', 'seyfert_galaxy', 'ngc_1068']\n",
      "['imaging', 'n', 'carninae']\n",
      "['internal_structure', 'polarization', 'optical', 'quasar_3c273']\n",
      "['image', 'bipolar_nebula', 'hm_sagittae']\n",
      "['wide_field', 'camera_imaging', 'gravitational_lens', '22370305']\n",
      "['interstellar_abundance', 'tin', 'heavy_element']\n",
      "['deep_imaging', '53wo44', 'radio_galaxy', 'z0311']\n",
      "['ngc', '4313', 'ii', 'iband', 'surface_photometry', 'nuclear_region']\n",
      "['faint_object', 'spectrograph', 'spectra', 'broad_fe', 'ii_absorption', 'line', 'remnant_sn', '1006']\n",
      "['quasar_absorption', 'line_key', 'project_iii', 'observational', 'milky', 'gas']\n",
      "['chromospheric_heating', 'acoustic', 'shock', 'confrontation', 'ghrs', 'alpha_tauri', 'k5_iii', 'ab', 'initio_calculation']\n",
      "['optical', 'markarian_463']\n",
      "['galactic_halo', 'intergalactic_medium', 'pks_2155304']\n",
      "['r_aquarii', 'attempt', 'unified_model']\n",
      "['imaging', 'north_polar', 'aurora_jupiter']\n",
      "['faint_object', 'spectrograph_groundbas', 'broad_absorption', 'line', 'quasar', '02261024']\n",
      "['stellar', 'photometry', 'widefieldplanetary_camera', 'progress']\n",
      "['massive_star', 'r136', 'region_30', 'doradus']\n",
      "['faint_object', 'camera', 'farultraviolet', 'objective_prism', '12', 'z_gt', 'quasar']\n",
      "['ionization_cone', 'seyfert_galaxy', 'ngc_5728']\n",
      "['ultraviolet_transition', 'low_condensation', 'temperature', 'heavy_element', 'interstellar', 'arsenic_selenium', 'tellurium', 'lead']\n",
      "['detection', 'ii_lambda', '2471', 'io_plasma', 'torus']\n",
      "['ultraviolet_absorption', 'spectrum_3c', '273']\n",
      "['identification', 'highly_ionize', 'metal', 'specie', 'hot', 'da1', 'white_dwarf', 'g191b2b', 'faint_object', 'spectrograph']\n",
      "['star_count', 'snapshot', 'galactic', 'model']\n",
      "['constraint', 'shape_uv', 'background', 'z2']\n",
      "['optical', 'xray', 'ray', 'compact_object', 'globular_cluster']\n",
      "['absorption_line', 'highredshift', 'lyman_system', 'qso_hs', '17006416']\n",
      "['astrometric_premain', 'sequence_star', 'hipparcos']\n",
      "['hst', 'ngc_4395', 'least_luminous', 'seyfert_nucleus', 'starburst', 'hypothesis', 'broadlin', 'active_galactic', 'nucleus']\n",
      "['saturn', 'upper_atmospheric', 'haze']\n",
      "['1990_equatorial', 'disturbance_saturn', 'zonal_wind', 'central_meridian', 'albedo']\n",
      "['imaging', 'largeredshift_gravitational', 'lens_candidate', '12081011']\n",
      "['titan', 'seasonal', 'changea', 'comparison', 'voyager_image']\n",
      "['faint_object', 'camera', 'globular_cluster', 'nova', 'field']\n",
      "['ultraviolet_spectroscopy', 'nova_muscae', '1991']\n",
      "['cluster', 'nascent_galaxy', 'z']\n",
      "['ultravioletexcess', 'selection', 'counterpart', 'globular_cluster', 'xray_burster', 'image_core', 'ngc_6712']\n",
      "['interstellar_mg', 'ii_c', 'iv_absorption', 'markarian_205', 'ngc_4319', 'optically_thick', 'qso_absorption', 'system']\n",
      "['hst_imaging', 'hydrogenpoor_ejecta', 'abell_30', 'abell_78', 'windblown', 'cometary_structure']\n",
      "['deep_imaging', 'compact_radio', 'galaxy_z', '2390']\n",
      "['ngc_1068', 'resolution', 'nuclear', 'structure', 'optical_continuum']\n",
      "['goddard_highresolution', 'spectrograph', 'c_co', 'xi_persei', 'physical_condition', 'diffuse_cloud']\n",
      "['faint_object', 'spectrograph_spectroscopy', 'structure', 'nucleus', 'ngc_1068']\n",
      "['binary', 'star_fine', 'guidance_sensor', 'ad_11300']\n",
      "['goddard_highresolution', 'spectrograph', 'photospheric_microturbulence', 'early', 'star', 'surface_gravity', 'systematically', 'underestimate']\n",
      "['faint_object', 'camera', '87', 'nucleus']\n",
      "['goddard_highresolution', 'spectrograph_ultraviolet', 'spectra', 'starburst', 'knot', 'ngc_1068']\n",
      "['goddard_highresolution', 'spectrograph', 'narrow', 'discrete_stellar', 'wind', 'absorption_feature', 'ultraviolet_spectrum', 'o75', 'iii', 'star', 'xi_persei']\n",
      "['scatter_light', 'echelle_mode', 'goddard_resolution', 'spectrograph_aboard', 'ii', 'inflight', 'spectroscopic']\n",
      "['xray_nova', 'muscae_1991', 'spectral_evolution']\n",
      "['goddard_highresolution', 'spectrograph', 'demonstration', 'spectral_resolution', 'experiment', 'deconvolution']\n",
      "['goddard_highresolution', 'spectrograph', 'spectroscopic', 'determination_stellar', 'parameter', 'melnick_42', 'o3f', 'star', 'large_magellanic', 'cloud']\n",
      "['farultraviolet_spectroscopy', 'quasar_um', '675', 'faint_object', 'spectrograph']\n",
      "['gain', 'deconvolution_faint', 'galaxy', 'wide_field', 'camera']\n",
      "['nearultraviolet', 'imaging_jupiter', 'satellite', 'io']\n",
      "['detection_boron', 'cobalt', 'weak_interstellar', 'line', 'zeta_ophiuchi']\n",
      "['detection', 'ultraviolet_visible', 'counterpart', 'ngc_6624', 'xray_burster']\n",
      "['preliminary_ultraviolet', 'faint_object', 'camera_image', 'center_m31']\n",
      "['structure', 'core_47', 'tucanae']\n",
      "['faint_object', 'camera_image', 'core_r', 'aquarii']\n",
      "['deconvolution', 'photometry', 'faint_object', 'camera_image', 'point_source']\n",
      "['radio_optical', 'structure', '3c_66b']\n",
      "['compact', 'subarcsec_structure', 'double_nucleus', 'ngc_6240', 'hst']\n",
      "['goddard_highresolution', 'spectrograph', 'highresolution', '1942', 'angstrom', 'resonance_line', 'hg_ii', 'chemically_peculiar', 'b_star', 'chi_lupi']\n",
      "['goddard_highresolution', 'spectrograph', 'velocity', 'density', 'structure', 'beta_pictoris', 'circumstellar', 'gas']\n",
      "['nonlte_line', 'formation', 'iron_element']\n",
      "['approach', 'wavefront', 'distortion']\n",
      "['ultraviolet_polarimetry', 'spectroscopy_bl', 'lacertae_object', 'pks_2155304']\n",
      "['onset', 'growth', '1990_equatorial', 'disturbance_saturn']\n",
      "['calibration_hst', 'narrow_band', 'filter', 'orion_nebula']\n",
      "['cepheid_distance', 'ic_4182', 'calibration', 'vmax', 'sn_ia', '1937c_h']\n",
      "['inner_coma', 'imaging', 'comet_levy', '1990c']\n",
      "['faint_object', 'camera_image', 'gravitational_lens', 'system', 'g22370305']\n",
      "['1990_equatorial', 'disturbance_saturn', 'image', 'albedo', 'limb_darkening']\n",
      "['fos', 'kpd_00055106', 'subluminous', 'wnwc', 'descendant', 'ongoing_mass', 'outflow']\n",
      "['image_deconvolution', 'extended', 'object', 'comparison', 'inverse', 'fourier', 'lucy', 'technique']\n",
      "['highly_ionized', 'atom', 'hd_93521']\n",
      "['faint_object', 'camera_highresolution', 'central', 'object_r136', '30_doradus', 'nebula']\n",
      "['core', 'nearby_s0', 'galaxy', 'ngc_7457', 'image_hst', 'planetary_camera']\n",
      "['resolution', 'southern', 'radio_lobe', '3c_33', '660', 'nm']\n",
      "['detection', 'collapse_core', 'globular_cluster', 'm31']\n",
      "['ultraviolet', 'gas_phase', 'abundance', 'diffuse_cloud', 'zeta_ophiuchi', '35_kilometer', 'second_resolution']\n",
      "['general_bayesian', 'image_reconstruction', 'algorithm', 'entropy_prior', 'preliminary', 'application', 'hst']\n",
      "['abundance_interstellar', 'carbon', 'zeta_ophiuchi']\n",
      "['gravitational_lensing', 'quasar', 'snapshot']\n",
      "['gravitational_lens', 'candidate', 'discover']\n",
      "['maximum_entropy', 'restoration', 'blurred', 'oversaturated', 'imagery']\n",
      "['detection', 'proton_beam', 'impulsive_phase', 'stellar', 'flare']\n",
      "['ultraviolet_imaging', 'jovian_aurora']\n",
      "['faint_object', 'camera_highresolution', 'imaging_plutocharon', 'system']\n",
      "['ultraviolet', 'stellar_coronae', 'early', 'hst']\n",
      "['hst', 'foc48', 'uv', 'imagery', 'gr8']\n",
      "['comparison_iue', 'amp', 'hst_ultraviolet', 'spectra', 'extragalactic_h', 'ii_region']\n",
      "['faint_object', 'spectrograph', 'largeredshift_gravitational', 'lens_candidate', '12081011']\n",
      "['hst_imaging', 'inner_arcsecond', 'ngc_1068', 'light', 'iii', 'lambda', '5007']\n",
      "['widefieldplanetary_camera', 'image_saturn']\n"
     ]
    }
   ],
   "source": [
    "for i in range(100):\n",
    "    print(bigram1[title2word[i]])"
   ]
  },
  {
   "cell_type": "code",
   "execution_count": 118,
   "metadata": {
    "collapsed": true
   },
   "outputs": [
    {
     "name": "stdout",
     "output_type": "stream",
     "text": [
      "['timeserie', 'star_iii', 'iue_hst', 'spectroscopy', 'zeta_ophiuchi', 'photospheric', 'connection']\n",
      "['gaseous_galactic', 'halo', '3c_273', 'goddard_resolution', 'spectrograph']\n",
      "['hst_3c', '66b', 'doublestrand', 'optical']\n",
      "['highresolution_midinfrar', 'imaging', 'astrometry', 'nucleus_seyfert', 'galaxy_ngc', '1068']\n",
      "['telescope_imaging', 'n', 'carninae']\n",
      "['internal_structure', 'polarization_optical', 'quasar_3c273']\n",
      "['image_bipolar', 'nebula', 'hm_sagittae']\n",
      "['telescope_wide', 'field_camera', 'imaging_gravitational', 'lens_22370305']\n",
      "['interstellar_abundance', 'tin', 'heavy_element']\n",
      "['deep_telescope', 'imaging', '53wo44', 'radio_galaxy', 'z0311']\n",
      "['ngc', '4313', 'ii_telescope', 'iband_surface', 'photometry_nuclear', 'region']\n",
      "['faint_object', 'spectrograph_spectra', 'broad_fe', 'ii_absorption', 'line_remnant', 'sn_1006']\n",
      "['telescope_quasar', 'absorption_line', 'key_project', 'iii_observational', 'milky_gas']\n",
      "['chromospheric_heating', 'acoustic_shock', 'confrontation', 'ghrs', 'alpha_tauri', 'k5_iii', 'ab_initio', 'calculation']\n",
      "['optical', 'markarian_463']\n",
      "['galactic_halo', 'intergalactic_medium', 'pks_2155304']\n",
      "['r_aquarii', 'attempt', 'unified_model']\n",
      "['telescope_imaging', 'north_polar', 'aurora_jupiter']\n",
      "['telescope_faint', 'object_spectrograph', 'groundbas', 'broad_absorption', 'line_quasar', '02261024']\n",
      "['stellar_photometry', 'telescope_widefieldplanetary', 'camera', 'progress']\n",
      "['massive_star', 'r136_region', '30_doradus']\n",
      "['faint_object', 'camera_farultraviolet', 'objective_prism', '12_z', 'gt_quasar']\n",
      "['ionization_cone', 'seyfert_galaxy', 'ngc_5728']\n",
      "['ultraviolet_transition', 'low_condensation', 'temperature', 'heavy_element', 'interstellar', 'arsenic_selenium', 'tellurium', 'lead']\n",
      "['detection_ii', 'lambda', '2471', 'io_plasma', 'torus']\n",
      "['ultraviolet_absorption', 'spectrum_3c', '273']\n",
      "['identification', 'highly_ionize', 'metal_specie', 'hot', 'da1', 'white_dwarf', 'g191b2b_telescope', 'faint_object', 'spectrograph']\n",
      "['star_count', 'telescope_snapshot', 'galactic_model']\n",
      "['constraint_shape', 'uv_background', 'z2']\n",
      "['optical_xray', 'ray', 'compact_object', 'globular_cluster']\n",
      "['absorption_line', 'highredshift_lyman', 'system_qso', 'hs_17006416']\n",
      "['telescope_astrometric', 'premain_sequence', 'star_hipparcos']\n",
      "['hst_ngc', '4395_least', 'luminous_seyfert', 'nucleus_starburst', 'hypothesis', 'broadlin_active', 'galactic_nucleus']\n",
      "['saturn', 'upper_atmospheric', 'haze', 'telescope']\n",
      "['telescope_1990', 'equatorial_disturbance', 'saturn_zonal', 'wind_central', 'meridian', 'albedo']\n",
      "['telescope_imaging', 'largeredshift_gravitational', 'lens_candidate', '12081011']\n",
      "['titan', 'seasonal', 'changea', 'comparison_telescope', 'voyager_image']\n",
      "['faint_object', 'camera_globular', 'cluster_nova', 'field']\n",
      "['ultraviolet_spectroscopy', 'nova_muscae', '1991']\n",
      "['cluster', 'nascent_galaxy', 'z']\n",
      "['ultravioletexcess', 'selection', 'counterpart_globular', 'cluster_xray', 'burster', 'telescope_image', 'core_ngc', '6712']\n",
      "['interstellar_mg', 'ii_c', 'iv_absorption', 'markarian_205', 'ngc_4319', 'optically_thick', 'qso_absorption', 'system']\n",
      "['hst_imaging', 'hydrogenpoor_ejecta', 'abell_30', 'abell_78', 'windblown', 'cometary_structure']\n",
      "['deep_telescope', 'imaging_compact', 'radio_galaxy', 'z_2390']\n",
      "['ngc_1068', 'resolution_nuclear', 'structure_optical', 'continuum']\n",
      "['goddard_highresolution', 'spectrograph_c', 'co', 'xi_persei', 'physical_condition', 'diffuse_cloud']\n",
      "['faint_object', 'spectrograph_spectroscopy', 'structure_nucleus', 'ngc_1068']\n",
      "['binary_star', 'telescope_fine', 'guidance_sensor', 'ad_11300']\n",
      "['goddard_highresolution', 'spectrograph_photospheric', 'microturbulence', 'early_star', 'surface_gravity', 'systematically_underestimate']\n",
      "['faint_object', 'camera', '87', 'nucleus']\n",
      "['goddard_highresolution', 'spectrograph_ultraviolet', 'spectra_starburst', 'knot_ngc', '1068']\n",
      "['goddard_highresolution', 'spectrograph_narrow', 'discrete_stellar', 'wind_absorption', 'feature_ultraviolet', 'spectrum', 'o75', 'iii_star', 'xi_persei']\n",
      "['scatter_light', 'echelle_mode', 'goddard_resolution', 'spectrograph_aboard', 'telescope_ii', 'inflight', 'spectroscopic']\n",
      "['telescope_xray', 'nova_muscae', '1991', 'spectral_evolution']\n",
      "['goddard_highresolution', 'spectrograph', 'demonstration', 'spectral_resolution', 'experiment_deconvolution']\n",
      "['goddard_highresolution', 'spectrograph_spectroscopic', 'determination_stellar', 'parameter', 'melnick_42', 'o3f_star', 'large_magellanic', 'cloud']\n",
      "['farultraviolet_spectroscopy', 'quasar_um', '675', 'faint_object', 'spectrograph_telescope']\n",
      "['gain', 'deconvolution_faint', 'galaxy_telescope', 'wide_field', 'camera']\n",
      "['nearultraviolet_imaging', 'jupiter_satellite', 'io_telescope']\n",
      "['detection_boron', 'cobalt', 'weak_interstellar', 'line_zeta', 'ophiuchi']\n",
      "['detection_ultraviolet', 'visible_counterpart', 'ngc_6624', 'xray_burster']\n",
      "['preliminary_ultraviolet', 'telescope_faint', 'object_camera', 'image_center', 'm31']\n",
      "['structure_core', '47_tucanae', 'telescope']\n",
      "['faint_object', 'camera_image', 'core_r', 'aquarii']\n",
      "['deconvolution', 'photometry_faint', 'object_camera', 'image_point', 'source']\n",
      "['radio_optical', 'structure_3c', '66b']\n",
      "['compact', 'subarcsec_structure', 'double_nucleus', 'ngc_6240', 'hst']\n",
      "['goddard_highresolution', 'spectrograph_highresolution', '1942', 'angstrom', 'resonance_line', 'hg_ii', 'chemically_peculiar', 'b_star', 'chi_lupi']\n",
      "['goddard_highresolution', 'spectrograph_velocity', 'density_structure', 'beta_pictoris', 'circumstellar_gas']\n",
      "['nonlte_line', 'formation_iron', 'element']\n",
      "['combine_approach', 'telescope', 'wavefront_distortion']\n",
      "['ultraviolet_polarimetry', 'spectroscopy_bl', 'lacertae_object', 'pks_2155304']\n",
      "['onset', 'growth', '1990_equatorial', 'disturbance_saturn']\n",
      "['calibration_hst', 'narrow_band', 'filter_orion', 'nebula']\n",
      "['cepheid_distance', 'ic_4182', 'calibration', 'vmax', 'sn_ia', '1937c_h']\n",
      "['inner_coma', 'imaging_comet', 'levy_1990c', 'telescope']\n",
      "['faint_object', 'camera_image', 'gravitational_lens', 'system_g22370305']\n",
      "['telescope_1990', 'equatorial_disturbance', 'saturn', 'image_albedo', 'limb_darkening']\n",
      "['telescope_fos', 'kpd_00055106', 'subluminous', 'wnwc', 'descendant', 'ongoing_mass', 'outflow']\n",
      "['image_deconvolution', 'extended_object', 'comparison', 'inverse_fourier', 'lucy_technique']\n",
      "['highly_ionized', 'atom', 'hd_93521']\n",
      "['faint_object', 'camera_highresolution', 'central_object', 'r136_30', 'doradus_nebula']\n",
      "['core_nearby', 's0_galaxy', 'ngc_7457', 'image_hst', 'planetary_camera']\n",
      "['resolution', 'southern_radio', 'lobe_3c', '33', '660_nm']\n",
      "['detection', 'collapse_core', 'globular_cluster', 'm31']\n",
      "['ultraviolet', 'gas_phase', 'abundance_diffuse', 'cloud_zeta', 'ophiuchi', '35_kilometer', 'second_resolution']\n",
      "['general_bayesian', 'image_reconstruction', 'algorithm_entropy', 'prior', 'preliminary_application', 'hst']\n",
      "['abundance_interstellar', 'carbon', 'zeta_ophiuchi']\n",
      "['gravitational_lensing', 'quasar_telescope', 'snapshot']\n",
      "['gravitational_lens', 'candidate_discover', 'telescope']\n",
      "['maximum_entropy', 'restoration', 'blurred', 'oversaturated', 'telescope_imagery']\n",
      "['detection', 'proton_beam', 'impulsive_phase', 'stellar_flare']\n",
      "['ultraviolet_imaging', 'jovian_aurora', 'telescope']\n",
      "['faint_object', 'camera_highresolution', 'imaging_plutocharon', 'system']\n",
      "['ultraviolet_stellar', 'coronae_early', 'hst']\n",
      "['hst', 'foc48', 'uv_imagery', 'gr8']\n",
      "['comparison_iue', 'amp', 'hst_ultraviolet', 'spectra_extragalactic', 'h_ii', 'region']\n",
      "['faint_object', 'spectrograph', 'largeredshift_gravitational', 'lens_candidate', '12081011']\n",
      "['hst_imaging', 'inner_arcsecond', 'ngc_1068', 'light_iii', 'lambda_5007']\n",
      "['telescope_widefieldplanetary', 'camera_image', 'saturn']\n"
     ]
    }
   ],
   "source": [
    "for i in range(100):\n",
    "    print(bigram2[title2word[i]])"
   ]
  },
  {
   "cell_type": "code",
   "execution_count": 205,
   "metadata": {},
   "outputs": [],
   "source": [
    "title_key_19 = []\n",
    "for i in range(len(title2word)):\n",
    "    title_key_19.append(bigram1[title2word[i]])"
   ]
  },
  {
   "cell_type": "code",
   "execution_count": 82,
   "metadata": {
    "collapsed": true
   },
   "outputs": [
    {
     "name": "stdout",
     "output_type": "stream",
     "text": [
      "['stellarwind', 'variability', 'archetypal', 'nonradially_pulsate', 'star', 'oph', '095_v', 'basis_timeserie', 'lue_hst', 'spectroscopy_archival']\n",
      "['timevariable', 'discrete_absorption', 'component', 'velocity', '10_km', '08', 'migrate', 'blueward', 'recurrence_time', 'scale', 'phenomenon', '20_hr']\n",
      "['variability', 'luminosityclass', 'v', 'star', 'ubiquity', 'behavior', '0star', 'regime']\n",
      "['acceleration_slow', 'predict', 'steady_state', 'wind_model', 'timeaveraged', 'velocity_law', 'outflow']\n",
      "['uv', 'simultaneous_optical', 'ii', 'nonradial_pulsation', 'direct', 'role', 'gross', 'observational_characteristic', 'discrete_absorption', 'component', 'long', 'year_short', 'hour', 'time_scale']\n",
      "['linedriven_instability', 'mechanism', 'variability', 'uv', 'p_cygni', 'profile', 'oph', 'extension', 'star']\n",
      "['24', 'absorption_line', 'redshift', 'milky_disk', 'halo', 'gas', 'sight_line', '3c_273']\n",
      "['intermediateresolution_mode', 'goddard_resolution', 'spectrograph_ghrs', 'large_entrance', 'aperture']\n",
      "['spectral', 'spread_function', 'fwhm_20', 'km_s1', 'broad_wing']\n",
      "['specie_c', 'ii_c', 'ii_c', 'iv_n', 'v', 'mg_ii', 'si_ii', 'si_iv', 'ii_mn', 'ii_fe', 'ii_ni', 'ii']\n"
     ]
    }
   ],
   "source": [
    "# train a bigram model on all titles, keywords, keyword_norms, all abstracts, 1000 full papers\n",
    "bigram1 = gensim.models.phrases.Phrases(title2word+word4bigram+all_abstracts+all_full_texts, min_count=1, threshold=1) \n",
    "for i in range(10):\n",
    "    print(bigram1[all_abstracts[i]])"
   ]
  },
  {
   "cell_type": "code",
   "execution_count": 93,
   "metadata": {},
   "outputs": [],
   "source": [
    "# train a trigram model\n",
    "trigram1 = Phrases(bigram1[n_gram_vocab], min_count=1, threshold=1)"
   ]
  },
  {
   "cell_type": "code",
   "execution_count": 96,
   "metadata": {
    "collapsed": true
   },
   "outputs": [
    {
     "name": "stdout",
     "output_type": "stream",
     "text": [
      "[]\n",
      "['discrete_absorption_component', 'velocity_10_km']\n",
      "[]\n",
      "[]\n",
      "['discrete_absorption_component']\n",
      "['uv_p_cygni']\n",
      "['absorption_line_redshift', 'milky_disk_halo', 'gas_sight_line']\n",
      "['large_entrance_aperture']\n",
      "[]\n",
      "['iv_n_v']\n",
      "['emission_si_iv', 'h_lyman_line']\n",
      "['highly_ionized_gas', 'galactic_disk_halo']\n",
      "['reliable_column_density']\n",
      "['n_h_profile']\n",
      "[]\n",
      "['apparent_optical_depth', 'si_mn_ni', 'representative_low_density']\n",
      "['warm_ionized_gas']\n",
      "['si_mn_ni']\n",
      "['cool_rate_nucleon', 'gas_3c_273']\n",
      "['time_low_average']\n",
      "['reliable_column_density', 'amount_highly_ionize', 'gas_3c_273', 'sight_line_galactic', 'star_lmc_smc']\n",
      "['amount_highly_ionize', 'perpendicular_galactic_plane']\n",
      "['highly_ionized_gas']\n",
      "['galactic_radio_loop']\n",
      "[]\n",
      "[]\n",
      "['150_km_s1']\n",
      "[]\n",
      "['100_km_s1', 'highly_ionized_specie']\n",
      "['extragalactic_sight_line']\n",
      "['absorptionline_equivalent_width']\n",
      "[]\n",
      "['column_density_great']\n",
      "['milky_disk_halo']\n",
      "[]\n",
      "['similarity_kinematical_behavior']\n",
      "['image_central_region']\n",
      "['image_angular_resolution']\n",
      "['radio_map_vla']\n",
      "[]\n",
      "[]\n",
      "[]\n",
      "['similarity_optical_radio', 'localized_particle_acceleration']\n",
      "['electron_accelerate_nucleus', 'low_magnetic_field']\n",
      "['infrared_array_camera', 'image_nucleus_ngc']\n",
      "['relative_optical_continuum']\n",
      "[]\n",
      "[]\n",
      "['extend_150_pc']\n",
      "[]\n",
      "[]\n",
      "['optical_continuum_emission']\n",
      "['morphology_extended_emission']\n",
      "[]\n",
      "[]\n",
      "[]\n",
      "['material_eta_carinae', 'wide_fieldplanetary_camera']\n",
      "['luminous_star_galaxy']\n",
      "[]\n",
      "[]\n",
      "[]\n",
      "[]\n",
      "[]\n",
      "[]\n",
      "['extragalactic_radio_source']\n",
      "['bright_pointlike_nucleus', 'comparison_radio_map']\n",
      "['faint_object_camera']\n",
      "['highly_polarize_knot']\n",
      "['emission_synchrotron_radiation']\n",
      "['comparison_radio_map']\n",
      "[]\n",
      "['faint_object_camera']\n",
      "[]\n",
      "[]\n",
      "['distance_hm_sge']\n",
      "['image_radio_map', 'undergo_dramatic_change']\n",
      "['section_interstellar_medium']\n",
      "['gravitational_lens_22370305', 'construct_model_system']\n",
      "['position_quasar_image']\n",
      "['brightness_fifth_image', 'bright_quasar_image']\n",
      "[]\n",
      "['quasar_image_position']\n",
      "[]\n",
      "[]\n",
      "['correspond_masstolight_ratio']\n",
      "[]\n",
      "[]\n",
      "['central_velocity_dispersion']\n",
      "[]\n",
      "['detailed_lens_model', 'general_relativity_cosmological']\n",
      "['spectrograph_board_hst']\n",
      "[]\n",
      "['line_sn_ii']\n",
      "['line_ge_ii']\n",
      "['depletion_heavy_element', 'decrease_monotonically_increase']\n",
      "['dense_interstellar_cloud']\n",
      "[]\n",
      "['galaxy_disk_contribute', 'light_v_band']\n",
      "['radio_power_source']\n",
      "['mpc1_q0_05']\n"
     ]
    }
   ],
   "source": [
    "for i in range(100):\n",
    "    trigrams_ = [t for t in trigram1[bigram1[all_abstracts[i]]]if t.count('_')==2]\n",
    "    print(trigrams_)"
   ]
  },
  {
   "cell_type": "markdown",
   "metadata": {},
   "source": [
    "#### Training with the ensemble of all titles helps: was able to pick up zeta_ophiuchi, galactic_halo\n",
    "#### Moving forward, using bigram1 model to fit bigrams on everything\n",
    "#### batch-wise fitting\n",
    "#### Trigram did not generate more useful keywords"
   ]
  },
  {
   "cell_type": "code",
   "execution_count": 64,
   "metadata": {},
   "outputs": [
    {
     "data": {
      "text/plain": [
       "16408"
      ]
     },
     "execution_count": 64,
     "metadata": {},
     "output_type": "execute_result"
    }
   ],
   "source": [
    "# abs_list to extract keywords\n",
    "abs_list=['nan' if x is np.nan else x for x in abs_list]\n",
    "norm_abs_all = normalize_corpus(abs_list, lemm = True, stopword_removal = True)\n",
    "len(norm_abs_all)"
   ]
  },
  {
   "cell_type": "code",
   "execution_count": 97,
   "metadata": {},
   "outputs": [],
   "source": [
    "df_key_v1['norm_abs'] = norm_abs_all"
   ]
  },
  {
   "cell_type": "code",
   "execution_count": 117,
   "metadata": {},
   "outputs": [
    {
     "data": {
      "text/plain": [
       "16408"
      ]
     },
     "execution_count": 117,
     "metadata": {},
     "output_type": "execute_result"
    }
   ],
   "source": [
    "# bigram model on entire list of abstracts\n",
    "abs_2gram =[]\n",
    "for i in range(len(sents)):\n",
    "    abs_2gram.append([]);\n",
    "    for j in range(len(sents[i])):\n",
    "        abs_2gram[i].append(bigram1[sents[i][j]])\n",
    "len(abs_2gram)"
   ]
  },
  {
   "cell_type": "code",
   "execution_count": 118,
   "metadata": {},
   "outputs": [],
   "source": [
    "### replace the space between 2 words that appear as a bigram\n",
    "### in gensim model with _\n",
    "matchingwords = [];\n",
    "for i in range(len(sents)):\n",
    "    for j in range(len(sents[i])):\n",
    "        for k in reversed(range(len(sents[i][j]))):\n",
    "            try: \n",
    "                mystring = sents[i][j][k]+'_'+sents[i][j][k+1]  \n",
    "                if mystring in abs_2gram[i][j]:\n",
    "                    mytuple = (sents[i][j][k], sents[i][j][k+1])\n",
    "                    sents[i][j][k] = '_'.join(mytuple)\n",
    "                    sents[i][j].remove(sents[i][j][k+1])\n",
    "                else:\n",
    "                    sents[i][j][k] = sents[i][j][k]\n",
    "            except:\n",
    "                sents[i][j][k] = sents[i][j][k]\n",
    "            sents[i][j]\n",
    "    matchingwords.append(sents[i])"
   ]
  },
  {
   "cell_type": "code",
   "execution_count": 101,
   "metadata": {},
   "outputs": [
    {
     "data": {
      "text/plain": [
       "16408"
      ]
     },
     "execution_count": 101,
     "metadata": {},
     "output_type": "execute_result"
    }
   ],
   "source": [
    "len(matchingwords)"
   ]
  },
  {
   "cell_type": "code",
   "execution_count": 119,
   "metadata": {},
   "outputs": [
    {
     "data": {
      "text/plain": [
       "'24 absorption redshift milky_disk halo gas sight_line line 3c_273'"
      ]
     },
     "execution_count": 119,
     "metadata": {},
     "output_type": "execute_result"
    }
   ],
   "source": [
    "' '.join(matchingwords[1][0])"
   ]
  },
  {
   "cell_type": "code",
   "execution_count": 120,
   "metadata": {},
   "outputs": [
    {
     "name": "stdout",
     "output_type": "stream",
     "text": [
      "16408\n"
     ]
    }
   ],
   "source": [
    "#abs_sent_list is list of all abstracts( in the format of sentences as individual strings after bi-gram replacement)\n",
    "abs_list = [];\n",
    "for i in range(len(sents)):\n",
    "    abs_sent_list = [];\n",
    "    for j in range(len(matchingwords[i])):\n",
    "        \n",
    "        text_2gram = ' '.join(matchingwords[i][j])\n",
    "        abs_sent_list.append(text_2gram)\n",
    "    abs_list.append(abs_sent_list)\n",
    "print(len(abs_list))  "
   ]
  },
  {
   "cell_type": "code",
   "execution_count": 121,
   "metadata": {},
   "outputs": [
    {
     "data": {
      "text/plain": [
       "16408"
      ]
     },
     "execution_count": 121,
     "metadata": {},
     "output_type": "execute_result"
    }
   ],
   "source": [
    "abs_para = [];\n",
    "for i in range(len(abs_list)):\n",
    "    abs_para_2 = '';\n",
    "    for j in range(len(abs_list[i])):\n",
    "        abs_para_2 = abs_para_2 + abs_list[i][j]\n",
    "    abs_para.append(abs_para_2)\n",
    "len(abs_para)"
   ]
  },
  {
   "cell_type": "code",
   "execution_count": 144,
   "metadata": {
    "collapsed": true
   },
   "outputs": [
    {
     "data": {
      "text/plain": [
       "['stellarwind',\n",
       " 'variability',\n",
       " 'archetypal',\n",
       " 'nonradially_pulsate',\n",
       " 'star_oph',\n",
       " '095_v',\n",
       " 'basis_timeserie',\n",
       " 'lue_hst',\n",
       " 'spectroscopy_archival']"
      ]
     },
     "execution_count": 144,
     "metadata": {},
     "output_type": "execute_result"
    }
   ],
   "source": [
    "matchingwords[0][0]"
   ]
  },
  {
   "cell_type": "code",
   "execution_count": 123,
   "metadata": {},
   "outputs": [],
   "source": [
    "df_key_v1['abs_bi_para'] = abs_para\n",
    "#'abs_bi_para'is abstract as one string after bi-gram replacement"
   ]
  },
  {
   "cell_type": "code",
   "execution_count": 124,
   "metadata": {},
   "outputs": [],
   "source": [
    "#now do tfidf on abs_para\n",
    "tvec3 = TfidfVectorizer(min_df=0.005, max_df=0.2)\n",
    "X19 = tvec3.fit_transform(abs_para)\n",
    "\n",
    "abs_dict_list = [];\n",
    "weights19 = [];\n",
    "for i in range(X19.shape[0]):\n",
    "    \n",
    "    weights19_0 = np.squeeze(X19[i].toarray())\n",
    "    df19 = pd.DataFrame({'term': tvec3.get_feature_names(), 'frequency': weights19_0})\n",
    "    tfidf_dict = df19.sort_values(by='frequency', ascending=False).head(100).to_dict()\n",
    "    abs_dict_list.append(tfidf_dict)"
   ]
  },
  {
   "cell_type": "code",
   "execution_count": 112,
   "metadata": {},
   "outputs": [
    {
     "data": {
      "text/plain": [
       "(16408, 1482)"
      ]
     },
     "execution_count": 112,
     "metadata": {},
     "output_type": "execute_result"
    }
   ],
   "source": [
    "X19.shape"
   ]
  },
  {
   "cell_type": "code",
   "execution_count": 128,
   "metadata": {
    "collapsed": true
   },
   "outputs": [
    {
     "data": {
      "text/plain": [
       "{'term': {1088: 'sight_line',\n",
       "  548: 'gas',\n",
       "  620: 'ii',\n",
       "  592: 'highly_ionized',\n",
       "  1123: 'specie',\n",
       "  1085: 'si_iv',\n",
       "  830: 'mostly',\n",
       "  345: 'depth',\n",
       "  682: 'iv',\n",
       "  530: 'galactic',\n",
       "  724: 'line',\n",
       "  586: 'halo',\n",
       "  340: 'density',\n",
       "  1133: 'spectrograph_ghrs',\n",
       "  532: 'galactic_disk',\n",
       "  1022: 'representative',\n",
       "  1083: 'si_ii',\n",
       "  741: 'low_density',\n",
       "  172: 'behavior',\n",
       "  648: 'influence',\n",
       "  564: 'goddard_resolution',\n",
       "  733: 'lmc',\n",
       "  200: 'c_ii',\n",
       "  480: 'extragalactic',\n",
       "  352: 'dex',\n",
       "  129: 'apparent',\n",
       "  121: 'amount',\n",
       "  1063: 'seem',\n",
       "  929: 'plane',\n",
       "  1147: 'standard',\n",
       "  649: 'information',\n",
       "  842: 'n_v',\n",
       "  1082: 'si',\n",
       "  1261: 'vi',\n",
       "  812: 'mg_ii',\n",
       "  570: 'great',\n",
       "  1196: 'technique',\n",
       "  441: 'equivalent_width',\n",
       "  45: '24',\n",
       "  1282: 'width',\n",
       "  303: 'cool',\n",
       "  489: 'faint_object',\n",
       "  202: 'c_iv',\n",
       "  714: 'less',\n",
       "  999: 'recent',\n",
       "  266: 'column_density',\n",
       "  86: 'absorption',\n",
       "  689: 'km',\n",
       "  962: 'profile',\n",
       "  169: 'base',\n",
       "  1212: 'time',\n",
       "  1005: 'redshift',\n",
       "  421: 'emission',\n",
       "  863: 'nicmo',\n",
       "  865: 'normal',\n",
       "  952: 'predict',\n",
       "  967: 'prominent',\n",
       "  953: 'prediction',\n",
       "  864: 'nm',\n",
       "  968: 'proper_motion',\n",
       "  950: 'precise',\n",
       "  862: 'ngc',\n",
       "  861: 'neutron_star',\n",
       "  860: 'neutral_hydrogen',\n",
       "  859: 'neutral_gas',\n",
       "  858: 'nebular_emission',\n",
       "  857: 'nebulae',\n",
       "  951: 'precision',\n",
       "  866: 'north',\n",
       "  855: 'nearir',\n",
       "  874: 'oh',\n",
       "  878: 'ongoing',\n",
       "  948: 'power',\n",
       "  966: 'project_distance',\n",
       "  877: 'old_stellar',\n",
       "  876: 'old_star',\n",
       "  875: 'old',\n",
       "  949: 'power_law',\n",
       "  867: 'nuclear',\n",
       "  873: 'offset',\n",
       "  872: 'observational',\n",
       "  871: 'object',\n",
       "  870: 'nucleus_agn',\n",
       "  869: 'nucleus',\n",
       "  868: 'nuclear_region',\n",
       "  856: 'nebula',\n",
       "  854: 'nearinfrared',\n",
       "  879: 'ongoing_star',\n",
       "  959: 'probe',\n",
       "  969: 'propose',\n",
       "  832: 'move',\n",
       "  833: 'mpc',\n",
       "  834: 'ms',\n",
       "  835: 'multiobject_spectrometer',\n",
       "  836: 'multiple',\n",
       "  837: 'multiple_image',\n",
       "  838: 'multiwavelength',\n",
       "  839: 'myr',\n",
       "  963: 'progenitor',\n",
       "  961: 'process'},\n",
       " 'frequency': {1088: 0.560989631203533,\n",
       "  548: 0.38341233577223055,\n",
       "  620: 0.27971480950176764,\n",
       "  592: 0.18002279915110359,\n",
       "  1123: 0.17704439642634653,\n",
       "  1085: 0.1707072387705274,\n",
       "  830: 0.1672723318020089,\n",
       "  345: 0.15613075733895762,\n",
       "  682: 0.14736345335646017,\n",
       "  530: 0.13806708547578314,\n",
       "  724: 0.13581280790359135,\n",
       "  586: 0.1241380318928761,\n",
       "  340: 0.10032526419763013,\n",
       "  1133: 0.09149554406211335,\n",
       "  532: 0.09132297990287856,\n",
       "  1022: 0.09016903896247834,\n",
       "  1083: 0.08895320992566107,\n",
       "  741: 0.08824177608475693,\n",
       "  172: 0.08569944194830466,\n",
       "  648: 0.08501580888087841,\n",
       "  564: 0.08373777956150215,\n",
       "  733: 0.08304091993597636,\n",
       "  200: 0.0825627950927699,\n",
       "  480: 0.08246902305723781,\n",
       "  352: 0.08237585020813191,\n",
       "  129: 0.0822832689366585,\n",
       "  121: 0.08156304841198611,\n",
       "  1063: 0.08079317160197502,\n",
       "  929: 0.0802212747232365,\n",
       "  1147: 0.07974831970857989,\n",
       "  649: 0.07967096408274389,\n",
       "  842: 0.07891917381552749,\n",
       "  1082: 0.07891917381552749,\n",
       "  1261: 0.07891917381552749,\n",
       "  812: 0.0768716805437922,\n",
       "  570: 0.0756507584223014,\n",
       "  1196: 0.07502041857445592,\n",
       "  441: 0.07378441373129127,\n",
       "  45: 0.07347849688987562,\n",
       "  1282: 0.07293379344086613,\n",
       "  303: 0.07245566859765967,\n",
       "  489: 0.07093818109397225,\n",
       "  202: 0.07019448728134295,\n",
       "  714: 0.06937222508960626,\n",
       "  999: 0.06698913606547786,\n",
       "  266: 0.06513936639504325,\n",
       "  86: 0.06137077206687846,\n",
       "  689: 0.05823625374229734,\n",
       "  962: 0.05618752111344162,\n",
       "  169: 0.05437787658695904,\n",
       "  1212: 0.05247851841321665,\n",
       "  1005: 0.050030671910668796,\n",
       "  421: 0.04678296818845162,\n",
       "  863: 0.0,\n",
       "  865: 0.0,\n",
       "  952: 0.0,\n",
       "  967: 0.0,\n",
       "  953: 0.0,\n",
       "  864: 0.0,\n",
       "  968: 0.0,\n",
       "  950: 0.0,\n",
       "  862: 0.0,\n",
       "  861: 0.0,\n",
       "  860: 0.0,\n",
       "  859: 0.0,\n",
       "  858: 0.0,\n",
       "  857: 0.0,\n",
       "  951: 0.0,\n",
       "  866: 0.0,\n",
       "  855: 0.0,\n",
       "  874: 0.0,\n",
       "  878: 0.0,\n",
       "  948: 0.0,\n",
       "  966: 0.0,\n",
       "  877: 0.0,\n",
       "  876: 0.0,\n",
       "  875: 0.0,\n",
       "  949: 0.0,\n",
       "  867: 0.0,\n",
       "  873: 0.0,\n",
       "  872: 0.0,\n",
       "  871: 0.0,\n",
       "  870: 0.0,\n",
       "  869: 0.0,\n",
       "  868: 0.0,\n",
       "  856: 0.0,\n",
       "  854: 0.0,\n",
       "  879: 0.0,\n",
       "  959: 0.0,\n",
       "  969: 0.0,\n",
       "  832: 0.0,\n",
       "  833: 0.0,\n",
       "  834: 0.0,\n",
       "  835: 0.0,\n",
       "  836: 0.0,\n",
       "  837: 0.0,\n",
       "  838: 0.0,\n",
       "  839: 0.0,\n",
       "  963: 0.0,\n",
       "  961: 0.0}}"
      ]
     },
     "execution_count": 128,
     "metadata": {},
     "output_type": "execute_result"
    }
   ],
   "source": [
    "abs_dict_list[1]"
   ]
  },
  {
   "cell_type": "code",
   "execution_count": 131,
   "metadata": {
    "collapsed": true
   },
   "outputs": [
    {
     "data": {
      "text/plain": [
       "<BarContainer object of 26 artists>"
      ]
     },
     "execution_count": 131,
     "metadata": {},
     "output_type": "execute_result"
    },
    {
     "data": {
      "image/png": "[encoded data removed]",
      "text/plain": [
       "<Figure size 864x648 with 1 Axes>"
      ]
     },
     "metadata": {
      "needs_background": "light"
     },
     "output_type": "display_data"
    }
   ],
   "source": [
    "df4plot = pd.DataFrame.from_dict(abs_dict_list[1])\n",
    "df4p1 = df4plot.sort_values(by='frequency', ascending=False).head(26)\n",
    "plt.figure(figsize=(12, 9))\n",
    "plt.xlabel(\"Tf-Idf Score\", labelpad=16, fontsize=14)\n",
    "plt.barh(df4p1.term, df4p1.frequency, align='center', color='#3F5D7D')"
   ]
  },
  {
   "cell_type": "markdown",
   "metadata": {},
   "source": [
    "## Post-n-gram stopwords removal"
   ]
  },
  {
   "cell_type": "code",
   "execution_count": 132,
   "metadata": {},
   "outputs": [
    {
     "data": {
      "text/plain": [
       "702"
      ]
     },
     "execution_count": 132,
     "metadata": {},
     "output_type": "execute_result"
    }
   ],
   "source": [
    "places = []\n",
    "with open('post2_stop.txt', 'r') as filehandle:  \n",
    "    for line in filehandle:\n",
    "        currentPlace = line[:-1]\n",
    "        places.append(currentPlace)\n",
    "\n",
    "stop_words.extend(x for x in places if x not in stop_words)\n",
    "len(stop_words)"
   ]
  },
  {
   "cell_type": "code",
   "execution_count": 146,
   "metadata": {},
   "outputs": [
    {
     "name": "stdout",
     "output_type": "stream",
     "text": [
      "16408\n"
     ]
    }
   ],
   "source": [
    "# post-phrase detection stopword removal and \n",
    "from string import punctuation\n",
    "remove_terms2 = punctuation + '0123456789'\n",
    "\n",
    "abs_list_2 = [];\n",
    "for i in range(len(matchingwords)):\n",
    "    abs_sent_list = [];\n",
    "    for j in range(len(matchingwords[i])):\n",
    "        for k in reversed(range(len(matchingwords[i][j]))):\n",
    "            if (matchingwords[i][j][k] in stop_words) or (len(matchingwords[i][j][k]) < 3):\n",
    "                matchingwords[i][j].remove(matchingwords[i][j][k])\n",
    "                # remove keywords that are one character long\n",
    "            else:\n",
    "                str2list = list(matchingwords[i][j][k])\n",
    "                matches = [x for x in str2list if x in remove_terms2]\n",
    "                if len(matches) == len(str2list):\n",
    "                    matchingwords[i][j].remove(matchingwords[i][j][k])\n",
    "                # break the keyword into single chars -- in order to do count -- , then remove keywords \n",
    "                # that are completely made up with numbers and punctuations\n",
    "        text_2gram = ' '.join(matchingwords[i][j])\n",
    "        abs_sent_list.append(text_2gram)\n",
    "    abs_list_2.append(abs_sent_list)\n",
    "print(len(abs_list_2))  "
   ]
  },
  {
   "cell_type": "code",
   "execution_count": 149,
   "metadata": {},
   "outputs": [
    {
     "data": {
      "text/plain": [
       "16408"
      ]
     },
     "execution_count": 149,
     "metadata": {},
     "output_type": "execute_result"
    }
   ],
   "source": [
    "#abs_para_2 is a list of all abstracts, each as a string, after phrase extraction and more stopwords removal\n",
    "abs_para_2 = [];\n",
    "for i in range(len(abs_list_2)):\n",
    "    abs_para_ = '';\n",
    "    for j in range(len(abs_list_2[i])):\n",
    "        abs_para_ = abs_para_ + abs_list_2[i][j]\n",
    "    abs_para_2.append(abs_para_)\n",
    "len(abs_para_2)"
   ]
  },
  {
   "cell_type": "code",
   "execution_count": 162,
   "metadata": {},
   "outputs": [],
   "source": [
    "#now do tfidf on abs_para after post-n-gram stopwords removal\n",
    "tvec3 = TfidfVectorizer(min_df=0.0005, max_df=0.2)\n",
    "X3 = tvec3.fit_transform(abs_para_2)\n",
    "\n",
    "abs_dict_list2 = [];\n",
    "for i in range(X3.shape[0]):\n",
    "    weights19_0 = np.squeeze(X3[i].toarray())\n",
    "    df3 = pd.DataFrame({'term': tvec3.get_feature_names(), 'frequency': weights19_0})\n",
    "    tfidf_dict = df3.sort_values(by='frequency', ascending=False).head(100).to_dict()\n",
    "    abs_dict_list2.append(tfidf_dict)"
   ]
  },
  {
   "cell_type": "code",
   "execution_count": 187,
   "metadata": {
    "collapsed": true
   },
   "outputs": [
    {
     "data": {
      "text/plain": [
       "{'term': {7833: 'radio_map',\n",
       "  6953: 'optical_image',\n",
       "  8131: 'relativistic_particle',\n",
       "  5516: 'linear_scale',\n",
       "  5515: 'linear_resolution',\n",
       "  1280: 'camera_hst',\n",
       "  6895: 'old_gt',\n",
       "  9694: 'transport',\n",
       "  10380: 'young_lt',\n",
       "  6974: 'optical_radio',\n",
       "  8597: 'similarity',\n",
       "  8726: 'smooth',\n",
       "  1449: 'channel',\n",
       "  5906: 'magnetic_field',\n",
       "  7804: 'radiation',\n",
       "  1552: 'clearly',\n",
       "  3364: 'faint_object',\n",
       "  1399: 'central_region',\n",
       "  6979: 'optical_spectrum',\n",
       "  6980: 'optical_synchrotron',\n",
       "  6981: 'optical_thickness',\n",
       "  6982: 'optical_transient',\n",
       "  6978: 'optical_spectroscopy',\n",
       "  6983: 'optical_ultraviolet',\n",
       "  6977: 'optical_spectroscopic',\n",
       "  6984: 'optical_uv',\n",
       "  6976: 'optical_spectra',\n",
       "  6975: 'optical_source',\n",
       "  6970: 'optical_nir',\n",
       "  6973: 'optical_polarization',\n",
       "  6972: 'optical_photometry',\n",
       "  6955: 'optical_infrared',\n",
       "  6956: 'optical_integral',\n",
       "  6957: 'optical_ir',\n",
       "  6958: 'optical_island',\n",
       "  6959: 'optical_knot',\n",
       "  6960: 'optical_light',\n",
       "  6961: 'optical_line',\n",
       "  6962: 'optical_longslit',\n",
       "  6963: 'optical_luminosity',\n",
       "  6964: 'optical_midinfrared',\n",
       "  6965: 'optical_monitor',\n",
       "  6966: 'optical_morphology',\n",
       "  6967: 'optical_nearinfrar',\n",
       "  6968: 'optical_nearinfrared',\n",
       "  6969: 'optical_nearir',\n",
       "  6986: 'optical_wavelength',\n",
       "  6971: 'optical_nucleus',\n",
       "  6985: 'optical_variability',\n",
       "  0: '000_k',\n",
       "  6987: 'optical_xray',\n",
       "  7018: 'orbital_velocity',\n",
       "  7010: 'orbital_inclination',\n",
       "  7011: 'orbital_modulation',\n",
       "  7012: 'orbital_motion',\n",
       "  7013: 'orbital_parameter',\n",
       "  7014: 'orbital_period',\n",
       "  7015: 'orbital_phase',\n",
       "  7016: 'orbital_plane',\n",
       "  7017: 'orbital_separation',\n",
       "  7019: 'order_10',\n",
       "  6988: 'opticalinfrar',\n",
       "  7020: 'order_assess',\n",
       "  7021: 'order_characterize',\n",
       "  7022: 'order_constrain',\n",
       "  7023: 'order_explore',\n",
       "  7024: 'order_identify',\n",
       "  7025: 'order_improve',\n",
       "  7026: 'order_magnitude',\n",
       "  7027: 'order_test',\n",
       "  7009: 'orbital_element',\n",
       "  7008: 'orbital_eccentricity',\n",
       "  7007: 'orbital',\n",
       "  7006: 'orbit',\n",
       "  6954: 'optical_imaging',\n",
       "  6990: 'optically',\n",
       "  6991: 'optically_bright',\n",
       "  6992: 'optically_faint',\n",
       "  6993: 'optically_identify',\n",
       "  6994: 'optically_luminous',\n",
       "  6995: 'optically_select',\n",
       "  6996: 'optically_thick',\n",
       "  6997: 'optically_thin',\n",
       "  6998: 'optically_visible',\n",
       "  6999: 'opticalnearinfrared',\n",
       "  7000: 'opticalnearir',\n",
       "  7001: 'opticalnir',\n",
       "  7002: 'opticaluv',\n",
       "  7003: 'optimal',\n",
       "  7004: 'optimization',\n",
       "  7005: 'optimize',\n",
       "  6989: 'opticalir',\n",
       "  6951: 'optical_forbidden',\n",
       "  6952: 'optical_identification',\n",
       "  6902: 'old_open',\n",
       "  6894: 'old_globular',\n",
       "  6896: 'old_gyr',\n",
       "  6897: 'old_mainsequence',\n",
       "  6898: 'old_massive',\n",
       "  6899: 'old_metalpoor'},\n",
       " 'frequency': {7833: 0.4507025752763922,\n",
       "  6953: 0.36286559884933833,\n",
       "  8131: 0.25426381681378424,\n",
       "  5516: 0.25137985517348804,\n",
       "  5515: 0.24199497186287555,\n",
       "  1280: 0.23329008783836558,\n",
       "  6895: 0.2318137611524095,\n",
       "  9694: 0.21386842700217212,\n",
       "  10380: 0.21231635886294692,\n",
       "  6974: 0.20380118514501522,\n",
       "  8597: 0.19495390699992785,\n",
       "  8726: 0.19289469802675346,\n",
       "  1449: 0.19096674064647132,\n",
       "  5906: 0.16907322368679448,\n",
       "  7804: 0.16663730135868915,\n",
       "  1552: 0.16316635831919657,\n",
       "  3364: 0.14883307475549076,\n",
       "  1399: 0.14651121029639477,\n",
       "  6979: 0.0,\n",
       "  6980: 0.0,\n",
       "  6981: 0.0,\n",
       "  6982: 0.0,\n",
       "  6978: 0.0,\n",
       "  6983: 0.0,\n",
       "  6977: 0.0,\n",
       "  6984: 0.0,\n",
       "  6976: 0.0,\n",
       "  6975: 0.0,\n",
       "  6970: 0.0,\n",
       "  6973: 0.0,\n",
       "  6972: 0.0,\n",
       "  6955: 0.0,\n",
       "  6956: 0.0,\n",
       "  6957: 0.0,\n",
       "  6958: 0.0,\n",
       "  6959: 0.0,\n",
       "  6960: 0.0,\n",
       "  6961: 0.0,\n",
       "  6962: 0.0,\n",
       "  6963: 0.0,\n",
       "  6964: 0.0,\n",
       "  6965: 0.0,\n",
       "  6966: 0.0,\n",
       "  6967: 0.0,\n",
       "  6968: 0.0,\n",
       "  6969: 0.0,\n",
       "  6986: 0.0,\n",
       "  6971: 0.0,\n",
       "  6985: 0.0,\n",
       "  0: 0.0,\n",
       "  6987: 0.0,\n",
       "  7018: 0.0,\n",
       "  7010: 0.0,\n",
       "  7011: 0.0,\n",
       "  7012: 0.0,\n",
       "  7013: 0.0,\n",
       "  7014: 0.0,\n",
       "  7015: 0.0,\n",
       "  7016: 0.0,\n",
       "  7017: 0.0,\n",
       "  7019: 0.0,\n",
       "  6988: 0.0,\n",
       "  7020: 0.0,\n",
       "  7021: 0.0,\n",
       "  7022: 0.0,\n",
       "  7023: 0.0,\n",
       "  7024: 0.0,\n",
       "  7025: 0.0,\n",
       "  7026: 0.0,\n",
       "  7027: 0.0,\n",
       "  7009: 0.0,\n",
       "  7008: 0.0,\n",
       "  7007: 0.0,\n",
       "  7006: 0.0,\n",
       "  6954: 0.0,\n",
       "  6990: 0.0,\n",
       "  6991: 0.0,\n",
       "  6992: 0.0,\n",
       "  6993: 0.0,\n",
       "  6994: 0.0,\n",
       "  6995: 0.0,\n",
       "  6996: 0.0,\n",
       "  6997: 0.0,\n",
       "  6998: 0.0,\n",
       "  6999: 0.0,\n",
       "  7000: 0.0,\n",
       "  7001: 0.0,\n",
       "  7002: 0.0,\n",
       "  7003: 0.0,\n",
       "  7004: 0.0,\n",
       "  7005: 0.0,\n",
       "  6989: 0.0,\n",
       "  6951: 0.0,\n",
       "  6952: 0.0,\n",
       "  6902: 0.0,\n",
       "  6894: 0.0,\n",
       "  6896: 0.0,\n",
       "  6897: 0.0,\n",
       "  6898: 0.0,\n",
       "  6899: 0.0}}"
      ]
     },
     "execution_count": 187,
     "metadata": {},
     "output_type": "execute_result"
    }
   ],
   "source": [
    "abs_dict_list2[2]"
   ]
  },
  {
   "cell_type": "code",
   "execution_count": 188,
   "metadata": {},
   "outputs": [],
   "source": [
    "df4plot = pd.DataFrame.from_dict(abs_dict_list2[2])"
   ]
  },
  {
   "cell_type": "code",
   "execution_count": 189,
   "metadata": {
    "collapsed": true
   },
   "outputs": [
    {
     "data": {
      "text/plain": [
       "<BarContainer object of 18 artists>"
      ]
     },
     "execution_count": 189,
     "metadata": {},
     "output_type": "execute_result"
    },
    {
     "data": {
      "image/png": "[encoded data removed]",
      "text/plain": [
       "<Figure size 864x648 with 1 Axes>"
      ]
     },
     "metadata": {
      "needs_background": "light"
     },
     "output_type": "display_data"
    }
   ],
   "source": [
    "df4p1 = df4plot.sort_values(by='frequency', ascending=False).head(18)\n",
    "plt.figure(figsize=(12, 9))\n",
    "plt.xlabel(\"Tf-Idf Score\", labelpad=16, fontsize=14)\n",
    "plt.barh(df4p1.term, df4p1.frequency, align='center', color='#3F5D7D')"
   ]
  },
  {
   "cell_type": "code",
   "execution_count": 190,
   "metadata": {},
   "outputs": [],
   "source": [
    "df_key_v1['abs_tfidf'] = abs_dict_list2\n",
    "#'abs_tfidf' is output of tfidf model on abstracts , after bi-gram replacement"
   ]
  },
  {
   "cell_type": "code",
   "execution_count": 295,
   "metadata": {},
   "outputs": [
    {
     "data": {
      "text/plain": [
       "Index(['bibcode', 'keyword', 'keyword_norm', 'key_set_1', 'title2word',\n",
       "       'norm_body', 'abs_words', 'norm_abs', 'abs_bi_para', 'abs_tfidf'],\n",
       "      dtype='object')"
      ]
     },
     "execution_count": 295,
     "metadata": {},
     "output_type": "execute_result"
    }
   ],
   "source": [
    "df_key_v1.columns"
   ]
  },
  {
   "cell_type": "code",
   "execution_count": 191,
   "metadata": {},
   "outputs": [],
   "source": [
    "key_4_abs = []\n",
    "for i in range(len(abs_dict_list)):\n",
    "    key_4_abs_ = [v for v in abs_dict_list2[i]['term'].values()]\n",
    "    key_4_abs.append(key_4_abs_)"
   ]
  },
  {
   "cell_type": "code",
   "execution_count": 193,
   "metadata": {},
   "outputs": [
    {
     "data": {
      "text/plain": [
       "16408"
      ]
     },
     "execution_count": 193,
     "metadata": {},
     "output_type": "execute_result"
    }
   ],
   "source": [
    "len(key_4_abs)"
   ]
  },
  {
   "cell_type": "code",
   "execution_count": 236,
   "metadata": {},
   "outputs": [
    {
     "data": {
      "text/plain": [
       "16408"
      ]
     },
     "execution_count": 236,
     "metadata": {},
     "output_type": "execute_result"
    }
   ],
   "source": [
    "title_key_old = [ast.literal_eval(x) for x in df_key_v1['key_set_1']]\n",
    "len(title_key_old)"
   ]
  },
  {
   "cell_type": "code",
   "execution_count": 203,
   "metadata": {
    "collapsed": true
   },
   "outputs": [
    {
     "name": "stdout",
     "output_type": "stream",
     "text": [
      "8\n",
      "25\n",
      "20\n",
      "19\n",
      "16\n",
      "15\n",
      "24\n",
      "20\n",
      "20\n",
      "21\n"
     ]
    }
   ],
   "source": [
    "for i in range(10):\n",
    "    print(len(title_key_old[i]))"
   ]
  },
  {
   "cell_type": "code",
   "execution_count": 237,
   "metadata": {
    "collapsed": true
   },
   "outputs": [
    {
     "name": "stdout",
     "output_type": "stream",
     "text": [
      "16\n",
      "30\n",
      "24\n",
      "24\n",
      "19\n",
      "19\n",
      "27\n",
      "24\n",
      "22\n",
      "25\n"
     ]
    }
   ],
   "source": [
    "for i in range(len(title_key_old)):\n",
    "    title_key_old[i].extend(x for x in title_key_19[i] if x not in title_key_old[i])   \n",
    "for i in range(10):\n",
    "    print(len(title_key_old[i]))"
   ]
  },
  {
   "cell_type": "code",
   "execution_count": 238,
   "metadata": {
    "collapsed": true
   },
   "outputs": [
    {
     "name": "stdout",
     "output_type": "stream",
     "text": [
      "116\n",
      "128\n",
      "124\n",
      "124\n",
      "119\n",
      "118\n",
      "126\n",
      "121\n",
      "121\n",
      "124\n"
     ]
    }
   ],
   "source": [
    "for i in range(len(key_4_abs)):\n",
    "    title_key_old[i].extend(x for x in key_4_abs[i] if x not in title_key_old[i])   \n",
    "for i in range(10):\n",
    "    print(len(title_key_old[i]))"
   ]
  },
  {
   "cell_type": "code",
   "execution_count": 239,
   "metadata": {},
   "outputs": [
    {
     "data": {
      "text/plain": [
       "16408"
      ]
     },
     "execution_count": 239,
     "metadata": {},
     "output_type": "execute_result"
    }
   ],
   "source": [
    "for _ in range(len(title_key_old)):\n",
    "    for j in reversed(range(len(title_key_old[_]))):\n",
    "        try: \n",
    "            title_key_old[_][j] = title_key_old[_][j].replace(\"_\", \" \")\n",
    "        except:\n",
    "            title_key_old[_][j] = title_key_old[_][j]\n",
    "            \n",
    "len(title_key_old)      "
   ]
  },
  {
   "cell_type": "code",
   "execution_count": 242,
   "metadata": {},
   "outputs": [],
   "source": [
    "for i in range(len(title_key_old)):\n",
    "    for j in reversed(range(len(title_key_old[i]))):\n",
    "        title_key_old[i]=[x for x in title_key_old[i] if x not in stop_words]"
   ]
  },
  {
   "cell_type": "code",
   "execution_count": 216,
   "metadata": {},
   "outputs": [
    {
     "data": {
      "text/plain": [
       "702"
      ]
     },
     "execution_count": 216,
     "metadata": {},
     "output_type": "execute_result"
    }
   ],
   "source": [
    "len(stop_words)"
   ]
  },
  {
   "cell_type": "code",
   "execution_count": 209,
   "metadata": {
    "collapsed": true
   },
   "outputs": [
    {
     "name": "stdout",
     "output_type": "stream",
     "text": [
      "116\n",
      "128\n",
      "124\n",
      "124\n",
      "119\n",
      "118\n",
      "126\n",
      "121\n",
      "121\n",
      "124\n"
     ]
    }
   ],
   "source": [
    "for i in range(10):\n",
    "    print(len(title_key_old[i]))"
   ]
  },
  {
   "cell_type": "code",
   "execution_count": 243,
   "metadata": {
    "collapsed": true
   },
   "outputs": [
    {
     "data": {
      "text/plain": [
       "['space vehicle',\n",
       " 'astrophysic',\n",
       " 'galaxy general',\n",
       " 'star wind outflow',\n",
       " 'nebulae',\n",
       " 'stellar luminosity',\n",
       " 'star luminosity functionmass function',\n",
       " 'hubble space telescope',\n",
       " 'stellar wind',\n",
       " 'wolfrayet star',\n",
       " 'star massive',\n",
       " 'star wolf rayet',\n",
       " 'massive star',\n",
       " 'stellar model',\n",
       " 'milky way galaxy',\n",
       " 'n',\n",
       " 'carninae',\n",
       " 'thin shell',\n",
       " 'expel',\n",
       " 'linear feature',\n",
       " '02 arcsec',\n",
       " 'homunculus',\n",
       " 'cap',\n",
       " 'nebulosity',\n",
       " 'carinae',\n",
       " 'luminous star',\n",
       " 'polar',\n",
       " 'clumpy',\n",
       " 'spatial resolution',\n",
       " 'optical spectroscopic',\n",
       " 'optical spectroscopy',\n",
       " 'optical spectrum',\n",
       " 'optical thickness',\n",
       " 'optical synchrotron',\n",
       " 'optical source',\n",
       " 'optical transient',\n",
       " 'optical ultraviolet',\n",
       " 'optical uv',\n",
       " 'optical variability',\n",
       " 'optical wavelength',\n",
       " 'optical xray',\n",
       " 'optical spectra',\n",
       " 'optical nucleus',\n",
       " 'optical radio',\n",
       " 'optical polarization',\n",
       " 'optical ir',\n",
       " 'optical island',\n",
       " 'optical knot',\n",
       " 'optical light',\n",
       " 'optical line',\n",
       " 'optical longslit',\n",
       " 'optical luminosity',\n",
       " 'optical midinfrared',\n",
       " 'optical monitor',\n",
       " 'optical morphology',\n",
       " 'optical nearinfrar',\n",
       " 'optical nearinfrared',\n",
       " 'optical nearir',\n",
       " 'optical nir',\n",
       " 'optical photometry',\n",
       " 'opticalinfrar',\n",
       " 'optically',\n",
       " 'opticalir',\n",
       " 'order assess',\n",
       " 'orbital motion',\n",
       " 'orbital parameter',\n",
       " 'orbital period',\n",
       " 'orbital phase',\n",
       " 'orbital plane',\n",
       " 'orbital separation',\n",
       " 'orbital velocity',\n",
       " 'order 10',\n",
       " 'order characterize',\n",
       " 'optical infrared',\n",
       " 'order constrain',\n",
       " 'order explore',\n",
       " 'order identify',\n",
       " 'order improve',\n",
       " 'order magnitude',\n",
       " 'order test',\n",
       " 'order understand',\n",
       " 'orbital modulation',\n",
       " 'orbital inclination',\n",
       " 'orbital element',\n",
       " 'orbital eccentricity',\n",
       " 'optically bright',\n",
       " 'optically faint',\n",
       " 'optically identify',\n",
       " 'optically luminous',\n",
       " 'optically select',\n",
       " 'optically thick',\n",
       " 'optically thin',\n",
       " 'optically visible',\n",
       " 'opticalnearinfrared',\n",
       " 'opticalnearir',\n",
       " 'opticalnir',\n",
       " 'opticaluv',\n",
       " 'optimal',\n",
       " 'optimization',\n",
       " 'optimize',\n",
       " 'orbit',\n",
       " 'orbital',\n",
       " 'optical integral',\n",
       " 'optical flux',\n",
       " 'optical imaging',\n",
       " 'optical image',\n",
       " 'old gyr',\n",
       " 'old mainsequence',\n",
       " 'old massive',\n",
       " 'old metalpoor',\n",
       " 'old metalrich',\n",
       " 'old nova',\n",
       " 'old open',\n",
       " 'old population',\n",
       " 'old star']"
      ]
     },
     "execution_count": 243,
     "metadata": {},
     "output_type": "execute_result"
    }
   ],
   "source": [
    "title_key_old[4]"
   ]
  },
  {
   "cell_type": "code",
   "execution_count": 244,
   "metadata": {},
   "outputs": [
    {
     "data": {
      "text/plain": [
       "Index(['bibcode', 'keyword', 'keyword_norm', 'key_set_1', 'title2word',\n",
       "       'norm_body', 'norm_abs', 'abs_bi_para', 'abs_tfidf', 'key_0629'],\n",
       "      dtype='object')"
      ]
     },
     "execution_count": 244,
     "metadata": {},
     "output_type": "execute_result"
    }
   ],
   "source": [
    "df_key_v1['key_0629'] = title_key_old\n",
    "df_key_v1.columns"
   ]
  },
  {
   "cell_type": "code",
   "execution_count": 211,
   "metadata": {},
   "outputs": [
    {
     "name": "stdout",
     "output_type": "stream",
     "text": [
      "Stored 'title_key_old' (list)\n"
     ]
    }
   ],
   "source": [
    "%store title_key_old"
   ]
  },
  {
   "cell_type": "code",
   "execution_count": 253,
   "metadata": {},
   "outputs": [
    {
     "data": {
      "text/plain": [
       "Index(['Unnamed: 0', 'abstract', 'bibcode', 'body', 'keyword', 'keyword_norm',\n",
       "       'title', 'title_key', 'key_0619'],\n",
       "      dtype='object')"
      ]
     },
     "execution_count": 253,
     "metadata": {},
     "output_type": "execute_result"
    }
   ],
   "source": [
    "df2.columns"
   ]
  },
  {
   "cell_type": "code",
   "execution_count": 246,
   "metadata": {},
   "outputs": [],
   "source": [
    "df_key_0629 = df_key_v1[['bibcode','key_0629']]\n",
    "df_key_0629.to_csv('/Users/yanfeiwang/Downloads/df_key_0629.csv', index=False)"
   ]
  }
 ],
 "metadata": {
  "kernelspec": {
   "display_name": "Python 3",
   "language": "python",
   "name": "python3"
  },
  "language_info": {
   "codemirror_mode": {
    "name": "ipython",
    "version": 3
   },
   "file_extension": ".py",
   "mimetype": "text/x-python",
   "name": "python",
   "nbconvert_exporter": "python",
   "pygments_lexer": "ipython3",
   "version": "3.7.3"
  }
 },
 "nbformat": 4,
 "nbformat_minor": 2
}
