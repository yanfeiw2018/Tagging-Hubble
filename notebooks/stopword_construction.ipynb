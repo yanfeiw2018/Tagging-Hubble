{
 "cells": [
  {
   "cell_type": "code",
   "execution_count": 2,
   "metadata": {},
   "outputs": [
    {
     "data": {
      "text/plain": [
       "160"
      ]
     },
     "execution_count": 2,
     "metadata": {},
     "output_type": "execute_result"
    }
   ],
   "source": [
    "prebig_stop = ['discuss','obtain','detect', 'observe','estimate','measure', 'property', 'one', 'however', 'fit',\n",
    "'new','similar','provide','value', 'however', 'fit', 'method', 'include', 'determine', 'three', \n",
    "'red', 'color', 'kpc', 'jet','lens''compare',   'strong', 'first',  'measurement',  'associate', \n",
    "'observed', 'host', 'form', 'indicate',   'well', 'fraction', 'limit','first','high','record','provide',\n",
    "'support','previously','infer','unlikely','represent','paper','determine','provide',\n",
    "'account', 'promising','implication','significant', 'previous', 'would','describe', \n",
    "  'confirm', 'total',  'likely', 'number', 'type', 'appear','local',  'discuss', 'possible', 'good', \n",
    "    'available' , 'reveal',  'resolve',   'imply', 'operate', 'program', 'group','allow','obtain',   \n",
    "    'investigate','expect',  'could', 'yield','rise','contain','originate','probably',\n",
    "     'consistent', 'detect', 'survey', 'may',  'observe',  'derive', 'estimate',  'measure', \n",
    "    'new', 'similar', 'operate', 'et', 'al','generally', 'collaboration', 'often','offer','occur',\n",
    "     'compare',  'provide',  'strong', 'first', 'observed',  'indicate', 'measurement', 'well', 'different',\n",
    "     'produce', 'use', 'permit', 'peak', 'significantly', 'case', 'us','','know',\n",
    "    'determine', 'associate', 'however',  'institute', 'explain', 'offer','occur','often',\n",
    "    'university',   'include', 'present', 'find','drive','experimental', 'necessary','noise',\n",
    "    'significant', 'see', 'previous', 'analyze','set','seek','obvious','namely','need','owe', \n",
    "     'likely',  'confirm', 'context', 'appear', 'discuss', 'possible', 'national','explain',\n",
    "    'reveal', 'university', '1','2','3','4','5','6','7','8','9','0','one','two','three','four','five',\n",
    "     'eg',  'author',   'aka',  'could', 'require',   'six','seven','eight','nine','zero','report', 'observation', 'result','hubble',\n",
    "       'potentially','observationally', 'expect',      'space', 'datum', 'method', 'analysis', 'telescope','agreement','etal','therefore','combine',\n",
    "    'observatory', 'presence',  'allow','sub', 'sup', 'find', 'use', 'present', 'show', 'evidence',\n",
    "'fill','fig',    'promising', 'datum','find','use','sample','suggest','know','significantly',]\n",
    "pre2_stop = list(set(prebig_stop))\n",
    "len(pre2_stop)\n"
   ]
  },
  {
   "cell_type": "code",
   "execution_count": 99,
   "metadata": {},
   "outputs": [
    {
     "data": {
      "text/plain": [
       "291"
      ]
     },
     "execution_count": 99,
     "metadata": {},
     "output_type": "execute_result"
    }
   ],
   "source": [
    "postbig_stop = ['star', 'structure','analysis', 'stellar','galaxy', 'gas','formation', 'source','consistent', 'evolution','respect','test','problem','visible','point','case','publish','analyze','extended','view',\n",
    "          'density','object', 'age','region', 'base', 'field', 'large',  'system', 'two', 'disk','close','early','propose',\n",
    "    'population', 'distribution', 'velocity', 'object', 'low', 'density','spectra','component', 'process',\n",
    "  'theory',   'precise', 'big', 'constrain', 'couple', 'tightly', 'level', 'yield','set','weak','change','comparable','individual', 'motion','position','least',    'range', 'absorption','radio', 'property', 'ratio', 'evolution', 'time', 'massive','flux','km', 'host','cm',\n",
    "     'component', 'range', 'dust', 'ratio', 'absorption','population', 'mass', 'model','feature','dust','origin', 'physical',  \n",
    "  'hour',       'emission', 'line', 'mechanism','image','system', 'spectroscopy','connection','imaging', 'high', 'lt','broad',\n",
    "    'distribution', 'four', 'camera', 'massive', 'basis', 'time','dwarf', 'central','abundance', 'type', 'dark', 'dominate','rather',\n",
    " 'analysis', 'rate', 'structure', 'central',  'function', 'cloud','flux', 'bright','uv','profile','distance', 'nucleus',\n",
    "        'independent', 'leverage', 'researcher','invert', 'nature', 'spectral','environment', 'comparison', 'spatial', 'difference' ,'luminous', 'hot', \n",
    "    'distance', 'galactic', 'spectral', 'small','deep','agn','fraction', 'limit', 'galactic', 'spectrum', 'light', 'different',\n",
    "        'reside', 'growth','bright', 'region', 'heat', 'require',    'solar',  'elliptical', 'order', 'correlation', 'constrain', 'forest','structure','cool', 'medium',\n",
    "        'bright', 'identify','parameter', 'young','see','surface', 'magnitude', 'binary', 'resolution','continuum',\n",
    "   'narrow', 'behavior',  'contain', 'calibrate',     'relation', 'size', 'candidate','wind', 'morphology', 'spectroscopic','effect', 'detection','observatory'\n",
    "        'table',  'note','normal', 'great',   'ray','centre','spectra',   'function','band', 'core', 'outflow', 'radius', 'globular', 'temperature','wavelength', 'blue', 'merger',\n",
    "      'simulation','independent', 'increase','halo', 'faint', 'factor', 'scale', 'nebula', 'presence','energy', 'nuclear','combine',\n",
    "'depth', 'light','compact','accretion', 'center','spiral', 'molecular','cluster','nucleus', 'uv', 'one', 'age', \n",
    "          'dwarf', 'profile','deep', 'nasa', 'fraction', 'small', 'limit',  'feature','light', 'solar', 'contract', 'abundance',\n",
    " 'respectively','representative',  'mostly',    'established','call', 'system', 'young', 'inner', 'dispersion', 'main','wide', 'companion', 'variation', 'less', 'gyr', \n",
    "         'color', 'red', 'form', 'identify', 'science', 'nasaesa', 'fit', 'spectrum', 'three', 'br', 'value','method',\n",
    "     'probe', 'specie', 'behavior','apparent','influence',   'inc', 'lens', 'surface', 'association', 'jet', 'parameter','continuum', 'increase','matter',\n",
    "          'size', 'magnitude', 'globular', 'total', 'resolution', 'binary','research', 'relation', 'local', 'number', \n",
    "          'candidate', 'camera', 'astronomy', 'spectroscopic', 'core', 'outflow', 'good','radius', 'effect', 'blue','merger',\n",
    "      'obvious','observational','observable','numerous',  'pair', 'profile','nature','evident',        'band', 'detection', 'wind', 'ring', 'average', 'radial', 'old', 'nearby', 'spectroscopy', 'extinction', 'mean',\n",
    "     'universe','perform', 'observer', 'ratio',  'correspond','project',    'nuclear', 'imaging', 'hole','temperature', 'faint', 'sn', 'brightness', 'energy', 'factor', 'wavelength', \n",
    "    'mean', 'complement','role','direct','ongoing','obvious',  'approximately',        'al', 'scale', 'co', 'resolve','giant', 'center',   'recent', 'yr', 'extend', 'part','predict', 'diffuse', \n",
    "                'cosmological', 'time', 'background','interest','source', 'future', 'principal', 'newly','ordinary','associated','hour','long','ubiquity','width','clearly','term','relative','extent',\n",
    "           'compact', 'black',  'spiral', 'active', 'accretion', 'molecular','i','ii','iii','iv','v','vi','vii','viii','ix']\n",
    "post2_stop = list(set(postbig_stop))\n",
    "len(post2_stop)"
   ]
  },
  {
   "cell_type": "code",
   "execution_count": 5,
   "metadata": {},
   "outputs": [],
   "source": [
    "with open('pre2_stop.txt', 'w') as filehandle:  \n",
    "    for listitem in pre2_stop:\n",
    "        filehandle.write('%s\\n' % listitem)"
   ]
  },
  {
   "cell_type": "code",
   "execution_count": 55,
   "metadata": {},
   "outputs": [
    {
     "data": {
      "text/plain": [
       "160"
      ]
     },
     "execution_count": 55,
     "metadata": {},
     "output_type": "execute_result"
    }
   ],
   "source": [
    "places = []\n",
    "with open('pre2_stop.txt', 'r') as filehandle:  \n",
    "    for line in filehandle:\n",
    "        currentPlace = line[:-1]\n",
    "        places.append(currentPlace)\n",
    "        \n",
    "len(places)"
   ]
  },
  {
   "cell_type": "code",
   "execution_count": 100,
   "metadata": {},
   "outputs": [],
   "source": [
    "with open('post2_stop.txt', 'w') as filehandle:  \n",
    "    for listitem in post2_stop:\n",
    "        filehandle.write('%s\\n' % listitem)"
   ]
  },
  {
   "cell_type": "code",
   "execution_count": 57,
   "metadata": {},
   "outputs": [
    {
     "data": {
      "text/plain": [
       "281"
      ]
     },
     "execution_count": 57,
     "metadata": {},
     "output_type": "execute_result"
    }
   ],
   "source": [
    "places = []\n",
    "\n",
    "with open('post2_stop.txt', 'r') as filehandle:  \n",
    "    for line in filehandle:\n",
    "        currentPlace = line[:-1]\n",
    "        places.append(currentPlace)\n",
    "        \n",
    "len(places)"
   ]
  }
 ],
 "metadata": {
  "kernelspec": {
   "display_name": "Python 3",
   "language": "python",
   "name": "python3"
  },
  "language_info": {
   "codemirror_mode": {
    "name": "ipython",
    "version": 3
   },
   "file_extension": ".py",
   "mimetype": "text/x-python",
   "name": "python",
   "nbconvert_exporter": "python",
   "pygments_lexer": "ipython3",
   "version": "3.7.3"
  }
 },
 "nbformat": 4,
 "nbformat_minor": 2
}
